{
  "cells": [
    {
      "cell_type": "markdown",
      "metadata": {
        "id": "hOqGGba8aQ9o"
      },
      "source": [
        "# Exercise 1\n",
        "- Special thanks to: https://github.com/justmarkham for sharing the dataset and materials.\n",
        "- Data is from https://www.kaggle.com/openfoodfacts/world-food-facts/data\n"
      ]
    },
    {
      "cell_type": "markdown",
      "metadata": {
        "id": "8P7T0o8waQ9r"
      },
      "source": [
        "### Step 1. Read the data using Pandas"
      ]
    },
    {
      "cell_type": "code",
      "execution_count": 2,
      "metadata": {
        "collapsed": true,
        "jupyter": {
          "outputs_hidden": true
        },
        "id": "6libqsI0aQ9r",
        "outputId": "bdc38c6e-7f1b-4dd2-9eda-c20d9e7b82f0",
        "colab": {
          "base_uri": "https://localhost:8080/"
        }
      },
      "outputs": [
        {
          "output_type": "stream",
          "name": "stderr",
          "text": [
            "<ipython-input-2-0819fe35a513>:3: DtypeWarning: Columns (27,29,38,39,40,49) have mixed types. Specify dtype option on import or set low_memory=False.\n",
            "  df = pandas.read_csv('food2.csv')\n"
          ]
        }
      ],
      "source": [
        "import pandas\n",
        "\n",
        "df = pandas.read_csv('food2.csv')"
      ]
    },
    {
      "cell_type": "markdown",
      "metadata": {
        "id": "B35U2kVdaQ9s"
      },
      "source": [
        "### Step 2. See the first 5 entries"
      ]
    },
    {
      "cell_type": "code",
      "execution_count": 3,
      "metadata": {
        "collapsed": true,
        "jupyter": {
          "outputs_hidden": true
        },
        "id": "UPFgAT5jaQ9t",
        "colab": {
          "base_uri": "https://localhost:8080/",
          "height": 481
        },
        "outputId": "4073439a-8f46-4503-c2e8-b2a83f036dc6"
      },
      "outputs": [
        {
          "output_type": "execute_result",
          "data": {
            "text/plain": [
              "   Unnamed: 0   code                                                url  \\\n",
              "0           0   3087  http://world-en.openfoodfacts.org/product/0000...   \n",
              "1           1   4530  http://world-en.openfoodfacts.org/product/0000...   \n",
              "2           2   4559  http://world-en.openfoodfacts.org/product/0000...   \n",
              "3           3  16087  http://world-en.openfoodfacts.org/product/0000...   \n",
              "4           4  16094  http://world-en.openfoodfacts.org/product/0000...   \n",
              "\n",
              "                      creator   created_t      created_datetime  \\\n",
              "0  openfoodfacts-contributors  1474103866  2016-09-17T09:17:46Z   \n",
              "1             usda-ndb-import  1489069957  2017-03-09T14:32:37Z   \n",
              "2             usda-ndb-import  1489069957  2017-03-09T14:32:37Z   \n",
              "3             usda-ndb-import  1489055731  2017-03-09T10:35:31Z   \n",
              "4             usda-ndb-import  1489055653  2017-03-09T10:34:13Z   \n",
              "\n",
              "   last_modified_t last_modified_datetime                    product_name  \\\n",
              "0       1474103893   2016-09-17T09:18:13Z              Farine de blé noir   \n",
              "1       1489069957   2017-03-09T14:32:37Z  Banana Chips Sweetened (Whole)   \n",
              "2       1489069957   2017-03-09T14:32:37Z                         Peanuts   \n",
              "3       1489055731   2017-03-09T10:35:31Z          Organic Salted Nut Mix   \n",
              "4       1489055653   2017-03-09T10:34:13Z                 Organic Polenta   \n",
              "\n",
              "  generic_name  ... fruits-vegetables-nuts_100g  \\\n",
              "0          NaN  ...                         NaN   \n",
              "1          NaN  ...                         NaN   \n",
              "2          NaN  ...                         NaN   \n",
              "3          NaN  ...                         NaN   \n",
              "4          NaN  ...                         NaN   \n",
              "\n",
              "  fruits-vegetables-nuts-estimate_100g collagen-meat-protein-ratio_100g  \\\n",
              "0                                  NaN                              NaN   \n",
              "1                                  NaN                              NaN   \n",
              "2                                  NaN                              NaN   \n",
              "3                                  NaN                              NaN   \n",
              "4                                  NaN                              NaN   \n",
              "\n",
              "  cocoa_100g chlorophyl_100g carbon-footprint_100g nutrition-score-fr_100g  \\\n",
              "0        NaN             NaN                   NaN                     NaN   \n",
              "1        NaN             NaN                   NaN                    14.0   \n",
              "2        NaN             NaN                   NaN                     0.0   \n",
              "3        NaN             NaN                   NaN                    12.0   \n",
              "4        NaN             NaN                   NaN                     NaN   \n",
              "\n",
              "  nutrition-score-uk_100g glycemic-index_100g water-hardness_100g  \n",
              "0                     NaN                 NaN                 NaN  \n",
              "1                    14.0                 NaN                 NaN  \n",
              "2                     0.0                 NaN                 NaN  \n",
              "3                    12.0                 NaN                 NaN  \n",
              "4                     NaN                 NaN                 NaN  \n",
              "\n",
              "[5 rows x 164 columns]"
            ],
            "text/html": [
              "\n",
              "  <div id=\"df-54865ae9-cc00-442f-9107-aa2b8735e037\" class=\"colab-df-container\">\n",
              "    <div>\n",
              "<style scoped>\n",
              "    .dataframe tbody tr th:only-of-type {\n",
              "        vertical-align: middle;\n",
              "    }\n",
              "\n",
              "    .dataframe tbody tr th {\n",
              "        vertical-align: top;\n",
              "    }\n",
              "\n",
              "    .dataframe thead th {\n",
              "        text-align: right;\n",
              "    }\n",
              "</style>\n",
              "<table border=\"1\" class=\"dataframe\">\n",
              "  <thead>\n",
              "    <tr style=\"text-align: right;\">\n",
              "      <th></th>\n",
              "      <th>Unnamed: 0</th>\n",
              "      <th>code</th>\n",
              "      <th>url</th>\n",
              "      <th>creator</th>\n",
              "      <th>created_t</th>\n",
              "      <th>created_datetime</th>\n",
              "      <th>last_modified_t</th>\n",
              "      <th>last_modified_datetime</th>\n",
              "      <th>product_name</th>\n",
              "      <th>generic_name</th>\n",
              "      <th>...</th>\n",
              "      <th>fruits-vegetables-nuts_100g</th>\n",
              "      <th>fruits-vegetables-nuts-estimate_100g</th>\n",
              "      <th>collagen-meat-protein-ratio_100g</th>\n",
              "      <th>cocoa_100g</th>\n",
              "      <th>chlorophyl_100g</th>\n",
              "      <th>carbon-footprint_100g</th>\n",
              "      <th>nutrition-score-fr_100g</th>\n",
              "      <th>nutrition-score-uk_100g</th>\n",
              "      <th>glycemic-index_100g</th>\n",
              "      <th>water-hardness_100g</th>\n",
              "    </tr>\n",
              "  </thead>\n",
              "  <tbody>\n",
              "    <tr>\n",
              "      <th>0</th>\n",
              "      <td>0</td>\n",
              "      <td>3087</td>\n",
              "      <td>http://world-en.openfoodfacts.org/product/0000...</td>\n",
              "      <td>openfoodfacts-contributors</td>\n",
              "      <td>1474103866</td>\n",
              "      <td>2016-09-17T09:17:46Z</td>\n",
              "      <td>1474103893</td>\n",
              "      <td>2016-09-17T09:18:13Z</td>\n",
              "      <td>Farine de blé noir</td>\n",
              "      <td>NaN</td>\n",
              "      <td>...</td>\n",
              "      <td>NaN</td>\n",
              "      <td>NaN</td>\n",
              "      <td>NaN</td>\n",
              "      <td>NaN</td>\n",
              "      <td>NaN</td>\n",
              "      <td>NaN</td>\n",
              "      <td>NaN</td>\n",
              "      <td>NaN</td>\n",
              "      <td>NaN</td>\n",
              "      <td>NaN</td>\n",
              "    </tr>\n",
              "    <tr>\n",
              "      <th>1</th>\n",
              "      <td>1</td>\n",
              "      <td>4530</td>\n",
              "      <td>http://world-en.openfoodfacts.org/product/0000...</td>\n",
              "      <td>usda-ndb-import</td>\n",
              "      <td>1489069957</td>\n",
              "      <td>2017-03-09T14:32:37Z</td>\n",
              "      <td>1489069957</td>\n",
              "      <td>2017-03-09T14:32:37Z</td>\n",
              "      <td>Banana Chips Sweetened (Whole)</td>\n",
              "      <td>NaN</td>\n",
              "      <td>...</td>\n",
              "      <td>NaN</td>\n",
              "      <td>NaN</td>\n",
              "      <td>NaN</td>\n",
              "      <td>NaN</td>\n",
              "      <td>NaN</td>\n",
              "      <td>NaN</td>\n",
              "      <td>14.0</td>\n",
              "      <td>14.0</td>\n",
              "      <td>NaN</td>\n",
              "      <td>NaN</td>\n",
              "    </tr>\n",
              "    <tr>\n",
              "      <th>2</th>\n",
              "      <td>2</td>\n",
              "      <td>4559</td>\n",
              "      <td>http://world-en.openfoodfacts.org/product/0000...</td>\n",
              "      <td>usda-ndb-import</td>\n",
              "      <td>1489069957</td>\n",
              "      <td>2017-03-09T14:32:37Z</td>\n",
              "      <td>1489069957</td>\n",
              "      <td>2017-03-09T14:32:37Z</td>\n",
              "      <td>Peanuts</td>\n",
              "      <td>NaN</td>\n",
              "      <td>...</td>\n",
              "      <td>NaN</td>\n",
              "      <td>NaN</td>\n",
              "      <td>NaN</td>\n",
              "      <td>NaN</td>\n",
              "      <td>NaN</td>\n",
              "      <td>NaN</td>\n",
              "      <td>0.0</td>\n",
              "      <td>0.0</td>\n",
              "      <td>NaN</td>\n",
              "      <td>NaN</td>\n",
              "    </tr>\n",
              "    <tr>\n",
              "      <th>3</th>\n",
              "      <td>3</td>\n",
              "      <td>16087</td>\n",
              "      <td>http://world-en.openfoodfacts.org/product/0000...</td>\n",
              "      <td>usda-ndb-import</td>\n",
              "      <td>1489055731</td>\n",
              "      <td>2017-03-09T10:35:31Z</td>\n",
              "      <td>1489055731</td>\n",
              "      <td>2017-03-09T10:35:31Z</td>\n",
              "      <td>Organic Salted Nut Mix</td>\n",
              "      <td>NaN</td>\n",
              "      <td>...</td>\n",
              "      <td>NaN</td>\n",
              "      <td>NaN</td>\n",
              "      <td>NaN</td>\n",
              "      <td>NaN</td>\n",
              "      <td>NaN</td>\n",
              "      <td>NaN</td>\n",
              "      <td>12.0</td>\n",
              "      <td>12.0</td>\n",
              "      <td>NaN</td>\n",
              "      <td>NaN</td>\n",
              "    </tr>\n",
              "    <tr>\n",
              "      <th>4</th>\n",
              "      <td>4</td>\n",
              "      <td>16094</td>\n",
              "      <td>http://world-en.openfoodfacts.org/product/0000...</td>\n",
              "      <td>usda-ndb-import</td>\n",
              "      <td>1489055653</td>\n",
              "      <td>2017-03-09T10:34:13Z</td>\n",
              "      <td>1489055653</td>\n",
              "      <td>2017-03-09T10:34:13Z</td>\n",
              "      <td>Organic Polenta</td>\n",
              "      <td>NaN</td>\n",
              "      <td>...</td>\n",
              "      <td>NaN</td>\n",
              "      <td>NaN</td>\n",
              "      <td>NaN</td>\n",
              "      <td>NaN</td>\n",
              "      <td>NaN</td>\n",
              "      <td>NaN</td>\n",
              "      <td>NaN</td>\n",
              "      <td>NaN</td>\n",
              "      <td>NaN</td>\n",
              "      <td>NaN</td>\n",
              "    </tr>\n",
              "  </tbody>\n",
              "</table>\n",
              "<p>5 rows × 164 columns</p>\n",
              "</div>\n",
              "    <div class=\"colab-df-buttons\">\n",
              "\n",
              "  <div class=\"colab-df-container\">\n",
              "    <button class=\"colab-df-convert\" onclick=\"convertToInteractive('df-54865ae9-cc00-442f-9107-aa2b8735e037')\"\n",
              "            title=\"Convert this dataframe to an interactive table.\"\n",
              "            style=\"display:none;\">\n",
              "\n",
              "  <svg xmlns=\"http://www.w3.org/2000/svg\" height=\"24px\" viewBox=\"0 -960 960 960\">\n",
              "    <path d=\"M120-120v-720h720v720H120Zm60-500h600v-160H180v160Zm220 220h160v-160H400v160Zm0 220h160v-160H400v160ZM180-400h160v-160H180v160Zm440 0h160v-160H620v160ZM180-180h160v-160H180v160Zm440 0h160v-160H620v160Z\"/>\n",
              "  </svg>\n",
              "    </button>\n",
              "\n",
              "  <style>\n",
              "    .colab-df-container {\n",
              "      display:flex;\n",
              "      gap: 12px;\n",
              "    }\n",
              "\n",
              "    .colab-df-convert {\n",
              "      background-color: #E8F0FE;\n",
              "      border: none;\n",
              "      border-radius: 50%;\n",
              "      cursor: pointer;\n",
              "      display: none;\n",
              "      fill: #1967D2;\n",
              "      height: 32px;\n",
              "      padding: 0 0 0 0;\n",
              "      width: 32px;\n",
              "    }\n",
              "\n",
              "    .colab-df-convert:hover {\n",
              "      background-color: #E2EBFA;\n",
              "      box-shadow: 0px 1px 2px rgba(60, 64, 67, 0.3), 0px 1px 3px 1px rgba(60, 64, 67, 0.15);\n",
              "      fill: #174EA6;\n",
              "    }\n",
              "\n",
              "    .colab-df-buttons div {\n",
              "      margin-bottom: 4px;\n",
              "    }\n",
              "\n",
              "    [theme=dark] .colab-df-convert {\n",
              "      background-color: #3B4455;\n",
              "      fill: #D2E3FC;\n",
              "    }\n",
              "\n",
              "    [theme=dark] .colab-df-convert:hover {\n",
              "      background-color: #434B5C;\n",
              "      box-shadow: 0px 1px 3px 1px rgba(0, 0, 0, 0.15);\n",
              "      filter: drop-shadow(0px 1px 2px rgba(0, 0, 0, 0.3));\n",
              "      fill: #FFFFFF;\n",
              "    }\n",
              "  </style>\n",
              "\n",
              "    <script>\n",
              "      const buttonEl =\n",
              "        document.querySelector('#df-54865ae9-cc00-442f-9107-aa2b8735e037 button.colab-df-convert');\n",
              "      buttonEl.style.display =\n",
              "        google.colab.kernel.accessAllowed ? 'block' : 'none';\n",
              "\n",
              "      async function convertToInteractive(key) {\n",
              "        const element = document.querySelector('#df-54865ae9-cc00-442f-9107-aa2b8735e037');\n",
              "        const dataTable =\n",
              "          await google.colab.kernel.invokeFunction('convertToInteractive',\n",
              "                                                    [key], {});\n",
              "        if (!dataTable) return;\n",
              "\n",
              "        const docLinkHtml = 'Like what you see? Visit the ' +\n",
              "          '<a target=\"_blank\" href=https://colab.research.google.com/notebooks/data_table.ipynb>data table notebook</a>'\n",
              "          + ' to learn more about interactive tables.';\n",
              "        element.innerHTML = '';\n",
              "        dataTable['output_type'] = 'display_data';\n",
              "        await google.colab.output.renderOutput(dataTable, element);\n",
              "        const docLink = document.createElement('div');\n",
              "        docLink.innerHTML = docLinkHtml;\n",
              "        element.appendChild(docLink);\n",
              "      }\n",
              "    </script>\n",
              "  </div>\n",
              "\n",
              "\n",
              "<div id=\"df-9337de94-0e2a-4daf-bd5e-dd5ac7458380\">\n",
              "  <button class=\"colab-df-quickchart\" onclick=\"quickchart('df-9337de94-0e2a-4daf-bd5e-dd5ac7458380')\"\n",
              "            title=\"Suggest charts\"\n",
              "            style=\"display:none;\">\n",
              "\n",
              "<svg xmlns=\"http://www.w3.org/2000/svg\" height=\"24px\"viewBox=\"0 0 24 24\"\n",
              "     width=\"24px\">\n",
              "    <g>\n",
              "        <path d=\"M19 3H5c-1.1 0-2 .9-2 2v14c0 1.1.9 2 2 2h14c1.1 0 2-.9 2-2V5c0-1.1-.9-2-2-2zM9 17H7v-7h2v7zm4 0h-2V7h2v10zm4 0h-2v-4h2v4z\"/>\n",
              "    </g>\n",
              "</svg>\n",
              "  </button>\n",
              "\n",
              "<style>\n",
              "  .colab-df-quickchart {\n",
              "      --bg-color: #E8F0FE;\n",
              "      --fill-color: #1967D2;\n",
              "      --hover-bg-color: #E2EBFA;\n",
              "      --hover-fill-color: #174EA6;\n",
              "      --disabled-fill-color: #AAA;\n",
              "      --disabled-bg-color: #DDD;\n",
              "  }\n",
              "\n",
              "  [theme=dark] .colab-df-quickchart {\n",
              "      --bg-color: #3B4455;\n",
              "      --fill-color: #D2E3FC;\n",
              "      --hover-bg-color: #434B5C;\n",
              "      --hover-fill-color: #FFFFFF;\n",
              "      --disabled-bg-color: #3B4455;\n",
              "      --disabled-fill-color: #666;\n",
              "  }\n",
              "\n",
              "  .colab-df-quickchart {\n",
              "    background-color: var(--bg-color);\n",
              "    border: none;\n",
              "    border-radius: 50%;\n",
              "    cursor: pointer;\n",
              "    display: none;\n",
              "    fill: var(--fill-color);\n",
              "    height: 32px;\n",
              "    padding: 0;\n",
              "    width: 32px;\n",
              "  }\n",
              "\n",
              "  .colab-df-quickchart:hover {\n",
              "    background-color: var(--hover-bg-color);\n",
              "    box-shadow: 0 1px 2px rgba(60, 64, 67, 0.3), 0 1px 3px 1px rgba(60, 64, 67, 0.15);\n",
              "    fill: var(--button-hover-fill-color);\n",
              "  }\n",
              "\n",
              "  .colab-df-quickchart-complete:disabled,\n",
              "  .colab-df-quickchart-complete:disabled:hover {\n",
              "    background-color: var(--disabled-bg-color);\n",
              "    fill: var(--disabled-fill-color);\n",
              "    box-shadow: none;\n",
              "  }\n",
              "\n",
              "  .colab-df-spinner {\n",
              "    border: 2px solid var(--fill-color);\n",
              "    border-color: transparent;\n",
              "    border-bottom-color: var(--fill-color);\n",
              "    animation:\n",
              "      spin 1s steps(1) infinite;\n",
              "  }\n",
              "\n",
              "  @keyframes spin {\n",
              "    0% {\n",
              "      border-color: transparent;\n",
              "      border-bottom-color: var(--fill-color);\n",
              "      border-left-color: var(--fill-color);\n",
              "    }\n",
              "    20% {\n",
              "      border-color: transparent;\n",
              "      border-left-color: var(--fill-color);\n",
              "      border-top-color: var(--fill-color);\n",
              "    }\n",
              "    30% {\n",
              "      border-color: transparent;\n",
              "      border-left-color: var(--fill-color);\n",
              "      border-top-color: var(--fill-color);\n",
              "      border-right-color: var(--fill-color);\n",
              "    }\n",
              "    40% {\n",
              "      border-color: transparent;\n",
              "      border-right-color: var(--fill-color);\n",
              "      border-top-color: var(--fill-color);\n",
              "    }\n",
              "    60% {\n",
              "      border-color: transparent;\n",
              "      border-right-color: var(--fill-color);\n",
              "    }\n",
              "    80% {\n",
              "      border-color: transparent;\n",
              "      border-right-color: var(--fill-color);\n",
              "      border-bottom-color: var(--fill-color);\n",
              "    }\n",
              "    90% {\n",
              "      border-color: transparent;\n",
              "      border-bottom-color: var(--fill-color);\n",
              "    }\n",
              "  }\n",
              "</style>\n",
              "\n",
              "  <script>\n",
              "    async function quickchart(key) {\n",
              "      const quickchartButtonEl =\n",
              "        document.querySelector('#' + key + ' button');\n",
              "      quickchartButtonEl.disabled = true;  // To prevent multiple clicks.\n",
              "      quickchartButtonEl.classList.add('colab-df-spinner');\n",
              "      try {\n",
              "        const charts = await google.colab.kernel.invokeFunction(\n",
              "            'suggestCharts', [key], {});\n",
              "      } catch (error) {\n",
              "        console.error('Error during call to suggestCharts:', error);\n",
              "      }\n",
              "      quickchartButtonEl.classList.remove('colab-df-spinner');\n",
              "      quickchartButtonEl.classList.add('colab-df-quickchart-complete');\n",
              "    }\n",
              "    (() => {\n",
              "      let quickchartButtonEl =\n",
              "        document.querySelector('#df-9337de94-0e2a-4daf-bd5e-dd5ac7458380 button');\n",
              "      quickchartButtonEl.style.display =\n",
              "        google.colab.kernel.accessAllowed ? 'block' : 'none';\n",
              "    })();\n",
              "  </script>\n",
              "</div>\n",
              "\n",
              "    </div>\n",
              "  </div>\n"
            ],
            "application/vnd.google.colaboratory.intrinsic+json": {
              "type": "dataframe",
              "variable_name": "df"
            }
          },
          "metadata": {},
          "execution_count": 3
        }
      ],
      "source": [
        "df.head(5)"
      ]
    },
    {
      "cell_type": "markdown",
      "metadata": {
        "id": "YUHz6V-IaQ9t"
      },
      "source": [
        "### Step 3. What is the number of observations in the dataset?"
      ]
    },
    {
      "cell_type": "code",
      "execution_count": 4,
      "metadata": {
        "collapsed": true,
        "jupyter": {
          "outputs_hidden": true
        },
        "id": "KQLkPVElaQ9t",
        "colab": {
          "base_uri": "https://localhost:8080/"
        },
        "outputId": "4e8bc5f0-97fd-4eab-fa19-cf368a2e20f1"
      },
      "outputs": [
        {
          "output_type": "execute_result",
          "data": {
            "text/plain": [
              "20000"
            ]
          },
          "metadata": {},
          "execution_count": 4
        }
      ],
      "source": [
        "df.shape[0]"
      ]
    },
    {
      "cell_type": "markdown",
      "metadata": {
        "id": "C5ndzy0IaQ9t"
      },
      "source": [
        "### Step 4. What is the number of columns in the dataset?"
      ]
    },
    {
      "cell_type": "code",
      "execution_count": 5,
      "metadata": {
        "collapsed": true,
        "jupyter": {
          "outputs_hidden": true
        },
        "id": "2OtM54PCaQ9t",
        "colab": {
          "base_uri": "https://localhost:8080/"
        },
        "outputId": "1aff75d5-4069-4bf5-fb02-64b1b60382e1"
      },
      "outputs": [
        {
          "output_type": "execute_result",
          "data": {
            "text/plain": [
              "164"
            ]
          },
          "metadata": {},
          "execution_count": 5
        }
      ],
      "source": [
        "df.shape[1]"
      ]
    },
    {
      "cell_type": "markdown",
      "metadata": {
        "id": "GWLarBFqaQ9u"
      },
      "source": [
        "### Step 5. Print the name of all the columns."
      ]
    },
    {
      "cell_type": "code",
      "execution_count": 7,
      "metadata": {
        "collapsed": true,
        "jupyter": {
          "outputs_hidden": true
        },
        "id": "Gy9X6k2saQ9v",
        "colab": {
          "base_uri": "https://localhost:8080/"
        },
        "outputId": "b6b6d8da-6bf6-4f94-b727-d125536c1eaf"
      },
      "outputs": [
        {
          "output_type": "stream",
          "name": "stdout",
          "text": [
            "['Unnamed: 0', 'code', 'url', 'creator', 'created_t', 'created_datetime', 'last_modified_t', 'last_modified_datetime', 'product_name', 'generic_name', 'quantity', 'packaging', 'packaging_tags', 'brands', 'brands_tags', 'categories', 'categories_tags', 'categories_en', 'origins', 'origins_tags', 'manufacturing_places', 'manufacturing_places_tags', 'labels', 'labels_tags', 'labels_en', 'emb_codes', 'emb_codes_tags', 'first_packaging_code_geo', 'cities', 'cities_tags', 'purchase_places', 'stores', 'countries', 'countries_tags', 'countries_en', 'ingredients_text', 'allergens', 'allergens_en', 'traces', 'traces_tags', 'traces_en', 'serving_size', 'no_nutriments', 'additives_n', 'additives', 'additives_tags', 'additives_en', 'ingredients_from_palm_oil_n', 'ingredients_from_palm_oil', 'ingredients_from_palm_oil_tags', 'ingredients_that_may_be_from_palm_oil_n', 'ingredients_that_may_be_from_palm_oil', 'ingredients_that_may_be_from_palm_oil_tags', 'nutrition_grade_uk', 'nutrition_grade_fr', 'pnns_groups_1', 'pnns_groups_2', 'states', 'states_tags', 'states_en', 'main_category', 'main_category_en', 'image_url', 'image_small_url', 'energy_100g', 'energy-from-fat_100g', 'fat_100g', 'saturated-fat_100g', '-butyric-acid_100g', '-caproic-acid_100g', '-caprylic-acid_100g', '-capric-acid_100g', '-lauric-acid_100g', '-myristic-acid_100g', '-palmitic-acid_100g', '-stearic-acid_100g', '-arachidic-acid_100g', '-behenic-acid_100g', '-lignoceric-acid_100g', '-cerotic-acid_100g', '-montanic-acid_100g', '-melissic-acid_100g', 'monounsaturated-fat_100g', 'polyunsaturated-fat_100g', 'omega-3-fat_100g', '-alpha-linolenic-acid_100g', '-eicosapentaenoic-acid_100g', '-docosahexaenoic-acid_100g', 'omega-6-fat_100g', '-linoleic-acid_100g', '-arachidonic-acid_100g', '-gamma-linolenic-acid_100g', '-dihomo-gamma-linolenic-acid_100g', 'omega-9-fat_100g', '-oleic-acid_100g', '-elaidic-acid_100g', '-gondoic-acid_100g', '-mead-acid_100g', '-erucic-acid_100g', '-nervonic-acid_100g', 'trans-fat_100g', 'cholesterol_100g', 'carbohydrates_100g', 'sugars_100g', '-sucrose_100g', '-glucose_100g', '-fructose_100g', '-lactose_100g', '-maltose_100g', '-maltodextrins_100g', 'starch_100g', 'polyols_100g', 'fiber_100g', 'proteins_100g', 'casein_100g', 'serum-proteins_100g', 'nucleotides_100g', 'salt_100g', 'sodium_100g', 'alcohol_100g', 'vitamin-a_100g', 'beta-carotene_100g', 'vitamin-d_100g', 'vitamin-e_100g', 'vitamin-k_100g', 'vitamin-c_100g', 'vitamin-b1_100g', 'vitamin-b2_100g', 'vitamin-pp_100g', 'vitamin-b6_100g', 'vitamin-b9_100g', 'folates_100g', 'vitamin-b12_100g', 'biotin_100g', 'pantothenic-acid_100g', 'silica_100g', 'bicarbonate_100g', 'potassium_100g', 'chloride_100g', 'calcium_100g', 'phosphorus_100g', 'iron_100g', 'magnesium_100g', 'zinc_100g', 'copper_100g', 'manganese_100g', 'fluoride_100g', 'selenium_100g', 'chromium_100g', 'molybdenum_100g', 'iodine_100g', 'caffeine_100g', 'taurine_100g', 'ph_100g', 'fruits-vegetables-nuts_100g', 'fruits-vegetables-nuts-estimate_100g', 'collagen-meat-protein-ratio_100g', 'cocoa_100g', 'chlorophyl_100g', 'carbon-footprint_100g', 'nutrition-score-fr_100g', 'nutrition-score-uk_100g', 'glycemic-index_100g', 'water-hardness_100g']\n"
          ]
        }
      ],
      "source": [
        "print(df.columns.to_list())"
      ]
    },
    {
      "cell_type": "markdown",
      "metadata": {
        "id": "uDJBGHh1aQ9w"
      },
      "source": [
        "### Step 6. What is the name of 105th column?"
      ]
    },
    {
      "cell_type": "code",
      "execution_count": 10,
      "metadata": {
        "jupyter": {
          "outputs_hidden": true
        },
        "id": "EdPG1fKLaQ9w",
        "colab": {
          "base_uri": "https://localhost:8080/",
          "height": 36
        },
        "outputId": "20cbd04e-e6e8-416e-df50-0d6413f9c386"
      },
      "outputs": [
        {
          "output_type": "execute_result",
          "data": {
            "text/plain": [
              "'-sucrose_100g'"
            ],
            "application/vnd.google.colaboratory.intrinsic+json": {
              "type": "string"
            }
          },
          "metadata": {},
          "execution_count": 10
        }
      ],
      "source": [
        "df.columns[104]"
      ]
    },
    {
      "cell_type": "markdown",
      "metadata": {
        "id": "in2aCB9taQ9w"
      },
      "source": [
        "### Step 7. What is the type of the observations of the 105th column?"
      ]
    },
    {
      "cell_type": "code",
      "execution_count": 14,
      "metadata": {
        "collapsed": true,
        "jupyter": {
          "outputs_hidden": true
        },
        "id": "nKdzka61aQ9x",
        "colab": {
          "base_uri": "https://localhost:8080/"
        },
        "outputId": "0c965847-c378-4694-f987-841f759d3128"
      },
      "outputs": [
        {
          "output_type": "execute_result",
          "data": {
            "text/plain": [
              "dtype('float64')"
            ]
          },
          "metadata": {},
          "execution_count": 14
        }
      ],
      "source": [
        "df.iloc[:,104].dtype"
      ]
    },
    {
      "cell_type": "markdown",
      "metadata": {
        "id": "5gP5lw1eaQ9x"
      },
      "source": [
        "### Step 8. How is the dataset indexed?"
      ]
    },
    {
      "cell_type": "code",
      "execution_count": 12,
      "metadata": {
        "collapsed": true,
        "jupyter": {
          "outputs_hidden": true
        },
        "id": "QKb5xO8faQ9x",
        "colab": {
          "base_uri": "https://localhost:8080/"
        },
        "outputId": "fefce69c-3939-4589-adae-95a0ee4fc239"
      },
      "outputs": [
        {
          "output_type": "execute_result",
          "data": {
            "text/plain": [
              "RangeIndex(start=0, stop=20000, step=1)"
            ]
          },
          "metadata": {},
          "execution_count": 12
        }
      ],
      "source": [
        "df.index"
      ]
    },
    {
      "cell_type": "markdown",
      "metadata": {
        "id": "rY3SwSlwaQ9x"
      },
      "source": [
        "### Step 9. What is the product name of the 19th observation?"
      ]
    },
    {
      "cell_type": "code",
      "execution_count": 13,
      "metadata": {
        "collapsed": true,
        "jupyter": {
          "outputs_hidden": true
        },
        "id": "YMBEPPLKaQ9y",
        "colab": {
          "base_uri": "https://localhost:8080/",
          "height": 36
        },
        "outputId": "b365c66b-d962-4972-d9e5-835b9f7a59a7"
      },
      "outputs": [
        {
          "output_type": "execute_result",
          "data": {
            "text/plain": [
              "'Lotus Organic Brown Jasmine Rice'"
            ],
            "application/vnd.google.colaboratory.intrinsic+json": {
              "type": "string"
            }
          },
          "metadata": {},
          "execution_count": 13
        }
      ],
      "source": [
        "df.loc[18, 'product_name']"
      ]
    }
  ],
  "metadata": {
    "anaconda-cloud": {},
    "kernelspec": {
      "display_name": "Python 3 (ipykernel)",
      "language": "python",
      "name": "python3"
    },
    "language_info": {
      "codemirror_mode": {
        "name": "ipython",
        "version": 3
      },
      "file_extension": ".py",
      "mimetype": "text/x-python",
      "name": "python",
      "nbconvert_exporter": "python",
      "pygments_lexer": "ipython3",
      "version": "3.11.4"
    },
    "colab": {
      "provenance": []
    }
  },
  "nbformat": 4,
  "nbformat_minor": 0
}
