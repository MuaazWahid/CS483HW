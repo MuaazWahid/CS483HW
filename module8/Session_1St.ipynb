{
 "cells": [
  {
   "cell_type": "markdown",
   "metadata": {},
   "source": [
    "# 1. Different Types of Data"
   ]
  },
  {
   "cell_type": "markdown",
   "metadata": {},
   "source": [
    "1.1 Import the data"
   ]
  },
  {
   "cell_type": "code",
   "execution_count": 5,
   "metadata": {},
   "outputs": [],
   "source": [
    "import pandas as pd\n",
    "import matplotlib as plt\n",
    "df = pd.read_csv('WDIData.csv')"
   ]
  },
  {
   "cell_type": "markdown",
   "metadata": {},
   "source": [
    "1.2 Check the number of rows and columns. \n",
    "Check how many unique indicator names and country codes are available in the data."
   ]
  },
  {
   "cell_type": "code",
   "execution_count": null,
   "metadata": {},
   "outputs": [],
   "source": []
  },
  {
   "cell_type": "markdown",
   "metadata": {},
   "source": [
    "1.3 Create a new dataframe where indicator name is 'Central government debt, total (% of GDP)'\n",
    "\n",
    "Create a new dataframe where indicator name is 'Military expenditure (% of GDP)'"
   ]
  },
  {
   "cell_type": "code",
   "execution_count": null,
   "metadata": {},
   "outputs": [],
   "source": [
    "central_govt_debt = df[df['Indicator Name']=='Central government debt, total (% of GDP)']"
   ]
  },
  {
   "cell_type": "code",
   "execution_count": null,
   "metadata": {},
   "outputs": [],
   "source": [
    "military_expenditure = df[df['Indicator Name']=='Military expenditure (% of GDP)']"
   ]
  },
  {
   "cell_type": "markdown",
   "metadata": {},
   "source": [
    "1.4 Assign the country code as the index for the two dataframes you created earlier.\n",
    "\n",
    "Keep the countries where both columns have non-missing values.\n",
    "\n",
    "Create a histogram for the military expenditure column.\n",
    "\n"
   ]
  },
  {
   "cell_type": "code",
   "execution_count": null,
   "metadata": {},
   "outputs": [],
   "source": [
    "central_govt_debt.index = central_govt_debt['Country Code']"
   ]
  },
  {
   "cell_type": "code",
   "execution_count": null,
   "metadata": {},
   "outputs": [],
   "source": [
    "military_expenditure.index = military_expenditure['Country Code']"
   ]
  },
  {
   "cell_type": "code",
   "execution_count": null,
   "metadata": {},
   "outputs": [],
   "source": [
    "central_govt_debt.head()"
   ]
  },
  {
   "cell_type": "code",
   "execution_count": null,
   "metadata": {},
   "outputs": [],
   "source": [
    "military_exp_2010 = military_expenditure['2010']\n",
    "military_exp_2010 = military_exp_2010[~pd.isnull(military_exp_2010)]"
   ]
  },
  {
   "cell_type": "code",
   "execution_count": null,
   "metadata": {},
   "outputs": [],
   "source": [
    "pd.concat((military_exp_2010, central_govt_debt), axis=1)"
   ]
  },
  {
   "cell_type": "code",
   "execution_count": null,
   "metadata": {},
   "outputs": [],
   "source": [
    "df_2010 = df_2010.loc"
   ]
  },
  {
   "cell_type": "markdown",
   "metadata": {},
   "source": [
    "### 1.1.2 Time Series Data"
   ]
  },
  {
   "cell_type": "code",
   "execution_count": null,
   "metadata": {},
   "outputs": [],
   "source": [
    "central_govt_debt_USA = central_govt_debt[central_govt_debt['Country Code'] == 'USA']"
   ]
  },
  {
   "cell_type": "code",
   "execution_count": null,
   "metadata": {},
   "outputs": [],
   "source": [
    "central_govt_debt_USA"
   ]
  },
  {
   "cell_type": "code",
   "execution_count": null,
   "metadata": {},
   "outputs": [],
   "source": [
    "military_expend_USA = military_expenditure[military_expenditure['Country Code'] == 'USA']\n",
    "military_expend_USA"
   ]
  },
  {
   "cell_type": "code",
   "execution_count": null,
   "metadata": {},
   "outputs": [],
   "source": [
    "df_us = pd.concat((central_govt_debt_USA, military_expend_USA), axis=1)"
   ]
  },
  {
   "cell_type": "code",
   "execution_count": null,
   "metadata": {},
   "outputs": [],
   "source": [
    "df_us.loc['1960':'2010', :]"
   ]
  },
  {
   "cell_type": "code",
   "execution_count": null,
   "metadata": {},
   "outputs": [],
   "source": [
    "index_zero = df"
   ]
  },
  {
   "cell_type": "code",
   "execution_count": null,
   "metadata": {},
   "outputs": [],
   "source": [
    "list(df_us.index)"
   ]
  },
  {
   "cell_type": "code",
   "execution_count": null,
   "metadata": {},
   "outputs": [],
   "source": [
    "indexf = list(df_us.index).index('1960')\n",
    "indexf = list(df_us.index).index('2010')"
   ]
  },
  {
   "cell_type": "code",
   "execution_count": null,
   "metadata": {},
   "outputs": [],
   "source": [
    "df_us2 = df_us.iloc[indexf:indexl+1, :]\n",
    "df_us2.columns = ['Military Exp', 'Federal Debt']\n",
    "df_us2 = df_us2[~df_us2.isnull().any(axis=1)];"
   ]
  },
  {
   "cell_type": "code",
   "execution_count": null,
   "metadata": {},
   "outputs": [],
   "source": [
    "fig, axes = plt.subplots (2, sharex=True)\n",
    "axes[0].set_title('Military Expenditure')\n",
    "df_us2 ['Military Exp'].plot(marker='*', color='b', ax=axes [0])\n",
    "df_us2 ['Federal Debt'].plot(marker='*', color='r', ax=axes [1])"
   ]
  },
  {
   "cell_type": "code",
   "execution_count": null,
   "metadata": {},
   "outputs": [],
   "source": [
    "axes[0].plot(df_us2 ['Military Exp'])\n",
    "axes[1].set_title('Federal Debt')\n",
    "axes[1].plot(df_us2 ['Federal Debt'])\n",
    "axes[1].set_xticklabels (ticks =list(df_us2.index), rotation=45"
   ]
  },
  {
   "cell_type": "markdown",
   "metadata": {},
   "source": [
    "1.5 \n",
    "a. filter the two datasets above for country ode 'USA'\n",
    "\n",
    "b. concatenate  the two series (data for the US) after taking a transpose of them.\n",
    "\n",
    "c. keep the data corresponding to years between 1960 and 2010 (including).\n",
    "\n",
    "d. drop the rows with missing values\n",
    "\n",
    "e. Create plots for the military and government expenditure as a function of time"
   ]
  },
  {
   "cell_type": "code",
   "execution_count": null,
   "metadata": {},
   "outputs": [],
   "source": []
  },
  {
   "cell_type": "markdown",
   "metadata": {
    "tags": []
   },
   "source": [
    "### 1.1.3 Panel Data\n",
    "\n",
    "- Cross sectional\n",
    " - Multiple individuals at one point in time\n",
    "- Time Series\n",
    " - Individual entity over multiple points in time\n",
    "- Panel Data (longitudinal data)\n",
    " - Multiple entities over multiple points in time"
   ]
  },
  {
   "cell_type": "markdown",
   "metadata": {},
   "source": [
    "1.6 create the military expenditure for the following countries between \n",
    "1960 and 2010.\n",
    "\n",
    "The country codes: \n",
    "\n",
    "China: 'CHN'\n",
    "\n",
    "USA:'USA'\n",
    "\n",
    "India:'IND'\n",
    "\n",
    "UK:'GBR'"
   ]
  },
  {
   "cell_type": "code",
   "execution_count": 6,
   "metadata": {},
   "outputs": [],
   "source": [
    "I = 'Indicator Name'\n",
    "M = 'Military Expenditure (% of GDP)'\n",
    "C = 'Country Code'"
   ]
  },
  {
   "cell_type": "code",
   "execution_count": null,
   "metadata": {},
   "outputs": [],
   "source": [
    "df[(df[I]==M) & (df[C]=='CHN')].T.loc ['1960': '2010']\n",
    "chn.fillna(0, inplace=True)\n",
    "chn.columns['China'];"
   ]
  },
  {
   "cell_type": "code",
   "execution_count": null,
   "metadata": {},
   "outputs": [],
   "source": [
    "ind = df[(df[I]==M) & (df [C]=='IND')].T.loc ['1960': '2010']\n",
    "usa = df[(df [I]==M) & (df [C]=='USA')].T.loc['1960':'2010']\n",
    "ind.fillna(0, inplace=True)\n",
    "usa.fillna(0, inplace=True)\n",
    "ind.columns['India']\n",
    "usa.columns['USA']"
   ]
  },
  {
   "cell_type": "code",
   "execution_count": null,
   "metadata": {},
   "outputs": [],
   "source": [
    "plt.figure()\n",
    "chn.plot(marker='*', color='r')\n",
    "ind.plot(marker='*', color='o')\n",
    "usa.plot(marker='*', color='b')\n",
    "plt.legend(['CHN', 'IND', 'USA'])\n",
    "plt.show()"
   ]
  },
  {
   "cell_type": "code",
   "execution_count": null,
   "metadata": {},
   "outputs": [],
   "source": [
    "time series\n",
    "lagged time\n",
    "pd.to_datetime()\n",
    "given lagged version of dataset, run a linear regression model to predict the current period dataset"
   ]
  }
 ],
 "metadata": {
  "kernelspec": {
   "display_name": "Python 3",
   "language": "python",
   "name": "python3"
  },
  "language_info": {
   "codemirror_mode": {
    "name": "ipython",
    "version": 3
   },
   "file_extension": ".py",
   "mimetype": "text/x-python",
   "name": "python",
   "nbconvert_exporter": "python",
   "pygments_lexer": "ipython3",
   "version": "3.7.0"
  }
 },
 "nbformat": 4,
 "nbformat_minor": 4
}
