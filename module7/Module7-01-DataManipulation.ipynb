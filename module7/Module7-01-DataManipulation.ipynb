{
 "cells": [
  {
   "cell_type": "markdown",
   "metadata": {},
   "source": [
    "**Q1 Empty Neighborhoods**\n",
    "We’re given two tables, a users table with demographic information and the neighborhood they live in and a neighborhoods table.\n",
    "\n",
    "Write a query that returns all neighborhoods that have 0 users. "
   ]
  },
  {
   "cell_type": "code",
   "execution_count": 3,
   "metadata": {
    "tags": []
   },
   "outputs": [],
   "source": [
    "import pandas as pd\n",
    "\n",
    "users = pd.read_csv('data/users.csv')\n",
    "neighborhoods = pd.read_csv('data/neighborhoods.csv')"
   ]
  },
  {
   "cell_type": "code",
   "execution_count": 4,
   "metadata": {},
   "outputs": [],
   "source": [
    "user_neig = users[['id', 'neighborhood_id']].merge(neighborhoods, left_on='neighborhood_id', right_on='id', how='right')"
   ]
  },
  {
   "cell_type": "code",
   "execution_count": 5,
   "metadata": {},
   "outputs": [
    {
     "data": {
      "text/html": [
       "<div>\n",
       "<style scoped>\n",
       "    .dataframe tbody tr th:only-of-type {\n",
       "        vertical-align: middle;\n",
       "    }\n",
       "\n",
       "    .dataframe tbody tr th {\n",
       "        vertical-align: top;\n",
       "    }\n",
       "\n",
       "    .dataframe thead th {\n",
       "        text-align: right;\n",
       "    }\n",
       "</style>\n",
       "<table border=\"1\" class=\"dataframe\">\n",
       "  <thead>\n",
       "    <tr style=\"text-align: right;\">\n",
       "      <th></th>\n",
       "      <th>name</th>\n",
       "    </tr>\n",
       "  </thead>\n",
       "  <tbody>\n",
       "    <tr>\n",
       "      <th>9</th>\n",
       "      <td>jtrain</td>\n",
       "    </tr>\n",
       "    <tr>\n",
       "      <th>12</th>\n",
       "      <td>jackraus</td>\n",
       "    </tr>\n",
       "    <tr>\n",
       "      <th>13</th>\n",
       "      <td>fiver</td>\n",
       "    </tr>\n",
       "  </tbody>\n",
       "</table>\n",
       "</div>"
      ],
      "text/plain": [
       "        name\n",
       "9     jtrain\n",
       "12  jackraus\n",
       "13     fiver"
      ]
     },
     "execution_count": 5,
     "metadata": {},
     "output_type": "execute_result"
    }
   ],
   "source": [
    "user_neig[user_neig['neighborhood_id'].isnull()][['name']]"
   ]
  },
  {
   "cell_type": "markdown",
   "metadata": {},
   "source": [
    "**Q2** Given a table of bank transactions with columns id, transaction_value, and created_at representing the date and time for each transaction, write a query to get the last transaction for each day.\n",
    "\n",
    "The output should include the id of the transaction, datetime of the transaction, and the transaction amount. Order the transactions by datetime.\n",
    "\n",
    "Example:\n",
    "\n",
    "Input:\n",
    "\n",
    "bank_transactions table\n",
    "\n",
    "| Column      | Type |\n",
    "| ----------- | ----------- |\n",
    "| id      | INTEGER       |\n",
    "| created_at   | DATETIME      |\n",
    "|transaction_value|FLOAT|\n",
    "\n",
    "\n",
    "Output:\n",
    "\n",
    "| Column      | Type |\n",
    "| ----------- | ----------- |\n",
    "| created_at   | DATETIME      |\n",
    "|transaction_value|FLOAT|\n",
    "| id      | INTEGER       |\n",
    "\n"
   ]
  },
  {
   "cell_type": "code",
   "execution_count": 58,
   "metadata": {
    "tags": []
   },
   "outputs": [],
   "source": [
    "bank_transactions = pd.read_csv('data/bank_transactions.csv')"
   ]
  },
  {
   "cell_type": "code",
   "execution_count": 59,
   "metadata": {},
   "outputs": [
    {
     "data": {
      "text/html": [
       "<div>\n",
       "<style scoped>\n",
       "    .dataframe tbody tr th:only-of-type {\n",
       "        vertical-align: middle;\n",
       "    }\n",
       "\n",
       "    .dataframe tbody tr th {\n",
       "        vertical-align: top;\n",
       "    }\n",
       "\n",
       "    .dataframe thead th {\n",
       "        text-align: right;\n",
       "    }\n",
       "</style>\n",
       "<table border=\"1\" class=\"dataframe\">\n",
       "  <thead>\n",
       "    <tr style=\"text-align: right;\">\n",
       "      <th></th>\n",
       "      <th>created_at</th>\n",
       "      <th>id</th>\n",
       "      <th>transaction_value</th>\n",
       "    </tr>\n",
       "  </thead>\n",
       "  <tbody>\n",
       "    <tr>\n",
       "      <th>0</th>\n",
       "      <td>1/1/2020 2:21</td>\n",
       "      <td>1</td>\n",
       "      <td>45</td>\n",
       "    </tr>\n",
       "    <tr>\n",
       "      <th>1</th>\n",
       "      <td>1/1/2020 1:21</td>\n",
       "      <td>2</td>\n",
       "      <td>-65</td>\n",
       "    </tr>\n",
       "    <tr>\n",
       "      <th>2</th>\n",
       "      <td>1/1/2020 1:14</td>\n",
       "      <td>3</td>\n",
       "      <td>25</td>\n",
       "    </tr>\n",
       "    <tr>\n",
       "      <th>3</th>\n",
       "      <td>1/2/2020 0:11</td>\n",
       "      <td>4</td>\n",
       "      <td>45</td>\n",
       "    </tr>\n",
       "    <tr>\n",
       "      <th>4</th>\n",
       "      <td>1/2/2020 0:12</td>\n",
       "      <td>5</td>\n",
       "      <td>-30</td>\n",
       "    </tr>\n",
       "  </tbody>\n",
       "</table>\n",
       "</div>"
      ],
      "text/plain": [
       "      created_at  id  transaction_value\n",
       "0  1/1/2020 2:21   1                 45\n",
       "1  1/1/2020 1:21   2                -65\n",
       "2  1/1/2020 1:14   3                 25\n",
       "3  1/2/2020 0:11   4                 45\n",
       "4  1/2/2020 0:12   5                -30"
      ]
     },
     "execution_count": 59,
     "metadata": {},
     "output_type": "execute_result"
    }
   ],
   "source": [
    "bank_transactions.head()"
   ]
  },
  {
   "cell_type": "code",
   "execution_count": 60,
   "metadata": {},
   "outputs": [
    {
     "data": {
      "text/plain": [
       "created_at           object\n",
       "id                    int64\n",
       "transaction_value     int64\n",
       "dtype: object"
      ]
     },
     "execution_count": 60,
     "metadata": {},
     "output_type": "execute_result"
    }
   ],
   "source": [
    "bank_transactions.dtypes"
   ]
  },
  {
   "cell_type": "code",
   "execution_count": 61,
   "metadata": {},
   "outputs": [
    {
     "data": {
      "text/plain": [
       "0   2020-01-01 02:21:00\n",
       "1   2020-01-01 01:21:00\n",
       "2   2020-01-01 01:14:00\n",
       "3   2020-01-02 00:11:00\n",
       "4   2020-01-02 00:12:00\n",
       "5   2020-01-02 02:32:00\n",
       "6   2020-01-03 01:30:00\n",
       "7   2020-01-04 01:41:00\n",
       "8   2020-01-04 01:48:00\n",
       "Name: created_at, dtype: datetime64[ns]"
      ]
     },
     "execution_count": 61,
     "metadata": {},
     "output_type": "execute_result"
    }
   ],
   "source": [
    "pd.to_datetime(bank_transactions['created_at'])"
   ]
  },
  {
   "cell_type": "code",
   "execution_count": 62,
   "metadata": {},
   "outputs": [],
   "source": [
    "bank_transactions['created_at'] = pd.to_datetime(bank_transactions['created_at'])"
   ]
  },
  {
   "cell_type": "code",
   "execution_count": 63,
   "metadata": {},
   "outputs": [
    {
     "data": {
      "text/html": [
       "<div>\n",
       "<style scoped>\n",
       "    .dataframe tbody tr th:only-of-type {\n",
       "        vertical-align: middle;\n",
       "    }\n",
       "\n",
       "    .dataframe tbody tr th {\n",
       "        vertical-align: top;\n",
       "    }\n",
       "\n",
       "    .dataframe thead th {\n",
       "        text-align: right;\n",
       "    }\n",
       "</style>\n",
       "<table border=\"1\" class=\"dataframe\">\n",
       "  <thead>\n",
       "    <tr style=\"text-align: right;\">\n",
       "      <th></th>\n",
       "      <th>created_at</th>\n",
       "      <th>id</th>\n",
       "      <th>transaction_value</th>\n",
       "    </tr>\n",
       "  </thead>\n",
       "  <tbody>\n",
       "    <tr>\n",
       "      <th>0</th>\n",
       "      <td>2020-01-01 02:21:00</td>\n",
       "      <td>1</td>\n",
       "      <td>45.0</td>\n",
       "    </tr>\n",
       "    <tr>\n",
       "      <th>1</th>\n",
       "      <td>2020-01-01 01:21:00</td>\n",
       "      <td>2</td>\n",
       "      <td>-65.0</td>\n",
       "    </tr>\n",
       "    <tr>\n",
       "      <th>2</th>\n",
       "      <td>2020-01-01 01:14:00</td>\n",
       "      <td>3</td>\n",
       "      <td>25.0</td>\n",
       "    </tr>\n",
       "    <tr>\n",
       "      <th>3</th>\n",
       "      <td>2020-01-02 00:11:00</td>\n",
       "      <td>4</td>\n",
       "      <td>45.0</td>\n",
       "    </tr>\n",
       "    <tr>\n",
       "      <th>4</th>\n",
       "      <td>2020-01-02 00:12:00</td>\n",
       "      <td>5</td>\n",
       "      <td>-30.0</td>\n",
       "    </tr>\n",
       "    <tr>\n",
       "      <th>5</th>\n",
       "      <td>2020-01-02 02:32:00</td>\n",
       "      <td>6</td>\n",
       "      <td>45.0</td>\n",
       "    </tr>\n",
       "    <tr>\n",
       "      <th>6</th>\n",
       "      <td>2020-01-03 01:30:00</td>\n",
       "      <td>7</td>\n",
       "      <td>-35.0</td>\n",
       "    </tr>\n",
       "    <tr>\n",
       "      <th>7</th>\n",
       "      <td>2020-01-04 01:41:00</td>\n",
       "      <td>8</td>\n",
       "      <td>75.0</td>\n",
       "    </tr>\n",
       "    <tr>\n",
       "      <th>8</th>\n",
       "      <td>2020-01-04 01:48:00</td>\n",
       "      <td>9</td>\n",
       "      <td>40.0</td>\n",
       "    </tr>\n",
       "  </tbody>\n",
       "</table>\n",
       "</div>"
      ],
      "text/plain": [
       "           created_at  id  transaction_value\n",
       "0 2020-01-01 02:21:00   1               45.0\n",
       "1 2020-01-01 01:21:00   2              -65.0\n",
       "2 2020-01-01 01:14:00   3               25.0\n",
       "3 2020-01-02 00:11:00   4               45.0\n",
       "4 2020-01-02 00:12:00   5              -30.0\n",
       "5 2020-01-02 02:32:00   6               45.0\n",
       "6 2020-01-03 01:30:00   7              -35.0\n",
       "7 2020-01-04 01:41:00   8               75.0\n",
       "8 2020-01-04 01:48:00   9               40.0"
      ]
     },
     "execution_count": 63,
     "metadata": {},
     "output_type": "execute_result"
    }
   ],
   "source": [
    "bank_transactions.astype({'id': int, 'transaction_value': float})"
   ]
  },
  {
   "cell_type": "code",
   "execution_count": 64,
   "metadata": {},
   "outputs": [
    {
     "data": {
      "text/plain": [
       "created_at           datetime64[ns]\n",
       "id                            int64\n",
       "transaction_value             int64\n",
       "dtype: object"
      ]
     },
     "execution_count": 64,
     "metadata": {},
     "output_type": "execute_result"
    }
   ],
   "source": [
    "bank_transactions.dtypes"
   ]
  },
  {
   "cell_type": "code",
   "execution_count": 65,
   "metadata": {},
   "outputs": [],
   "source": [
    "bank_transactions['month'] = bank_transactions['created_at'].dt.month"
   ]
  },
  {
   "cell_type": "code",
   "execution_count": 66,
   "metadata": {},
   "outputs": [],
   "source": [
    "bank_transactions['year'] = bank_transactions['created_at'].dt.year"
   ]
  },
  {
   "cell_type": "code",
   "execution_count": 67,
   "metadata": {},
   "outputs": [],
   "source": [
    "bank_transactions['year'] = bank_transactions['created_at'].dt.day"
   ]
  },
  {
   "cell_type": "code",
   "execution_count": 68,
   "metadata": {},
   "outputs": [
    {
     "data": {
      "text/html": [
       "<div>\n",
       "<style scoped>\n",
       "    .dataframe tbody tr th:only-of-type {\n",
       "        vertical-align: middle;\n",
       "    }\n",
       "\n",
       "    .dataframe tbody tr th {\n",
       "        vertical-align: top;\n",
       "    }\n",
       "\n",
       "    .dataframe thead th {\n",
       "        text-align: right;\n",
       "    }\n",
       "</style>\n",
       "<table border=\"1\" class=\"dataframe\">\n",
       "  <thead>\n",
       "    <tr style=\"text-align: right;\">\n",
       "      <th></th>\n",
       "      <th>created_at</th>\n",
       "      <th>id</th>\n",
       "      <th>transaction_value</th>\n",
       "      <th>month</th>\n",
       "      <th>year</th>\n",
       "    </tr>\n",
       "  </thead>\n",
       "  <tbody>\n",
       "    <tr>\n",
       "      <th>0</th>\n",
       "      <td>2020-01-01 02:21:00</td>\n",
       "      <td>1</td>\n",
       "      <td>45</td>\n",
       "      <td>1</td>\n",
       "      <td>1</td>\n",
       "    </tr>\n",
       "    <tr>\n",
       "      <th>1</th>\n",
       "      <td>2020-01-01 01:21:00</td>\n",
       "      <td>2</td>\n",
       "      <td>-65</td>\n",
       "      <td>1</td>\n",
       "      <td>1</td>\n",
       "    </tr>\n",
       "    <tr>\n",
       "      <th>2</th>\n",
       "      <td>2020-01-01 01:14:00</td>\n",
       "      <td>3</td>\n",
       "      <td>25</td>\n",
       "      <td>1</td>\n",
       "      <td>1</td>\n",
       "    </tr>\n",
       "    <tr>\n",
       "      <th>3</th>\n",
       "      <td>2020-01-02 00:11:00</td>\n",
       "      <td>4</td>\n",
       "      <td>45</td>\n",
       "      <td>1</td>\n",
       "      <td>2</td>\n",
       "    </tr>\n",
       "    <tr>\n",
       "      <th>4</th>\n",
       "      <td>2020-01-02 00:12:00</td>\n",
       "      <td>5</td>\n",
       "      <td>-30</td>\n",
       "      <td>1</td>\n",
       "      <td>2</td>\n",
       "    </tr>\n",
       "    <tr>\n",
       "      <th>5</th>\n",
       "      <td>2020-01-02 02:32:00</td>\n",
       "      <td>6</td>\n",
       "      <td>45</td>\n",
       "      <td>1</td>\n",
       "      <td>2</td>\n",
       "    </tr>\n",
       "    <tr>\n",
       "      <th>6</th>\n",
       "      <td>2020-01-03 01:30:00</td>\n",
       "      <td>7</td>\n",
       "      <td>-35</td>\n",
       "      <td>1</td>\n",
       "      <td>3</td>\n",
       "    </tr>\n",
       "    <tr>\n",
       "      <th>7</th>\n",
       "      <td>2020-01-04 01:41:00</td>\n",
       "      <td>8</td>\n",
       "      <td>75</td>\n",
       "      <td>1</td>\n",
       "      <td>4</td>\n",
       "    </tr>\n",
       "    <tr>\n",
       "      <th>8</th>\n",
       "      <td>2020-01-04 01:48:00</td>\n",
       "      <td>9</td>\n",
       "      <td>40</td>\n",
       "      <td>1</td>\n",
       "      <td>4</td>\n",
       "    </tr>\n",
       "  </tbody>\n",
       "</table>\n",
       "</div>"
      ],
      "text/plain": [
       "           created_at  id  transaction_value  month  year\n",
       "0 2020-01-01 02:21:00   1                 45      1     1\n",
       "1 2020-01-01 01:21:00   2                -65      1     1\n",
       "2 2020-01-01 01:14:00   3                 25      1     1\n",
       "3 2020-01-02 00:11:00   4                 45      1     2\n",
       "4 2020-01-02 00:12:00   5                -30      1     2\n",
       "5 2020-01-02 02:32:00   6                 45      1     2\n",
       "6 2020-01-03 01:30:00   7                -35      1     3\n",
       "7 2020-01-04 01:41:00   8                 75      1     4\n",
       "8 2020-01-04 01:48:00   9                 40      1     4"
      ]
     },
     "execution_count": 68,
     "metadata": {},
     "output_type": "execute_result"
    }
   ],
   "source": [
    "bank_transactions"
   ]
  },
  {
   "cell_type": "code",
   "execution_count": 71,
   "metadata": {},
   "outputs": [
    {
     "data": {
      "text/html": [
       "<div>\n",
       "<style scoped>\n",
       "    .dataframe tbody tr th:only-of-type {\n",
       "        vertical-align: middle;\n",
       "    }\n",
       "\n",
       "    .dataframe tbody tr th {\n",
       "        vertical-align: top;\n",
       "    }\n",
       "\n",
       "    .dataframe thead th {\n",
       "        text-align: right;\n",
       "    }\n",
       "</style>\n",
       "<table border=\"1\" class=\"dataframe\">\n",
       "  <thead>\n",
       "    <tr style=\"text-align: right;\">\n",
       "      <th></th>\n",
       "      <th></th>\n",
       "      <th></th>\n",
       "      <th>id</th>\n",
       "      <th>created_at</th>\n",
       "      <th>transaction_value</th>\n",
       "    </tr>\n",
       "    <tr>\n",
       "      <th>year</th>\n",
       "      <th>month</th>\n",
       "      <th></th>\n",
       "      <th></th>\n",
       "      <th></th>\n",
       "      <th></th>\n",
       "    </tr>\n",
       "  </thead>\n",
       "  <tbody>\n",
       "    <tr>\n",
       "      <th>4</th>\n",
       "      <th>1</th>\n",
       "      <th>8</th>\n",
       "      <td>9</td>\n",
       "      <td>2020-01-04 01:48:00</td>\n",
       "      <td>40</td>\n",
       "    </tr>\n",
       "  </tbody>\n",
       "</table>\n",
       "</div>"
      ],
      "text/plain": [
       "              id          created_at  transaction_value\n",
       "year month                                             \n",
       "4    1     8   9 2020-01-04 01:48:00                 40"
      ]
     },
     "execution_count": 71,
     "metadata": {},
     "output_type": "execute_result"
    }
   ],
   "source": [
    "bank_transactions.groupby(['year', 'month'])[['id', 'created_at', 'transaction_value']].apply(\n",
    "    lambda x: x.sort_values(by='created_at')).tail(1)"
   ]
  },
  {
   "cell_type": "markdown",
   "metadata": {},
   "source": [
    "**Q3** Given three tables, representing customer transactions and customer attributes:\n",
    "\n",
    "Write a query to get the average order value by gender.\n",
    "\n",
    "Note: We’re looking at the average order value by users that have ever placed an order. Additionally, please round your answer to two decimal places.\n",
    "\n",
    "Example:\n",
    "\n",
    "Input:\n",
    "\n",
    "transactions table\n",
    "\n",
    "| Column      | Type |\n",
    "| ----------- | ----------- |\n",
    "| id      | INTEGER       |\n",
    "|user_id|INTEGER|\n",
    "| created_at   | DATETIME   |\n",
    "|product_id|INTEGER|\n",
    "|quantity|INTEGER|\n",
    "\n",
    "\n",
    "users2 table\n",
    "\n",
    "| Column      | Type |\n",
    "| ----------- | ----------- |\n",
    "| id      | INTEGER       |\n",
    "|name|VARCHAR|\n",
    "|sex|VARCHAR|\n",
    "\n",
    "products table\n",
    "\n",
    "| Column      | Type |\n",
    "| ----------- | ----------- |\n",
    "| id      | INTEGER       |\n",
    "|name|VARCHAR|\n",
    "|price|FLOAT|\n",
    "\n",
    "Output:\n",
    "\n",
    "| Column      | Type |\n",
    "| ----------- | ----------- |\n",
    "|sex|VARCHAR|\n",
    "|aov|FLOAT|\n"
   ]
  },
  {
   "cell_type": "code",
   "execution_count": 19,
   "metadata": {
    "tags": []
   },
   "outputs": [],
   "source": [
    "transactions = pd.read_csv('data/transactions.csv')\n",
    "users2 = pd.read_csv('data/users2.csv')\n",
    "products = pd.read_csv('data/products.csv')"
   ]
  },
  {
   "cell_type": "code",
   "execution_count": 20,
   "metadata": {},
   "outputs": [],
   "source": [
    "transactions['created_at'] = pd.to_datetime(transactions['created_at'])"
   ]
  },
  {
   "cell_type": "code",
   "execution_count": 21,
   "metadata": {},
   "outputs": [
    {
     "data": {
      "text/plain": [
       "created_at    datetime64[ns]\n",
       "id                     int64\n",
       "product_id             int64\n",
       "quantity               int64\n",
       "user_id                int64\n",
       "dtype: object"
      ]
     },
     "execution_count": 21,
     "metadata": {},
     "output_type": "execute_result"
    }
   ],
   "source": [
    "transactions.dtypes"
   ]
  },
  {
   "cell_type": "code",
   "execution_count": 22,
   "metadata": {},
   "outputs": [
    {
     "data": {
      "text/plain": [
       "id         int64\n",
       "name      object\n",
       "price    float64\n",
       "dtype: object"
      ]
     },
     "execution_count": 22,
     "metadata": {},
     "output_type": "execute_result"
    }
   ],
   "source": [
    "users2.dtypes\n",
    "products.dtypes"
   ]
  },
  {
   "cell_type": "code",
   "execution_count": 23,
   "metadata": {},
   "outputs": [],
   "source": [
    "products = products.astype({'id': int, 'name': str, 'price': float})"
   ]
  },
  {
   "cell_type": "code",
   "execution_count": 24,
   "metadata": {},
   "outputs": [
    {
     "data": {
      "text/plain": [
       "id         int64\n",
       "name      object\n",
       "price    float64\n",
       "dtype: object"
      ]
     },
     "execution_count": 24,
     "metadata": {},
     "output_type": "execute_result"
    }
   ],
   "source": [
    "products.dtypes"
   ]
  },
  {
   "cell_type": "code",
   "execution_count": 25,
   "metadata": {},
   "outputs": [],
   "source": [
    "tran_prod = transactions.merge(products, left_on='product_id', right_on='id', how='right')"
   ]
  },
  {
   "cell_type": "code",
   "execution_count": 26,
   "metadata": {},
   "outputs": [
    {
     "data": {
      "text/html": [
       "<div>\n",
       "<style scoped>\n",
       "    .dataframe tbody tr th:only-of-type {\n",
       "        vertical-align: middle;\n",
       "    }\n",
       "\n",
       "    .dataframe tbody tr th {\n",
       "        vertical-align: top;\n",
       "    }\n",
       "\n",
       "    .dataframe thead th {\n",
       "        text-align: right;\n",
       "    }\n",
       "</style>\n",
       "<table border=\"1\" class=\"dataframe\">\n",
       "  <thead>\n",
       "    <tr style=\"text-align: right;\">\n",
       "      <th></th>\n",
       "      <th>created_at</th>\n",
       "      <th>id_x</th>\n",
       "      <th>product_id</th>\n",
       "      <th>quantity</th>\n",
       "      <th>user_id</th>\n",
       "      <th>id_y</th>\n",
       "      <th>name</th>\n",
       "      <th>price</th>\n",
       "    </tr>\n",
       "  </thead>\n",
       "  <tbody>\n",
       "    <tr>\n",
       "      <th>0</th>\n",
       "      <td>2019-01-25</td>\n",
       "      <td>106</td>\n",
       "      <td>1</td>\n",
       "      <td>5</td>\n",
       "      <td>54</td>\n",
       "      <td>1</td>\n",
       "      <td>few local receive</td>\n",
       "      <td>37.32</td>\n",
       "    </tr>\n",
       "    <tr>\n",
       "      <th>1</th>\n",
       "      <td>2019-01-23</td>\n",
       "      <td>104</td>\n",
       "      <td>2</td>\n",
       "      <td>1</td>\n",
       "      <td>53</td>\n",
       "      <td>2</td>\n",
       "      <td>land debate here</td>\n",
       "      <td>24.98</td>\n",
       "    </tr>\n",
       "    <tr>\n",
       "      <th>2</th>\n",
       "      <td>2019-01-19</td>\n",
       "      <td>101</td>\n",
       "      <td>3</td>\n",
       "      <td>3</td>\n",
       "      <td>50</td>\n",
       "      <td>3</td>\n",
       "      <td>dinner suffer truth</td>\n",
       "      <td>175.47</td>\n",
       "    </tr>\n",
       "    <tr>\n",
       "      <th>3</th>\n",
       "      <td>2019-01-23</td>\n",
       "      <td>105</td>\n",
       "      <td>4</td>\n",
       "      <td>3</td>\n",
       "      <td>53</td>\n",
       "      <td>4</td>\n",
       "      <td>sometimes tonight billion</td>\n",
       "      <td>172.00</td>\n",
       "    </tr>\n",
       "    <tr>\n",
       "      <th>4</th>\n",
       "      <td>2019-01-19</td>\n",
       "      <td>100</td>\n",
       "      <td>5</td>\n",
       "      <td>2</td>\n",
       "      <td>50</td>\n",
       "      <td>5</td>\n",
       "      <td>person require analysis</td>\n",
       "      <td>80.00</td>\n",
       "    </tr>\n",
       "  </tbody>\n",
       "</table>\n",
       "</div>"
      ],
      "text/plain": [
       "  created_at  id_x  product_id  quantity  user_id  id_y  \\\n",
       "0 2019-01-25   106           1         5       54     1   \n",
       "1 2019-01-23   104           2         1       53     2   \n",
       "2 2019-01-19   101           3         3       50     3   \n",
       "3 2019-01-23   105           4         3       53     4   \n",
       "4 2019-01-19   100           5         2       50     5   \n",
       "\n",
       "                        name   price  \n",
       "0          few local receive   37.32  \n",
       "1           land debate here   24.98  \n",
       "2        dinner suffer truth  175.47  \n",
       "3  sometimes tonight billion  172.00  \n",
       "4    person require analysis   80.00  "
      ]
     },
     "execution_count": 26,
     "metadata": {},
     "output_type": "execute_result"
    }
   ],
   "source": [
    "tran_prod.head()"
   ]
  },
  {
   "cell_type": "code",
   "execution_count": 27,
   "metadata": {},
   "outputs": [],
   "source": [
    "tran_prod['qp'] = tran_prod['quantity'] * tran_prod['price']"
   ]
  },
  {
   "cell_type": "code",
   "execution_count": 28,
   "metadata": {},
   "outputs": [],
   "source": [
    "tran_prod_user = tran_prod.merge(users2, left_on='user_id', right_on='id', how='right')"
   ]
  },
  {
   "cell_type": "code",
   "execution_count": 29,
   "metadata": {},
   "outputs": [
    {
     "data": {
      "text/html": [
       "<div>\n",
       "<style scoped>\n",
       "    .dataframe tbody tr th:only-of-type {\n",
       "        vertical-align: middle;\n",
       "    }\n",
       "\n",
       "    .dataframe tbody tr th {\n",
       "        vertical-align: top;\n",
       "    }\n",
       "\n",
       "    .dataframe thead th {\n",
       "        text-align: right;\n",
       "    }\n",
       "</style>\n",
       "<table border=\"1\" class=\"dataframe\">\n",
       "  <thead>\n",
       "    <tr style=\"text-align: right;\">\n",
       "      <th></th>\n",
       "      <th>quantity</th>\n",
       "      <th>price</th>\n",
       "    </tr>\n",
       "    <tr>\n",
       "      <th>sex</th>\n",
       "      <th></th>\n",
       "      <th></th>\n",
       "    </tr>\n",
       "  </thead>\n",
       "  <tbody>\n",
       "    <tr>\n",
       "      <th>F</th>\n",
       "      <td>2.600000</td>\n",
       "      <td>26.054</td>\n",
       "    </tr>\n",
       "    <tr>\n",
       "      <th>M</th>\n",
       "      <td>1.833333</td>\n",
       "      <td>107.575</td>\n",
       "    </tr>\n",
       "  </tbody>\n",
       "</table>\n",
       "</div>"
      ],
      "text/plain": [
       "     quantity    price\n",
       "sex                   \n",
       "F    2.600000   26.054\n",
       "M    1.833333  107.575"
      ]
     },
     "execution_count": 29,
     "metadata": {},
     "output_type": "execute_result"
    }
   ],
   "source": [
    "tran_prod_user.groupby(['sex'])[['quantity', 'price']].mean()"
   ]
  },
  {
   "cell_type": "code",
   "execution_count": 30,
   "metadata": {},
   "outputs": [],
   "source": [
    "aov = tran_prod_user.groupby(['sex'])[['qp']].mean()"
   ]
  },
  {
   "cell_type": "markdown",
   "metadata": {},
   "source": [
    "**Q4** Assign the median price to missing price values"
   ]
  },
  {
   "cell_type": "code",
   "execution_count": 31,
   "metadata": {
    "tags": []
   },
   "outputs": [],
   "source": [
    "import numpy as np\n",
    "\n",
    "cheeses = {\"Name\": [\"Bohemian Goat\", \"Central Coast Bleu\",\\\n",
    "                    \"Cowgirl Mozzarella\", \"Cypress Grove Cheddar\",\\\n",
    "                    \"Oakdale Colby\"], \"Price\" : [15.00, None, 30.00, None, 45.00]}"
   ]
  },
  {
   "cell_type": "code",
   "execution_count": 32,
   "metadata": {},
   "outputs": [],
   "source": [
    "df = pd.DataFrame(cheeses)"
   ]
  },
  {
   "cell_type": "code",
   "execution_count": 33,
   "metadata": {},
   "outputs": [],
   "source": [
    "df['Price'] = df['Price'].fillna(df['Price'].median())"
   ]
  },
  {
   "cell_type": "code",
   "execution_count": 34,
   "metadata": {},
   "outputs": [
    {
     "data": {
      "text/plain": [
       "0    15.0\n",
       "1    30.0\n",
       "2    30.0\n",
       "3    30.0\n",
       "4    45.0\n",
       "Name: Price, dtype: float64"
      ]
     },
     "execution_count": 34,
     "metadata": {},
     "output_type": "execute_result"
    }
   ],
   "source": [
    "df['Price'].head()"
   ]
  },
  {
   "cell_type": "markdown",
   "metadata": {},
   "source": [
    "**Q5: Acceptance Rate**: We’re given two tables. friend_requests holds all the friend requests made and friend_accepts is all of the acceptances.\n",
    "\n",
    "Write a query to find the overall acceptance rate of friend requests. Note: Round results to 4 decimal places."
   ]
  },
  {
   "cell_type": "markdown",
   "metadata": {},
   "source": [
    "Example:\n",
    "\n",
    "Input:\n",
    "\n",
    "friend_requests table\n",
    "\n",
    "| Column      | Type |\n",
    "| ----------- | ----------- |\n",
    "| requester_id|INTEGER|\n",
    "|requested_id|INTEGER|\n",
    "|created_at|DATETIME|\n",
    "\n",
    "\n",
    "friend_accepts table\n",
    "\n",
    "| Column      | Type |\n",
    "| ----------- | ----------- |\n",
    "| acceptor_id|INTEGER|\n",
    "|requester_id|INTEGER|\n",
    "|created_at|DATETIME|\n",
    "\n",
    "\n",
    "Output:\n",
    "\n",
    "| Column      | Type |\n",
    "| ----------- | ----------- |\n",
    "| acceptance_rate   | FLOAT     |\n",
    "\n",
    "\n"
   ]
  },
  {
   "cell_type": "code",
   "execution_count": 35,
   "metadata": {
    "tags": []
   },
   "outputs": [],
   "source": [
    "friend_accepts = {\"acceptor_id\":[75, 54, 43],  \"requester_id\": [2,1,5], \n",
    "                   \"created_at\":[\"2020-09-24 00:00:00\",\\\n",
    "                                 \"2020-09-25 00:00:00\",\"2020-09-27 00:00:00\"]}\n",
    "\n",
    "friend_requests={\"requester_id\":[1,2,3,4,5], \n",
    "                \"requested_id\":[54,75,35,24,43],\n",
    "                \"created_at\":[\"2020-09-23 00:00:00\",\\\n",
    "                              \"2020-09-24 00:00:00\",\"2020-09-24 00:00:00\",\n",
    "                              \"2020-09-25 00:00:00\",\"2020-09-26 00:00:00\"]}"
   ]
  },
  {
   "cell_type": "code",
   "execution_count": 36,
   "metadata": {},
   "outputs": [],
   "source": [
    "friends = pd.DataFrame(friend_requests)"
   ]
  },
  {
   "cell_type": "code",
   "execution_count": 37,
   "metadata": {},
   "outputs": [],
   "source": [
    "NA = len(friends) - len(pd.DataFrame(friend_accepts))"
   ]
  },
  {
   "cell_type": "markdown",
   "metadata": {},
   "source": [
    "**Q6: Employee Salaries**"
   ]
  },
  {
   "cell_type": "markdown",
   "metadata": {},
   "source": [
    "Let’s say we have a table representing a company payroll schema.\n",
    "\n",
    "Due to an ETL error, the employees table instead of updating the salaries every year when doing compensation adjustments, did an insert instead. The head of HR still needs the current salary of each employee.\n",
    "\n",
    "Bonus: Write a query to get the current salary for each employee.\n",
    "\n",
    "Note: Assume no duplicate combination of first and last names. (I.E. No two John Smiths)\n",
    "\n",
    "Example:\n",
    "\n",
    "Input:\n",
    "\n",
    "employees table\n",
    "\n",
    "|Column|Type|\n",
    "|------|-------|\n",
    "|id|VARCHAR|\n",
    "|first_name|VARCHAR|\n",
    "|last_name|VARCHAR|\n",
    "|salary|INTEGER|\n",
    "|department_id|INTEGER|\n",
    "\n",
    "Output:\n",
    "\n",
    "|Column|Types|\n",
    "|------|------|\n",
    "|first_name|VARCHAR|\n",
    "|last_name|VARCHAR|\n",
    "|salary|INTEGER|\n"
   ]
  },
  {
   "cell_type": "code",
   "execution_count": 40,
   "metadata": {},
   "outputs": [],
   "source": [
    "employees = pd.read_csv(\"data/employees.csv\")"
   ]
  },
  {
   "cell_type": "code",
   "execution_count": 41,
   "metadata": {},
   "outputs": [],
   "source": [
    "current_salaries = employees.groupby(['first_name', 'last_name'])['salary'].max().reset_index()"
   ]
  },
  {
   "cell_type": "code",
   "execution_count": 42,
   "metadata": {},
   "outputs": [
    {
     "data": {
      "text/html": [
       "<div>\n",
       "<style scoped>\n",
       "    .dataframe tbody tr th:only-of-type {\n",
       "        vertical-align: middle;\n",
       "    }\n",
       "\n",
       "    .dataframe tbody tr th {\n",
       "        vertical-align: top;\n",
       "    }\n",
       "\n",
       "    .dataframe thead th {\n",
       "        text-align: right;\n",
       "    }\n",
       "</style>\n",
       "<table border=\"1\" class=\"dataframe\">\n",
       "  <thead>\n",
       "    <tr style=\"text-align: right;\">\n",
       "      <th></th>\n",
       "      <th>first_name</th>\n",
       "      <th>last_name</th>\n",
       "      <th>salary</th>\n",
       "    </tr>\n",
       "  </thead>\n",
       "  <tbody>\n",
       "    <tr>\n",
       "      <th>0</th>\n",
       "      <td>\"Alfred\"</td>\n",
       "      <td>\"Wong\"</td>\n",
       "      <td>110239.0</td>\n",
       "    </tr>\n",
       "    <tr>\n",
       "      <th>1</th>\n",
       "      <td>\"Alina\"</td>\n",
       "      <td>\"Chu\"</td>\n",
       "      <td>130000.0</td>\n",
       "    </tr>\n",
       "    <tr>\n",
       "      <th>2</th>\n",
       "      <td>\"Anderson\"</td>\n",
       "      <td>\"Ifill\"</td>\n",
       "      <td>100200.0</td>\n",
       "    </tr>\n",
       "    <tr>\n",
       "      <th>3</th>\n",
       "      <td>\"Aretha\"</td>\n",
       "      <td>\"Jenkins\"</td>\n",
       "      <td>333333.0</td>\n",
       "    </tr>\n",
       "    <tr>\n",
       "      <th>4</th>\n",
       "      <td>\"Arvind\"</td>\n",
       "      <td>\"Tuk\"</td>\n",
       "      <td>140000.0</td>\n",
       "    </tr>\n",
       "    <tr>\n",
       "      <th>5</th>\n",
       "      <td>\"August\"</td>\n",
       "      <td>\"Rains\"</td>\n",
       "      <td>300000.0</td>\n",
       "    </tr>\n",
       "    <tr>\n",
       "      <th>6</th>\n",
       "      <td>\"Ben\"</td>\n",
       "      <td>\"Wang\"</td>\n",
       "      <td>99999.0</td>\n",
       "    </tr>\n",
       "    <tr>\n",
       "      <th>7</th>\n",
       "      <td>\"Bill\"</td>\n",
       "      <td>\"Smith\"</td>\n",
       "      <td>175000.0</td>\n",
       "    </tr>\n",
       "    <tr>\n",
       "      <th>8</th>\n",
       "      <td>\"Bob\"</td>\n",
       "      <td>\"Smith\"</td>\n",
       "      <td>1550000.0</td>\n",
       "    </tr>\n",
       "    <tr>\n",
       "      <th>9</th>\n",
       "      <td>\"Chad\"</td>\n",
       "      <td>\"McDaniels\"</td>\n",
       "      <td>64000.0</td>\n",
       "    </tr>\n",
       "    <tr>\n",
       "      <th>10</th>\n",
       "      <td>\"Cynthia\"</td>\n",
       "      <td>\"Sams\"</td>\n",
       "      <td>720192.0</td>\n",
       "    </tr>\n",
       "    <tr>\n",
       "      <th>11</th>\n",
       "      <td>\"Dillon\"</td>\n",
       "      <td>\"Jefferson\"</td>\n",
       "      <td>30000.0</td>\n",
       "    </tr>\n",
       "    <tr>\n",
       "      <th>12</th>\n",
       "      <td>\"Dorothy\"</td>\n",
       "      <td>\"Gall\"</td>\n",
       "      <td>5000000.0</td>\n",
       "    </tr>\n",
       "    <tr>\n",
       "      <th>13</th>\n",
       "      <td>\"Ed\"</td>\n",
       "      <td>\"Winters\"</td>\n",
       "      <td>292314.0</td>\n",
       "    </tr>\n",
       "    <tr>\n",
       "      <th>14</th>\n",
       "      <td>\"Jason\"</td>\n",
       "      <td>\"Joseph\"</td>\n",
       "      <td>100000.0</td>\n",
       "    </tr>\n",
       "    <tr>\n",
       "      <th>15</th>\n",
       "      <td>\"Jeff\"</td>\n",
       "      <td>\"Chu\"</td>\n",
       "      <td>95000.0</td>\n",
       "    </tr>\n",
       "    <tr>\n",
       "      <th>16</th>\n",
       "      <td>\"Lakesha\"</td>\n",
       "      <td>\"Jackson\"</td>\n",
       "      <td>421232.0</td>\n",
       "    </tr>\n",
       "    <tr>\n",
       "      <th>17</th>\n",
       "      <td>\"Maninder\"</td>\n",
       "      <td>\"Singh\"</td>\n",
       "      <td>111000.0</td>\n",
       "    </tr>\n",
       "    <tr>\n",
       "      <th>18</th>\n",
       "      <td>\"Marco\"</td>\n",
       "      <td>\"Ruben\"</td>\n",
       "      <td>89100.0</td>\n",
       "    </tr>\n",
       "    <tr>\n",
       "      <th>19</th>\n",
       "      <td>\"Ted\"</td>\n",
       "      <td>\"Thompson\"</td>\n",
       "      <td>90000.0</td>\n",
       "    </tr>\n",
       "  </tbody>\n",
       "</table>\n",
       "</div>"
      ],
      "text/plain": [
       "    first_name    last_name     salary\n",
       "0     \"Alfred\"       \"Wong\"   110239.0\n",
       "1      \"Alina\"        \"Chu\"   130000.0\n",
       "2   \"Anderson\"      \"Ifill\"   100200.0\n",
       "3     \"Aretha\"    \"Jenkins\"   333333.0\n",
       "4     \"Arvind\"        \"Tuk\"   140000.0\n",
       "5     \"August\"      \"Rains\"   300000.0\n",
       "6        \"Ben\"       \"Wang\"    99999.0\n",
       "7       \"Bill\"      \"Smith\"   175000.0\n",
       "8        \"Bob\"      \"Smith\"  1550000.0\n",
       "9       \"Chad\"  \"McDaniels\"    64000.0\n",
       "10   \"Cynthia\"       \"Sams\"   720192.0\n",
       "11    \"Dillon\"  \"Jefferson\"    30000.0\n",
       "12   \"Dorothy\"       \"Gall\"  5000000.0\n",
       "13        \"Ed\"    \"Winters\"   292314.0\n",
       "14     \"Jason\"     \"Joseph\"   100000.0\n",
       "15      \"Jeff\"        \"Chu\"    95000.0\n",
       "16   \"Lakesha\"    \"Jackson\"   421232.0\n",
       "17  \"Maninder\"      \"Singh\"   111000.0\n",
       "18     \"Marco\"      \"Ruben\"    89100.0\n",
       "19       \"Ted\"   \"Thompson\"    90000.0"
      ]
     },
     "execution_count": 42,
     "metadata": {},
     "output_type": "execute_result"
    }
   ],
   "source": [
    "current_salaries"
   ]
  },
  {
   "cell_type": "markdown",
   "metadata": {},
   "source": [
    "**Q7: Good Grades and Favorite Colors**\n",
    "You’re given a dataframe of students named students_df:\n",
    "\n",
    "students_df table\n",
    "\n",
    "|name|age|favorite_color|grade|\n",
    "|----|---|----------|-------|\n",
    "|Tim Voss|19|red91|\n",
    "|Nicole Johnson|20|yellow|95|\n",
    "|Elsa Williams|21|green|82|\n",
    "|John James|20|blue|75|\n",
    "|Catherine Jones|23|green|93|\n",
    "\n",
    "Write a function named grades_colors to select only the rows where the student’s favorite color is green or red and their grade is above 90."
   ]
  },
  {
   "cell_type": "code",
   "execution_count": 44,
   "metadata": {},
   "outputs": [
    {
     "data": {
      "text/html": [
       "<div>\n",
       "<style scoped>\n",
       "    .dataframe tbody tr th:only-of-type {\n",
       "        vertical-align: middle;\n",
       "    }\n",
       "\n",
       "    .dataframe tbody tr th {\n",
       "        vertical-align: top;\n",
       "    }\n",
       "\n",
       "    .dataframe thead th {\n",
       "        text-align: right;\n",
       "    }\n",
       "</style>\n",
       "<table border=\"1\" class=\"dataframe\">\n",
       "  <thead>\n",
       "    <tr style=\"text-align: right;\">\n",
       "      <th></th>\n",
       "      <th>name</th>\n",
       "      <th>age</th>\n",
       "      <th>favorite_color</th>\n",
       "      <th>grade</th>\n",
       "    </tr>\n",
       "  </thead>\n",
       "  <tbody>\n",
       "    <tr>\n",
       "      <th>0</th>\n",
       "      <td>Tim Voss</td>\n",
       "      <td>19</td>\n",
       "      <td>red</td>\n",
       "      <td>91</td>\n",
       "    </tr>\n",
       "    <tr>\n",
       "      <th>1</th>\n",
       "      <td>Nicole Johnson</td>\n",
       "      <td>20</td>\n",
       "      <td>yellow</td>\n",
       "      <td>95</td>\n",
       "    </tr>\n",
       "    <tr>\n",
       "      <th>2</th>\n",
       "      <td>Elsa Williams</td>\n",
       "      <td>21</td>\n",
       "      <td>green</td>\n",
       "      <td>82</td>\n",
       "    </tr>\n",
       "    <tr>\n",
       "      <th>3</th>\n",
       "      <td>John James</td>\n",
       "      <td>20</td>\n",
       "      <td>blue</td>\n",
       "      <td>75</td>\n",
       "    </tr>\n",
       "    <tr>\n",
       "      <th>4</th>\n",
       "      <td>Catherine Jones</td>\n",
       "      <td>23</td>\n",
       "      <td>green</td>\n",
       "      <td>93</td>\n",
       "    </tr>\n",
       "  </tbody>\n",
       "</table>\n",
       "</div>"
      ],
      "text/plain": [
       "              name  age favorite_color  grade\n",
       "0         Tim Voss   19            red     91\n",
       "1   Nicole Johnson   20         yellow     95\n",
       "2    Elsa Williams   21          green     82\n",
       "3       John James   20           blue     75\n",
       "4  Catherine Jones   23          green     93"
      ]
     },
     "execution_count": 44,
     "metadata": {},
     "output_type": "execute_result"
    }
   ],
   "source": [
    "students_df=pd.read_csv(\"data/students.csv\")\n",
    "students_df"
   ]
  },
  {
   "cell_type": "code",
   "execution_count": 46,
   "metadata": {},
   "outputs": [],
   "source": [
    "good_grades_colors = students_df[\n",
    "    (students_df['favorite_color'].isin(['red', 'green'])) & \n",
    "    (students_df['grade'] > 90)\n",
    "]"
   ]
  },
  {
   "cell_type": "code",
   "execution_count": 47,
   "metadata": {},
   "outputs": [
    {
     "data": {
      "text/html": [
       "<div>\n",
       "<style scoped>\n",
       "    .dataframe tbody tr th:only-of-type {\n",
       "        vertical-align: middle;\n",
       "    }\n",
       "\n",
       "    .dataframe tbody tr th {\n",
       "        vertical-align: top;\n",
       "    }\n",
       "\n",
       "    .dataframe thead th {\n",
       "        text-align: right;\n",
       "    }\n",
       "</style>\n",
       "<table border=\"1\" class=\"dataframe\">\n",
       "  <thead>\n",
       "    <tr style=\"text-align: right;\">\n",
       "      <th></th>\n",
       "      <th>name</th>\n",
       "      <th>age</th>\n",
       "      <th>favorite_color</th>\n",
       "      <th>grade</th>\n",
       "    </tr>\n",
       "  </thead>\n",
       "  <tbody>\n",
       "    <tr>\n",
       "      <th>0</th>\n",
       "      <td>Tim Voss</td>\n",
       "      <td>19</td>\n",
       "      <td>red</td>\n",
       "      <td>91</td>\n",
       "    </tr>\n",
       "    <tr>\n",
       "      <th>4</th>\n",
       "      <td>Catherine Jones</td>\n",
       "      <td>23</td>\n",
       "      <td>green</td>\n",
       "      <td>93</td>\n",
       "    </tr>\n",
       "  </tbody>\n",
       "</table>\n",
       "</div>"
      ],
      "text/plain": [
       "              name  age favorite_color  grade\n",
       "0         Tim Voss   19            red     91\n",
       "4  Catherine Jones   23          green     93"
      ]
     },
     "execution_count": 47,
     "metadata": {},
     "output_type": "execute_result"
    }
   ],
   "source": [
    "good_grades_colors"
   ]
  },
  {
   "cell_type": "markdown",
   "metadata": {},
   "source": [
    "**Q8: Rain on Rainy Days**\n",
    "You’re given a dataframe df_rain containing rainfall data. The dataframe has two columns: day of the week and rainfall in inches.\n",
    "\n",
    "Write a function median_rainfall to find the median amount of rainfall for the days on which it rained.\n",
    "\n",
    "Note: You may assume it rained on at least one of the days."
   ]
  },
  {
   "cell_type": "code",
   "execution_count": 69,
   "metadata": {},
   "outputs": [
    {
     "data": {
      "text/plain": [
       "4.0"
      ]
     },
     "execution_count": 69,
     "metadata": {},
     "output_type": "execute_result"
    }
   ],
   "source": [
    "import pandas as pd\n",
    "df_rain = pd.DataFrame({\"Day\":[\"Monday\", \"Tuesday\", \"Wednesday\",\\\n",
    "                               \"Thursday\", \"Friday\"],\"Inches\":[6,0,2,3,5]})\n"
   ]
  },
  {
   "cell_type": "code",
   "execution_count": null,
   "metadata": {},
   "outputs": [],
   "source": []
  },
  {
   "cell_type": "markdown",
   "metadata": {},
   "source": [
    "**Q9: First Name Only**\n",
    "You’re given a dataframe containing a list of user IDs and their full names (e.g. ‘James Emerson’).\n",
    "\n",
    "Transform this dataframe into a dataframe that contains the user ids and only the first name of each user."
   ]
  },
  {
   "cell_type": "code",
   "execution_count": 70,
   "metadata": {},
   "outputs": [],
   "source": [
    "import pandas as pd\n",
    "\n",
    "users_df=pd.DataFrame({\"user_id\": [1034, 9430, 7281, 5264, 8995],\n",
    "                       \"name\": [\"James Emerson\",\"Fiona Woodward\",\\\n",
    "                                \"Alvin Gross\",\"Deborah Handler\",\"Leah Xue\"]})\n"
   ]
  },
  {
   "cell_type": "code",
   "execution_count": null,
   "metadata": {},
   "outputs": [],
   "source": []
  },
  {
   "cell_type": "markdown",
   "metadata": {},
   "source": [
    "**Q10 Second Highest Salary**\n",
    "Write a  query to select the 2nd highest salary in the engineering department. If more than one person shares the highest salary, the query should select the next highest salary.\n",
    "\n",
    "Example:\n",
    "\n",
    "Input:\n",
    "\n",
    "employees table\n",
    "\n",
    "|Column|Type|\n",
    "|------|-----|\n",
    "|id|INTEGER|\n",
    "|first_name|VARCHAR|\n",
    "|last_name|VARCHAR|\n",
    "|salary|INTEGER|\n",
    "|department_id|INTEGER|\n",
    "\n",
    "departments table\n",
    "\n",
    "|Column|Type|\n",
    "|-----|-----|\n",
    "|id|INTEGER|\n",
    "|name|VARCHAR|\n",
    "\n",
    "Output:\n",
    "\n",
    "|Column|Type|\n",
    "|------|----|\n",
    "|salary|INTEGER|\n"
   ]
  },
  {
   "cell_type": "code",
   "execution_count": 77,
   "metadata": {},
   "outputs": [],
   "source": [
    "import pandas as pd\n",
    "departments = pd.DataFrame({\"id\":[1,2,3,4],\\\n",
    "                            \"name\":[\"engineering\", \"marketing\", \"sales\", \"hr\"]})\n",
    "employees = pd.read_csv(\"data/employees2.csv\")"
   ]
  },
  {
   "cell_type": "code",
   "execution_count": null,
   "metadata": {},
   "outputs": [],
   "source": []
  }
 ],
 "metadata": {
  "kernelspec": {
   "display_name": "Python 3 (ipykernel)",
   "language": "python",
   "name": "python3"
  },
  "language_info": {
   "codemirror_mode": {
    "name": "ipython",
    "version": 3
   },
   "file_extension": ".py",
   "mimetype": "text/x-python",
   "name": "python",
   "nbconvert_exporter": "python",
   "pygments_lexer": "ipython3",
   "version": "3.11.4"
  }
 },
 "nbformat": 4,
 "nbformat_minor": 4
}
