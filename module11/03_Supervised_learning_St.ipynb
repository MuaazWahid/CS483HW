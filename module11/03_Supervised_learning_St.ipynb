{
  "cells": [
    {
      "cell_type": "markdown",
      "metadata": {
        "id": "N5cXueLvJeH-"
      },
      "source": [
        "### Check Version of the Relevant Libraries"
      ]
    },
    {
      "cell_type": "markdown",
      "metadata": {
        "id": "ArlU1I1TJeIA"
      },
      "source": [
        "# Overfitting the test set"
      ]
    },
    {
      "cell_type": "markdown",
      "metadata": {
        "id": "zZbQVKyHJeIA"
      },
      "source": [
        "- Import `breast_cancer` dataset from Scikitlearn\n",
        "- Scale the feature set\n",
        "- Split data into first trainval and test, then split trainval into validation and train datasets\n",
        "- Fit train dataset for `k=5` neighbors\n",
        "- print the score on validation and test datasets"
      ]
    },
    {
      "cell_type": "code",
      "execution_count": 1,
      "metadata": {
        "id": "A-jbX6HWJeIB"
      },
      "outputs": [],
      "source": [
        "import sklearn\n",
        "from sklearn.datasets import load_breast_cancer\n",
        "cancer = load_breast_cancer()\n",
        "X = cancer.data\n",
        "y = cancer.target"
      ]
    },
    {
      "cell_type": "code",
      "execution_count": 2,
      "metadata": {
        "colab": {
          "base_uri": "https://localhost:8080/"
        },
        "id": "WQKFonTWJeIA",
        "outputId": "0aefe6d7-609f-4a72-d88a-848bc881b432"
      },
      "outputs": [
        {
          "output_type": "execute_result",
          "data": {
            "text/plain": [
              "(array([0, 1]), array([212, 357]))"
            ]
          },
          "metadata": {},
          "execution_count": 2
        }
      ],
      "source": [
        "import numpy as np\n",
        "np.unique(y, return_counts=True)"
      ]
    },
    {
      "cell_type": "code",
      "source": [
        "from sklearn.model_selection import train_test_split\n",
        "X_trainval, X_test, y_trainval, y_test = train_test_split(X, y, stratify = y)"
      ],
      "metadata": {
        "id": "7cl0mtpSJnI-"
      },
      "execution_count": 3,
      "outputs": []
    },
    {
      "cell_type": "code",
      "source": [
        "X_train, X_val, y_train, y_val = train_test_split(X_trainval, y_trainval, stratify = y_trainval)"
      ],
      "metadata": {
        "id": "r_M0NRWdJnQi"
      },
      "execution_count": 4,
      "outputs": []
    },
    {
      "cell_type": "code",
      "source": [
        "import pandas as pd\n",
        "dft = pd.DataFrame(X_train, columns = cancer.feature_names)"
      ],
      "metadata": {
        "id": "elpTV9vYJnTX"
      },
      "execution_count": 5,
      "outputs": []
    },
    {
      "cell_type": "code",
      "source": [
        "dft.head(5)"
      ],
      "metadata": {
        "id": "1ZCIwi43JnWH",
        "colab": {
          "base_uri": "https://localhost:8080/"
        },
        "outputId": "1cb28708-0111-4a1b-f50b-1b72946f7676"
      },
      "execution_count": 6,
      "outputs": [
        {
          "output_type": "execute_result",
          "data": {
            "text/plain": [
              "   mean radius  mean texture  mean perimeter  mean area  mean smoothness  \\\n",
              "0        21.56         22.39          142.00     1479.0          0.11100   \n",
              "1        12.88         18.22           84.45      493.1          0.12180   \n",
              "2        11.89         21.17           76.39      433.8          0.09773   \n",
              "3        15.37         22.76          100.20      728.2          0.09200   \n",
              "4        15.13         29.81           96.71      719.5          0.08320   \n",
              "\n",
              "   mean compactness  mean concavity  mean concave points  mean symmetry  \\\n",
              "0           0.11590         0.24390              0.13890         0.1726   \n",
              "1           0.16610         0.04825              0.05303         0.1709   \n",
              "2           0.08120         0.02555              0.02179         0.2019   \n",
              "3           0.10360         0.11220              0.07483         0.1717   \n",
              "4           0.04605         0.04686              0.02739         0.1852   \n",
              "\n",
              "   mean fractal dimension  ...  worst radius  worst texture  worst perimeter  \\\n",
              "0                 0.05623  ...         25.45          26.40           166.10   \n",
              "1                 0.07253  ...         15.05          24.37            99.31   \n",
              "2                 0.06290  ...         13.05          27.21            85.09   \n",
              "3                 0.06097  ...         16.43          25.84           107.50   \n",
              "4                 0.05294  ...         17.26          36.91           110.10   \n",
              "\n",
              "   worst area  worst smoothness  worst compactness  worst concavity  \\\n",
              "0      2027.0            0.1410            0.21130           0.4107   \n",
              "1       674.7            0.1456            0.29610           0.1246   \n",
              "2       522.9            0.1426            0.21870           0.1164   \n",
              "3       830.9            0.1257            0.19970           0.2846   \n",
              "4       931.4            0.1148            0.09866           0.1547   \n",
              "\n",
              "   worst concave points  worst symmetry  worst fractal dimension  \n",
              "0               0.22160          0.2060                  0.07115  \n",
              "1               0.10960          0.2582                  0.08893  \n",
              "2               0.08263          0.3075                  0.07351  \n",
              "3               0.14760          0.2556                  0.06828  \n",
              "4               0.06575          0.3233                  0.06165  \n",
              "\n",
              "[5 rows x 30 columns]"
            ],
            "text/html": [
              "\n",
              "  <div id=\"df-939fe026-e1d3-4df0-8d60-55014bcdea5f\" class=\"colab-df-container\">\n",
              "    <div>\n",
              "<style scoped>\n",
              "    .dataframe tbody tr th:only-of-type {\n",
              "        vertical-align: middle;\n",
              "    }\n",
              "\n",
              "    .dataframe tbody tr th {\n",
              "        vertical-align: top;\n",
              "    }\n",
              "\n",
              "    .dataframe thead th {\n",
              "        text-align: right;\n",
              "    }\n",
              "</style>\n",
              "<table border=\"1\" class=\"dataframe\">\n",
              "  <thead>\n",
              "    <tr style=\"text-align: right;\">\n",
              "      <th></th>\n",
              "      <th>mean radius</th>\n",
              "      <th>mean texture</th>\n",
              "      <th>mean perimeter</th>\n",
              "      <th>mean area</th>\n",
              "      <th>mean smoothness</th>\n",
              "      <th>mean compactness</th>\n",
              "      <th>mean concavity</th>\n",
              "      <th>mean concave points</th>\n",
              "      <th>mean symmetry</th>\n",
              "      <th>mean fractal dimension</th>\n",
              "      <th>...</th>\n",
              "      <th>worst radius</th>\n",
              "      <th>worst texture</th>\n",
              "      <th>worst perimeter</th>\n",
              "      <th>worst area</th>\n",
              "      <th>worst smoothness</th>\n",
              "      <th>worst compactness</th>\n",
              "      <th>worst concavity</th>\n",
              "      <th>worst concave points</th>\n",
              "      <th>worst symmetry</th>\n",
              "      <th>worst fractal dimension</th>\n",
              "    </tr>\n",
              "  </thead>\n",
              "  <tbody>\n",
              "    <tr>\n",
              "      <th>0</th>\n",
              "      <td>21.56</td>\n",
              "      <td>22.39</td>\n",
              "      <td>142.00</td>\n",
              "      <td>1479.0</td>\n",
              "      <td>0.11100</td>\n",
              "      <td>0.11590</td>\n",
              "      <td>0.24390</td>\n",
              "      <td>0.13890</td>\n",
              "      <td>0.1726</td>\n",
              "      <td>0.05623</td>\n",
              "      <td>...</td>\n",
              "      <td>25.45</td>\n",
              "      <td>26.40</td>\n",
              "      <td>166.10</td>\n",
              "      <td>2027.0</td>\n",
              "      <td>0.1410</td>\n",
              "      <td>0.21130</td>\n",
              "      <td>0.4107</td>\n",
              "      <td>0.22160</td>\n",
              "      <td>0.2060</td>\n",
              "      <td>0.07115</td>\n",
              "    </tr>\n",
              "    <tr>\n",
              "      <th>1</th>\n",
              "      <td>12.88</td>\n",
              "      <td>18.22</td>\n",
              "      <td>84.45</td>\n",
              "      <td>493.1</td>\n",
              "      <td>0.12180</td>\n",
              "      <td>0.16610</td>\n",
              "      <td>0.04825</td>\n",
              "      <td>0.05303</td>\n",
              "      <td>0.1709</td>\n",
              "      <td>0.07253</td>\n",
              "      <td>...</td>\n",
              "      <td>15.05</td>\n",
              "      <td>24.37</td>\n",
              "      <td>99.31</td>\n",
              "      <td>674.7</td>\n",
              "      <td>0.1456</td>\n",
              "      <td>0.29610</td>\n",
              "      <td>0.1246</td>\n",
              "      <td>0.10960</td>\n",
              "      <td>0.2582</td>\n",
              "      <td>0.08893</td>\n",
              "    </tr>\n",
              "    <tr>\n",
              "      <th>2</th>\n",
              "      <td>11.89</td>\n",
              "      <td>21.17</td>\n",
              "      <td>76.39</td>\n",
              "      <td>433.8</td>\n",
              "      <td>0.09773</td>\n",
              "      <td>0.08120</td>\n",
              "      <td>0.02555</td>\n",
              "      <td>0.02179</td>\n",
              "      <td>0.2019</td>\n",
              "      <td>0.06290</td>\n",
              "      <td>...</td>\n",
              "      <td>13.05</td>\n",
              "      <td>27.21</td>\n",
              "      <td>85.09</td>\n",
              "      <td>522.9</td>\n",
              "      <td>0.1426</td>\n",
              "      <td>0.21870</td>\n",
              "      <td>0.1164</td>\n",
              "      <td>0.08263</td>\n",
              "      <td>0.3075</td>\n",
              "      <td>0.07351</td>\n",
              "    </tr>\n",
              "    <tr>\n",
              "      <th>3</th>\n",
              "      <td>15.37</td>\n",
              "      <td>22.76</td>\n",
              "      <td>100.20</td>\n",
              "      <td>728.2</td>\n",
              "      <td>0.09200</td>\n",
              "      <td>0.10360</td>\n",
              "      <td>0.11220</td>\n",
              "      <td>0.07483</td>\n",
              "      <td>0.1717</td>\n",
              "      <td>0.06097</td>\n",
              "      <td>...</td>\n",
              "      <td>16.43</td>\n",
              "      <td>25.84</td>\n",
              "      <td>107.50</td>\n",
              "      <td>830.9</td>\n",
              "      <td>0.1257</td>\n",
              "      <td>0.19970</td>\n",
              "      <td>0.2846</td>\n",
              "      <td>0.14760</td>\n",
              "      <td>0.2556</td>\n",
              "      <td>0.06828</td>\n",
              "    </tr>\n",
              "    <tr>\n",
              "      <th>4</th>\n",
              "      <td>15.13</td>\n",
              "      <td>29.81</td>\n",
              "      <td>96.71</td>\n",
              "      <td>719.5</td>\n",
              "      <td>0.08320</td>\n",
              "      <td>0.04605</td>\n",
              "      <td>0.04686</td>\n",
              "      <td>0.02739</td>\n",
              "      <td>0.1852</td>\n",
              "      <td>0.05294</td>\n",
              "      <td>...</td>\n",
              "      <td>17.26</td>\n",
              "      <td>36.91</td>\n",
              "      <td>110.10</td>\n",
              "      <td>931.4</td>\n",
              "      <td>0.1148</td>\n",
              "      <td>0.09866</td>\n",
              "      <td>0.1547</td>\n",
              "      <td>0.06575</td>\n",
              "      <td>0.3233</td>\n",
              "      <td>0.06165</td>\n",
              "    </tr>\n",
              "  </tbody>\n",
              "</table>\n",
              "<p>5 rows × 30 columns</p>\n",
              "</div>\n",
              "    <div class=\"colab-df-buttons\">\n",
              "\n",
              "  <div class=\"colab-df-container\">\n",
              "    <button class=\"colab-df-convert\" onclick=\"convertToInteractive('df-939fe026-e1d3-4df0-8d60-55014bcdea5f')\"\n",
              "            title=\"Convert this dataframe to an interactive table.\"\n",
              "            style=\"display:none;\">\n",
              "\n",
              "  <svg xmlns=\"http://www.w3.org/2000/svg\" height=\"24px\" viewBox=\"0 -960 960 960\">\n",
              "    <path d=\"M120-120v-720h720v720H120Zm60-500h600v-160H180v160Zm220 220h160v-160H400v160Zm0 220h160v-160H400v160ZM180-400h160v-160H180v160Zm440 0h160v-160H620v160ZM180-180h160v-160H180v160Zm440 0h160v-160H620v160Z\"/>\n",
              "  </svg>\n",
              "    </button>\n",
              "\n",
              "  <style>\n",
              "    .colab-df-container {\n",
              "      display:flex;\n",
              "      gap: 12px;\n",
              "    }\n",
              "\n",
              "    .colab-df-convert {\n",
              "      background-color: #E8F0FE;\n",
              "      border: none;\n",
              "      border-radius: 50%;\n",
              "      cursor: pointer;\n",
              "      display: none;\n",
              "      fill: #1967D2;\n",
              "      height: 32px;\n",
              "      padding: 0 0 0 0;\n",
              "      width: 32px;\n",
              "    }\n",
              "\n",
              "    .colab-df-convert:hover {\n",
              "      background-color: #E2EBFA;\n",
              "      box-shadow: 0px 1px 2px rgba(60, 64, 67, 0.3), 0px 1px 3px 1px rgba(60, 64, 67, 0.15);\n",
              "      fill: #174EA6;\n",
              "    }\n",
              "\n",
              "    .colab-df-buttons div {\n",
              "      margin-bottom: 4px;\n",
              "    }\n",
              "\n",
              "    [theme=dark] .colab-df-convert {\n",
              "      background-color: #3B4455;\n",
              "      fill: #D2E3FC;\n",
              "    }\n",
              "\n",
              "    [theme=dark] .colab-df-convert:hover {\n",
              "      background-color: #434B5C;\n",
              "      box-shadow: 0px 1px 3px 1px rgba(0, 0, 0, 0.15);\n",
              "      filter: drop-shadow(0px 1px 2px rgba(0, 0, 0, 0.3));\n",
              "      fill: #FFFFFF;\n",
              "    }\n",
              "  </style>\n",
              "\n",
              "    <script>\n",
              "      const buttonEl =\n",
              "        document.querySelector('#df-939fe026-e1d3-4df0-8d60-55014bcdea5f button.colab-df-convert');\n",
              "      buttonEl.style.display =\n",
              "        google.colab.kernel.accessAllowed ? 'block' : 'none';\n",
              "\n",
              "      async function convertToInteractive(key) {\n",
              "        const element = document.querySelector('#df-939fe026-e1d3-4df0-8d60-55014bcdea5f');\n",
              "        const dataTable =\n",
              "          await google.colab.kernel.invokeFunction('convertToInteractive',\n",
              "                                                    [key], {});\n",
              "        if (!dataTable) return;\n",
              "\n",
              "        const docLinkHtml = 'Like what you see? Visit the ' +\n",
              "          '<a target=\"_blank\" href=https://colab.research.google.com/notebooks/data_table.ipynb>data table notebook</a>'\n",
              "          + ' to learn more about interactive tables.';\n",
              "        element.innerHTML = '';\n",
              "        dataTable['output_type'] = 'display_data';\n",
              "        await google.colab.output.renderOutput(dataTable, element);\n",
              "        const docLink = document.createElement('div');\n",
              "        docLink.innerHTML = docLinkHtml;\n",
              "        element.appendChild(docLink);\n",
              "      }\n",
              "    </script>\n",
              "  </div>\n",
              "\n",
              "\n",
              "<div id=\"df-c04b0d9a-756a-4e6f-b670-845bea7807d2\">\n",
              "  <button class=\"colab-df-quickchart\" onclick=\"quickchart('df-c04b0d9a-756a-4e6f-b670-845bea7807d2')\"\n",
              "            title=\"Suggest charts\"\n",
              "            style=\"display:none;\">\n",
              "\n",
              "<svg xmlns=\"http://www.w3.org/2000/svg\" height=\"24px\"viewBox=\"0 0 24 24\"\n",
              "     width=\"24px\">\n",
              "    <g>\n",
              "        <path d=\"M19 3H5c-1.1 0-2 .9-2 2v14c0 1.1.9 2 2 2h14c1.1 0 2-.9 2-2V5c0-1.1-.9-2-2-2zM9 17H7v-7h2v7zm4 0h-2V7h2v10zm4 0h-2v-4h2v4z\"/>\n",
              "    </g>\n",
              "</svg>\n",
              "  </button>\n",
              "\n",
              "<style>\n",
              "  .colab-df-quickchart {\n",
              "      --bg-color: #E8F0FE;\n",
              "      --fill-color: #1967D2;\n",
              "      --hover-bg-color: #E2EBFA;\n",
              "      --hover-fill-color: #174EA6;\n",
              "      --disabled-fill-color: #AAA;\n",
              "      --disabled-bg-color: #DDD;\n",
              "  }\n",
              "\n",
              "  [theme=dark] .colab-df-quickchart {\n",
              "      --bg-color: #3B4455;\n",
              "      --fill-color: #D2E3FC;\n",
              "      --hover-bg-color: #434B5C;\n",
              "      --hover-fill-color: #FFFFFF;\n",
              "      --disabled-bg-color: #3B4455;\n",
              "      --disabled-fill-color: #666;\n",
              "  }\n",
              "\n",
              "  .colab-df-quickchart {\n",
              "    background-color: var(--bg-color);\n",
              "    border: none;\n",
              "    border-radius: 50%;\n",
              "    cursor: pointer;\n",
              "    display: none;\n",
              "    fill: var(--fill-color);\n",
              "    height: 32px;\n",
              "    padding: 0;\n",
              "    width: 32px;\n",
              "  }\n",
              "\n",
              "  .colab-df-quickchart:hover {\n",
              "    background-color: var(--hover-bg-color);\n",
              "    box-shadow: 0 1px 2px rgba(60, 64, 67, 0.3), 0 1px 3px 1px rgba(60, 64, 67, 0.15);\n",
              "    fill: var(--button-hover-fill-color);\n",
              "  }\n",
              "\n",
              "  .colab-df-quickchart-complete:disabled,\n",
              "  .colab-df-quickchart-complete:disabled:hover {\n",
              "    background-color: var(--disabled-bg-color);\n",
              "    fill: var(--disabled-fill-color);\n",
              "    box-shadow: none;\n",
              "  }\n",
              "\n",
              "  .colab-df-spinner {\n",
              "    border: 2px solid var(--fill-color);\n",
              "    border-color: transparent;\n",
              "    border-bottom-color: var(--fill-color);\n",
              "    animation:\n",
              "      spin 1s steps(1) infinite;\n",
              "  }\n",
              "\n",
              "  @keyframes spin {\n",
              "    0% {\n",
              "      border-color: transparent;\n",
              "      border-bottom-color: var(--fill-color);\n",
              "      border-left-color: var(--fill-color);\n",
              "    }\n",
              "    20% {\n",
              "      border-color: transparent;\n",
              "      border-left-color: var(--fill-color);\n",
              "      border-top-color: var(--fill-color);\n",
              "    }\n",
              "    30% {\n",
              "      border-color: transparent;\n",
              "      border-left-color: var(--fill-color);\n",
              "      border-top-color: var(--fill-color);\n",
              "      border-right-color: var(--fill-color);\n",
              "    }\n",
              "    40% {\n",
              "      border-color: transparent;\n",
              "      border-right-color: var(--fill-color);\n",
              "      border-top-color: var(--fill-color);\n",
              "    }\n",
              "    60% {\n",
              "      border-color: transparent;\n",
              "      border-right-color: var(--fill-color);\n",
              "    }\n",
              "    80% {\n",
              "      border-color: transparent;\n",
              "      border-right-color: var(--fill-color);\n",
              "      border-bottom-color: var(--fill-color);\n",
              "    }\n",
              "    90% {\n",
              "      border-color: transparent;\n",
              "      border-bottom-color: var(--fill-color);\n",
              "    }\n",
              "  }\n",
              "</style>\n",
              "\n",
              "  <script>\n",
              "    async function quickchart(key) {\n",
              "      const quickchartButtonEl =\n",
              "        document.querySelector('#' + key + ' button');\n",
              "      quickchartButtonEl.disabled = true;  // To prevent multiple clicks.\n",
              "      quickchartButtonEl.classList.add('colab-df-spinner');\n",
              "      try {\n",
              "        const charts = await google.colab.kernel.invokeFunction(\n",
              "            'suggestCharts', [key], {});\n",
              "      } catch (error) {\n",
              "        console.error('Error during call to suggestCharts:', error);\n",
              "      }\n",
              "      quickchartButtonEl.classList.remove('colab-df-spinner');\n",
              "      quickchartButtonEl.classList.add('colab-df-quickchart-complete');\n",
              "    }\n",
              "    (() => {\n",
              "      let quickchartButtonEl =\n",
              "        document.querySelector('#df-c04b0d9a-756a-4e6f-b670-845bea7807d2 button');\n",
              "      quickchartButtonEl.style.display =\n",
              "        google.colab.kernel.accessAllowed ? 'block' : 'none';\n",
              "    })();\n",
              "  </script>\n",
              "</div>\n",
              "\n",
              "    </div>\n",
              "  </div>\n"
            ],
            "application/vnd.google.colaboratory.intrinsic+json": {
              "type": "dataframe",
              "variable_name": "dft"
            }
          },
          "metadata": {},
          "execution_count": 6
        }
      ]
    },
    {
      "cell_type": "code",
      "source": [
        "dft.describe()\n",
        "# row  should see mean(radius, texture, perimeter, smoothness, concavity ...)\n",
        "# column should see count, mean std, min, 25, 50, 75, max"
      ],
      "metadata": {
        "id": "VBd9uv2tLHHw",
        "colab": {
          "base_uri": "https://localhost:8080/"
        },
        "outputId": "f7b2b848-a8c5-488c-b12e-7af6e31921fd"
      },
      "execution_count": 7,
      "outputs": [
        {
          "output_type": "execute_result",
          "data": {
            "text/plain": [
              "       mean radius  mean texture  mean perimeter    mean area  \\\n",
              "count   319.000000    319.000000      319.000000   319.000000   \n",
              "mean     14.154009     19.333793       92.082038   653.808150   \n",
              "std       3.379474      4.337651       23.380851   335.113504   \n",
              "min       6.981000      9.710000       43.790000   143.500000   \n",
              "25%      11.710000     16.345000       75.335000   422.300000   \n",
              "50%      13.470000     18.900000       87.160000   559.200000   \n",
              "75%      16.100000     21.840000      105.950000   793.650000   \n",
              "max      28.110000     39.280000      188.500000  2499.000000   \n",
              "\n",
              "       mean smoothness  mean compactness  mean concavity  mean concave points  \\\n",
              "count       319.000000        319.000000      319.000000           319.000000   \n",
              "mean          0.096092          0.102022        0.085267             0.047825   \n",
              "std           0.013444          0.051701        0.077399             0.037720   \n",
              "min           0.052630          0.019380        0.000000             0.000000   \n",
              "25%           0.086390          0.065600        0.027000             0.019680   \n",
              "50%           0.095970          0.087510        0.057240             0.033340   \n",
              "75%           0.104750          0.127150        0.116250             0.070275   \n",
              "max           0.132300          0.345400        0.375400             0.191300   \n",
              "\n",
              "       mean symmetry  mean fractal dimension  ...  worst radius  \\\n",
              "count     319.000000              319.000000  ...    319.000000   \n",
              "mean        0.180355                0.062345  ...     16.252458   \n",
              "std         0.026751                0.006531  ...      4.583899   \n",
              "min         0.106000                0.050960  ...      7.930000   \n",
              "25%         0.161700                0.057490  ...     13.060000   \n",
              "50%         0.177600                0.061290  ...     15.030000   \n",
              "75%         0.195300                0.065710  ...     19.125000   \n",
              "max         0.304000                0.095750  ...     33.130000   \n",
              "\n",
              "       worst texture  worst perimeter   worst area  worst smoothness  \\\n",
              "count     319.000000       319.000000   319.000000        319.000000   \n",
              "mean       25.808840       106.937022   871.316928          0.131831   \n",
              "std         6.292917        31.940936   527.832805          0.022539   \n",
              "min        12.020000        50.410000   185.200000          0.071170   \n",
              "25%        21.070000        84.405000   517.150000          0.116700   \n",
              "50%        25.500000        97.660000   686.500000          0.130600   \n",
              "75%        30.330000       126.300000  1111.500000          0.145450   \n",
              "max        47.160000       229.300000  3432.000000          0.222600   \n",
              "\n",
              "       worst compactness  worst concavity  worst concave points  \\\n",
              "count         319.000000       319.000000            319.000000   \n",
              "mean            0.244413         0.261451              0.112189   \n",
              "std             0.144910         0.200289              0.064163   \n",
              "min             0.027290         0.000000              0.000000   \n",
              "25%             0.150650         0.107450              0.063155   \n",
              "50%             0.211300         0.226000              0.096530   \n",
              "75%             0.310250         0.365050              0.156350   \n",
              "max             0.932700         1.252000              0.286700   \n",
              "\n",
              "       worst symmetry  worst fractal dimension  \n",
              "count      319.000000               319.000000  \n",
              "mean         0.286182                 0.082274  \n",
              "std          0.056379                 0.015690  \n",
              "min          0.156600                 0.055250  \n",
              "25%          0.246700                 0.071250  \n",
              "50%          0.280700                 0.079480  \n",
              "75%          0.315400                 0.090285  \n",
              "max          0.544000                 0.148600  \n",
              "\n",
              "[8 rows x 30 columns]"
            ],
            "text/html": [
              "\n",
              "  <div id=\"df-9078db8e-dc06-42db-b913-fbb279032710\" class=\"colab-df-container\">\n",
              "    <div>\n",
              "<style scoped>\n",
              "    .dataframe tbody tr th:only-of-type {\n",
              "        vertical-align: middle;\n",
              "    }\n",
              "\n",
              "    .dataframe tbody tr th {\n",
              "        vertical-align: top;\n",
              "    }\n",
              "\n",
              "    .dataframe thead th {\n",
              "        text-align: right;\n",
              "    }\n",
              "</style>\n",
              "<table border=\"1\" class=\"dataframe\">\n",
              "  <thead>\n",
              "    <tr style=\"text-align: right;\">\n",
              "      <th></th>\n",
              "      <th>mean radius</th>\n",
              "      <th>mean texture</th>\n",
              "      <th>mean perimeter</th>\n",
              "      <th>mean area</th>\n",
              "      <th>mean smoothness</th>\n",
              "      <th>mean compactness</th>\n",
              "      <th>mean concavity</th>\n",
              "      <th>mean concave points</th>\n",
              "      <th>mean symmetry</th>\n",
              "      <th>mean fractal dimension</th>\n",
              "      <th>...</th>\n",
              "      <th>worst radius</th>\n",
              "      <th>worst texture</th>\n",
              "      <th>worst perimeter</th>\n",
              "      <th>worst area</th>\n",
              "      <th>worst smoothness</th>\n",
              "      <th>worst compactness</th>\n",
              "      <th>worst concavity</th>\n",
              "      <th>worst concave points</th>\n",
              "      <th>worst symmetry</th>\n",
              "      <th>worst fractal dimension</th>\n",
              "    </tr>\n",
              "  </thead>\n",
              "  <tbody>\n",
              "    <tr>\n",
              "      <th>count</th>\n",
              "      <td>319.000000</td>\n",
              "      <td>319.000000</td>\n",
              "      <td>319.000000</td>\n",
              "      <td>319.000000</td>\n",
              "      <td>319.000000</td>\n",
              "      <td>319.000000</td>\n",
              "      <td>319.000000</td>\n",
              "      <td>319.000000</td>\n",
              "      <td>319.000000</td>\n",
              "      <td>319.000000</td>\n",
              "      <td>...</td>\n",
              "      <td>319.000000</td>\n",
              "      <td>319.000000</td>\n",
              "      <td>319.000000</td>\n",
              "      <td>319.000000</td>\n",
              "      <td>319.000000</td>\n",
              "      <td>319.000000</td>\n",
              "      <td>319.000000</td>\n",
              "      <td>319.000000</td>\n",
              "      <td>319.000000</td>\n",
              "      <td>319.000000</td>\n",
              "    </tr>\n",
              "    <tr>\n",
              "      <th>mean</th>\n",
              "      <td>14.154009</td>\n",
              "      <td>19.333793</td>\n",
              "      <td>92.082038</td>\n",
              "      <td>653.808150</td>\n",
              "      <td>0.096092</td>\n",
              "      <td>0.102022</td>\n",
              "      <td>0.085267</td>\n",
              "      <td>0.047825</td>\n",
              "      <td>0.180355</td>\n",
              "      <td>0.062345</td>\n",
              "      <td>...</td>\n",
              "      <td>16.252458</td>\n",
              "      <td>25.808840</td>\n",
              "      <td>106.937022</td>\n",
              "      <td>871.316928</td>\n",
              "      <td>0.131831</td>\n",
              "      <td>0.244413</td>\n",
              "      <td>0.261451</td>\n",
              "      <td>0.112189</td>\n",
              "      <td>0.286182</td>\n",
              "      <td>0.082274</td>\n",
              "    </tr>\n",
              "    <tr>\n",
              "      <th>std</th>\n",
              "      <td>3.379474</td>\n",
              "      <td>4.337651</td>\n",
              "      <td>23.380851</td>\n",
              "      <td>335.113504</td>\n",
              "      <td>0.013444</td>\n",
              "      <td>0.051701</td>\n",
              "      <td>0.077399</td>\n",
              "      <td>0.037720</td>\n",
              "      <td>0.026751</td>\n",
              "      <td>0.006531</td>\n",
              "      <td>...</td>\n",
              "      <td>4.583899</td>\n",
              "      <td>6.292917</td>\n",
              "      <td>31.940936</td>\n",
              "      <td>527.832805</td>\n",
              "      <td>0.022539</td>\n",
              "      <td>0.144910</td>\n",
              "      <td>0.200289</td>\n",
              "      <td>0.064163</td>\n",
              "      <td>0.056379</td>\n",
              "      <td>0.015690</td>\n",
              "    </tr>\n",
              "    <tr>\n",
              "      <th>min</th>\n",
              "      <td>6.981000</td>\n",
              "      <td>9.710000</td>\n",
              "      <td>43.790000</td>\n",
              "      <td>143.500000</td>\n",
              "      <td>0.052630</td>\n",
              "      <td>0.019380</td>\n",
              "      <td>0.000000</td>\n",
              "      <td>0.000000</td>\n",
              "      <td>0.106000</td>\n",
              "      <td>0.050960</td>\n",
              "      <td>...</td>\n",
              "      <td>7.930000</td>\n",
              "      <td>12.020000</td>\n",
              "      <td>50.410000</td>\n",
              "      <td>185.200000</td>\n",
              "      <td>0.071170</td>\n",
              "      <td>0.027290</td>\n",
              "      <td>0.000000</td>\n",
              "      <td>0.000000</td>\n",
              "      <td>0.156600</td>\n",
              "      <td>0.055250</td>\n",
              "    </tr>\n",
              "    <tr>\n",
              "      <th>25%</th>\n",
              "      <td>11.710000</td>\n",
              "      <td>16.345000</td>\n",
              "      <td>75.335000</td>\n",
              "      <td>422.300000</td>\n",
              "      <td>0.086390</td>\n",
              "      <td>0.065600</td>\n",
              "      <td>0.027000</td>\n",
              "      <td>0.019680</td>\n",
              "      <td>0.161700</td>\n",
              "      <td>0.057490</td>\n",
              "      <td>...</td>\n",
              "      <td>13.060000</td>\n",
              "      <td>21.070000</td>\n",
              "      <td>84.405000</td>\n",
              "      <td>517.150000</td>\n",
              "      <td>0.116700</td>\n",
              "      <td>0.150650</td>\n",
              "      <td>0.107450</td>\n",
              "      <td>0.063155</td>\n",
              "      <td>0.246700</td>\n",
              "      <td>0.071250</td>\n",
              "    </tr>\n",
              "    <tr>\n",
              "      <th>50%</th>\n",
              "      <td>13.470000</td>\n",
              "      <td>18.900000</td>\n",
              "      <td>87.160000</td>\n",
              "      <td>559.200000</td>\n",
              "      <td>0.095970</td>\n",
              "      <td>0.087510</td>\n",
              "      <td>0.057240</td>\n",
              "      <td>0.033340</td>\n",
              "      <td>0.177600</td>\n",
              "      <td>0.061290</td>\n",
              "      <td>...</td>\n",
              "      <td>15.030000</td>\n",
              "      <td>25.500000</td>\n",
              "      <td>97.660000</td>\n",
              "      <td>686.500000</td>\n",
              "      <td>0.130600</td>\n",
              "      <td>0.211300</td>\n",
              "      <td>0.226000</td>\n",
              "      <td>0.096530</td>\n",
              "      <td>0.280700</td>\n",
              "      <td>0.079480</td>\n",
              "    </tr>\n",
              "    <tr>\n",
              "      <th>75%</th>\n",
              "      <td>16.100000</td>\n",
              "      <td>21.840000</td>\n",
              "      <td>105.950000</td>\n",
              "      <td>793.650000</td>\n",
              "      <td>0.104750</td>\n",
              "      <td>0.127150</td>\n",
              "      <td>0.116250</td>\n",
              "      <td>0.070275</td>\n",
              "      <td>0.195300</td>\n",
              "      <td>0.065710</td>\n",
              "      <td>...</td>\n",
              "      <td>19.125000</td>\n",
              "      <td>30.330000</td>\n",
              "      <td>126.300000</td>\n",
              "      <td>1111.500000</td>\n",
              "      <td>0.145450</td>\n",
              "      <td>0.310250</td>\n",
              "      <td>0.365050</td>\n",
              "      <td>0.156350</td>\n",
              "      <td>0.315400</td>\n",
              "      <td>0.090285</td>\n",
              "    </tr>\n",
              "    <tr>\n",
              "      <th>max</th>\n",
              "      <td>28.110000</td>\n",
              "      <td>39.280000</td>\n",
              "      <td>188.500000</td>\n",
              "      <td>2499.000000</td>\n",
              "      <td>0.132300</td>\n",
              "      <td>0.345400</td>\n",
              "      <td>0.375400</td>\n",
              "      <td>0.191300</td>\n",
              "      <td>0.304000</td>\n",
              "      <td>0.095750</td>\n",
              "      <td>...</td>\n",
              "      <td>33.130000</td>\n",
              "      <td>47.160000</td>\n",
              "      <td>229.300000</td>\n",
              "      <td>3432.000000</td>\n",
              "      <td>0.222600</td>\n",
              "      <td>0.932700</td>\n",
              "      <td>1.252000</td>\n",
              "      <td>0.286700</td>\n",
              "      <td>0.544000</td>\n",
              "      <td>0.148600</td>\n",
              "    </tr>\n",
              "  </tbody>\n",
              "</table>\n",
              "<p>8 rows × 30 columns</p>\n",
              "</div>\n",
              "    <div class=\"colab-df-buttons\">\n",
              "\n",
              "  <div class=\"colab-df-container\">\n",
              "    <button class=\"colab-df-convert\" onclick=\"convertToInteractive('df-9078db8e-dc06-42db-b913-fbb279032710')\"\n",
              "            title=\"Convert this dataframe to an interactive table.\"\n",
              "            style=\"display:none;\">\n",
              "\n",
              "  <svg xmlns=\"http://www.w3.org/2000/svg\" height=\"24px\" viewBox=\"0 -960 960 960\">\n",
              "    <path d=\"M120-120v-720h720v720H120Zm60-500h600v-160H180v160Zm220 220h160v-160H400v160Zm0 220h160v-160H400v160ZM180-400h160v-160H180v160Zm440 0h160v-160H620v160ZM180-180h160v-160H180v160Zm440 0h160v-160H620v160Z\"/>\n",
              "  </svg>\n",
              "    </button>\n",
              "\n",
              "  <style>\n",
              "    .colab-df-container {\n",
              "      display:flex;\n",
              "      gap: 12px;\n",
              "    }\n",
              "\n",
              "    .colab-df-convert {\n",
              "      background-color: #E8F0FE;\n",
              "      border: none;\n",
              "      border-radius: 50%;\n",
              "      cursor: pointer;\n",
              "      display: none;\n",
              "      fill: #1967D2;\n",
              "      height: 32px;\n",
              "      padding: 0 0 0 0;\n",
              "      width: 32px;\n",
              "    }\n",
              "\n",
              "    .colab-df-convert:hover {\n",
              "      background-color: #E2EBFA;\n",
              "      box-shadow: 0px 1px 2px rgba(60, 64, 67, 0.3), 0px 1px 3px 1px rgba(60, 64, 67, 0.15);\n",
              "      fill: #174EA6;\n",
              "    }\n",
              "\n",
              "    .colab-df-buttons div {\n",
              "      margin-bottom: 4px;\n",
              "    }\n",
              "\n",
              "    [theme=dark] .colab-df-convert {\n",
              "      background-color: #3B4455;\n",
              "      fill: #D2E3FC;\n",
              "    }\n",
              "\n",
              "    [theme=dark] .colab-df-convert:hover {\n",
              "      background-color: #434B5C;\n",
              "      box-shadow: 0px 1px 3px 1px rgba(0, 0, 0, 0.15);\n",
              "      filter: drop-shadow(0px 1px 2px rgba(0, 0, 0, 0.3));\n",
              "      fill: #FFFFFF;\n",
              "    }\n",
              "  </style>\n",
              "\n",
              "    <script>\n",
              "      const buttonEl =\n",
              "        document.querySelector('#df-9078db8e-dc06-42db-b913-fbb279032710 button.colab-df-convert');\n",
              "      buttonEl.style.display =\n",
              "        google.colab.kernel.accessAllowed ? 'block' : 'none';\n",
              "\n",
              "      async function convertToInteractive(key) {\n",
              "        const element = document.querySelector('#df-9078db8e-dc06-42db-b913-fbb279032710');\n",
              "        const dataTable =\n",
              "          await google.colab.kernel.invokeFunction('convertToInteractive',\n",
              "                                                    [key], {});\n",
              "        if (!dataTable) return;\n",
              "\n",
              "        const docLinkHtml = 'Like what you see? Visit the ' +\n",
              "          '<a target=\"_blank\" href=https://colab.research.google.com/notebooks/data_table.ipynb>data table notebook</a>'\n",
              "          + ' to learn more about interactive tables.';\n",
              "        element.innerHTML = '';\n",
              "        dataTable['output_type'] = 'display_data';\n",
              "        await google.colab.output.renderOutput(dataTable, element);\n",
              "        const docLink = document.createElement('div');\n",
              "        docLink.innerHTML = docLinkHtml;\n",
              "        element.appendChild(docLink);\n",
              "      }\n",
              "    </script>\n",
              "  </div>\n",
              "\n",
              "\n",
              "<div id=\"df-a0e1b9b3-8e45-45da-819a-d0a03d04da15\">\n",
              "  <button class=\"colab-df-quickchart\" onclick=\"quickchart('df-a0e1b9b3-8e45-45da-819a-d0a03d04da15')\"\n",
              "            title=\"Suggest charts\"\n",
              "            style=\"display:none;\">\n",
              "\n",
              "<svg xmlns=\"http://www.w3.org/2000/svg\" height=\"24px\"viewBox=\"0 0 24 24\"\n",
              "     width=\"24px\">\n",
              "    <g>\n",
              "        <path d=\"M19 3H5c-1.1 0-2 .9-2 2v14c0 1.1.9 2 2 2h14c1.1 0 2-.9 2-2V5c0-1.1-.9-2-2-2zM9 17H7v-7h2v7zm4 0h-2V7h2v10zm4 0h-2v-4h2v4z\"/>\n",
              "    </g>\n",
              "</svg>\n",
              "  </button>\n",
              "\n",
              "<style>\n",
              "  .colab-df-quickchart {\n",
              "      --bg-color: #E8F0FE;\n",
              "      --fill-color: #1967D2;\n",
              "      --hover-bg-color: #E2EBFA;\n",
              "      --hover-fill-color: #174EA6;\n",
              "      --disabled-fill-color: #AAA;\n",
              "      --disabled-bg-color: #DDD;\n",
              "  }\n",
              "\n",
              "  [theme=dark] .colab-df-quickchart {\n",
              "      --bg-color: #3B4455;\n",
              "      --fill-color: #D2E3FC;\n",
              "      --hover-bg-color: #434B5C;\n",
              "      --hover-fill-color: #FFFFFF;\n",
              "      --disabled-bg-color: #3B4455;\n",
              "      --disabled-fill-color: #666;\n",
              "  }\n",
              "\n",
              "  .colab-df-quickchart {\n",
              "    background-color: var(--bg-color);\n",
              "    border: none;\n",
              "    border-radius: 50%;\n",
              "    cursor: pointer;\n",
              "    display: none;\n",
              "    fill: var(--fill-color);\n",
              "    height: 32px;\n",
              "    padding: 0;\n",
              "    width: 32px;\n",
              "  }\n",
              "\n",
              "  .colab-df-quickchart:hover {\n",
              "    background-color: var(--hover-bg-color);\n",
              "    box-shadow: 0 1px 2px rgba(60, 64, 67, 0.3), 0 1px 3px 1px rgba(60, 64, 67, 0.15);\n",
              "    fill: var(--button-hover-fill-color);\n",
              "  }\n",
              "\n",
              "  .colab-df-quickchart-complete:disabled,\n",
              "  .colab-df-quickchart-complete:disabled:hover {\n",
              "    background-color: var(--disabled-bg-color);\n",
              "    fill: var(--disabled-fill-color);\n",
              "    box-shadow: none;\n",
              "  }\n",
              "\n",
              "  .colab-df-spinner {\n",
              "    border: 2px solid var(--fill-color);\n",
              "    border-color: transparent;\n",
              "    border-bottom-color: var(--fill-color);\n",
              "    animation:\n",
              "      spin 1s steps(1) infinite;\n",
              "  }\n",
              "\n",
              "  @keyframes spin {\n",
              "    0% {\n",
              "      border-color: transparent;\n",
              "      border-bottom-color: var(--fill-color);\n",
              "      border-left-color: var(--fill-color);\n",
              "    }\n",
              "    20% {\n",
              "      border-color: transparent;\n",
              "      border-left-color: var(--fill-color);\n",
              "      border-top-color: var(--fill-color);\n",
              "    }\n",
              "    30% {\n",
              "      border-color: transparent;\n",
              "      border-left-color: var(--fill-color);\n",
              "      border-top-color: var(--fill-color);\n",
              "      border-right-color: var(--fill-color);\n",
              "    }\n",
              "    40% {\n",
              "      border-color: transparent;\n",
              "      border-right-color: var(--fill-color);\n",
              "      border-top-color: var(--fill-color);\n",
              "    }\n",
              "    60% {\n",
              "      border-color: transparent;\n",
              "      border-right-color: var(--fill-color);\n",
              "    }\n",
              "    80% {\n",
              "      border-color: transparent;\n",
              "      border-right-color: var(--fill-color);\n",
              "      border-bottom-color: var(--fill-color);\n",
              "    }\n",
              "    90% {\n",
              "      border-color: transparent;\n",
              "      border-bottom-color: var(--fill-color);\n",
              "    }\n",
              "  }\n",
              "</style>\n",
              "\n",
              "  <script>\n",
              "    async function quickchart(key) {\n",
              "      const quickchartButtonEl =\n",
              "        document.querySelector('#' + key + ' button');\n",
              "      quickchartButtonEl.disabled = true;  // To prevent multiple clicks.\n",
              "      quickchartButtonEl.classList.add('colab-df-spinner');\n",
              "      try {\n",
              "        const charts = await google.colab.kernel.invokeFunction(\n",
              "            'suggestCharts', [key], {});\n",
              "      } catch (error) {\n",
              "        console.error('Error during call to suggestCharts:', error);\n",
              "      }\n",
              "      quickchartButtonEl.classList.remove('colab-df-spinner');\n",
              "      quickchartButtonEl.classList.add('colab-df-quickchart-complete');\n",
              "    }\n",
              "    (() => {\n",
              "      let quickchartButtonEl =\n",
              "        document.querySelector('#df-a0e1b9b3-8e45-45da-819a-d0a03d04da15 button');\n",
              "      quickchartButtonEl.style.display =\n",
              "        google.colab.kernel.accessAllowed ? 'block' : 'none';\n",
              "    })();\n",
              "  </script>\n",
              "</div>\n",
              "\n",
              "    </div>\n",
              "  </div>\n"
            ],
            "application/vnd.google.colaboratory.intrinsic+json": {
              "type": "dataframe"
            }
          },
          "metadata": {},
          "execution_count": 7
        }
      ]
    },
    {
      "cell_type": "code",
      "source": [
        "from sklearn.preprocessing import scale"
      ],
      "metadata": {
        "id": "jv32wiXhLHK9"
      },
      "execution_count": 8,
      "outputs": []
    },
    {
      "cell_type": "code",
      "source": [
        "X_train_s = scale(X_train)"
      ],
      "metadata": {
        "id": "rhMf0HPXMu7Z"
      },
      "execution_count": 9,
      "outputs": []
    },
    {
      "cell_type": "code",
      "source": [
        "X_test_s = scale(X_test)"
      ],
      "metadata": {
        "id": "YfhNuT1jMu-7"
      },
      "execution_count": 10,
      "outputs": []
    },
    {
      "cell_type": "code",
      "source": [
        "from sklearn.neighbors import KNeighborsClassifier"
      ],
      "metadata": {
        "id": "8laACweNMvAm"
      },
      "execution_count": 11,
      "outputs": []
    },
    {
      "cell_type": "code",
      "source": [
        "knns = KNeighborsClassifier(n_neighbors=5)"
      ],
      "metadata": {
        "id": "gZw9hJHrMvDP"
      },
      "execution_count": 12,
      "outputs": []
    },
    {
      "cell_type": "code",
      "source": [
        "knns.fit(X_train_s, y_train)\n",
        "knns.score(X_test_s, y_test)"
      ],
      "metadata": {
        "colab": {
          "base_uri": "https://localhost:8080/"
        },
        "id": "9bfuTtBbMvGk",
        "outputId": "64b3c529-24e7-4db9-b8cd-71c51c6bf62b"
      },
      "execution_count": 13,
      "outputs": [
        {
          "output_type": "execute_result",
          "data": {
            "text/plain": [
              "0.972027972027972"
            ]
          },
          "metadata": {},
          "execution_count": 13
        }
      ]
    },
    {
      "cell_type": "code",
      "source": [
        "# knns no scaling\n",
        "knns_ns = KNeighborsClassifier(n_neighbors=5)\n",
        "knns_ns.fit(X_train_s, y_train)\n",
        "knns_ns.score(X_test_s, y_test)\n",
        "# accuracy drops"
      ],
      "metadata": {
        "colab": {
          "base_uri": "https://localhost:8080/"
        },
        "id": "H536JamKMvIV",
        "outputId": "93f1c8f5-348f-4938-b820-498c15c37131"
      },
      "execution_count": 14,
      "outputs": [
        {
          "output_type": "execute_result",
          "data": {
            "text/plain": [
              "0.972027972027972"
            ]
          },
          "metadata": {},
          "execution_count": 14
        }
      ]
    },
    {
      "cell_type": "code",
      "source": [
        "dft.columns"
      ],
      "metadata": {
        "colab": {
          "base_uri": "https://localhost:8080/"
        },
        "id": "3LURRGtRMvL9",
        "outputId": "9b9c5988-eef9-4e8b-ee5c-9b4bd71d840d"
      },
      "execution_count": 15,
      "outputs": [
        {
          "output_type": "execute_result",
          "data": {
            "text/plain": [
              "Index(['mean radius', 'mean texture', 'mean perimeter', 'mean area',\n",
              "       'mean smoothness', 'mean compactness', 'mean concavity',\n",
              "       'mean concave points', 'mean symmetry', 'mean fractal dimension',\n",
              "       'radius error', 'texture error', 'perimeter error', 'area error',\n",
              "       'smoothness error', 'compactness error', 'concavity error',\n",
              "       'concave points error', 'symmetry error', 'fractal dimension error',\n",
              "       'worst radius', 'worst texture', 'worst perimeter', 'worst area',\n",
              "       'worst smoothness', 'worst compactness', 'worst concavity',\n",
              "       'worst concave points', 'worst symmetry', 'worst fractal dimension'],\n",
              "      dtype='object')"
            ]
          },
          "metadata": {},
          "execution_count": 15
        }
      ]
    },
    {
      "cell_type": "code",
      "source": [
        "area = list(dft.columns).index('mean area')\n",
        "concavity = list(dft.columns).index('mean concavity')"
      ],
      "metadata": {
        "id": "aw-KAAX7MvPT"
      },
      "execution_count": 16,
      "outputs": []
    },
    {
      "cell_type": "code",
      "source": [
        "knns2 = KNeighborsClassifier(n_neighbors=5)\n",
        "knns2.fit(X_train_s[:,[area,concavity]], y_train)\n",
        "knns2.score(X_train_s[:,[area,concavity]], y_test)"
      ],
      "metadata": {
        "id": "Uw3JdfkIMvQe"
      },
      "execution_count": null,
      "outputs": []
    },
    {
      "cell_type": "code",
      "source": [
        "knn_ns2 = KNeighborsClassifier(n_neighbors=5)\n",
        "knn_ns2.fit(X_train_s[:,[area,concavity]], y_train)\n",
        "knn_ns2.score(X_train_s[:,[area,concavity]], y_test)"
      ],
      "metadata": {
        "id": "5bQGU0sQPKnS"
      },
      "execution_count": null,
      "outputs": []
    },
    {
      "cell_type": "markdown",
      "metadata": {
        "id": "YmSwvMOTJeIB"
      },
      "source": [
        "- Create a loop and fit your train dataset and test your validation dataset for `k=1,15,2`.\n",
        "- Print the best validation score out of three neighbors and determine the `k` value with the highest score, $best_n$\n",
        "- Retrain your model with trainvalidation dataset for $k=best_n$\n",
        "- Print the score for test dataset for the latest trained model"
      ]
    },
    {
      "cell_type": "code",
      "execution_count": 18,
      "metadata": {
        "id": "0QE8M4eAJeIC"
      },
      "outputs": [],
      "source": [
        "X_val_s = scale(X_val)\n",
        "val_scores = []\n",
        "neighbors = np.arange(1,15,2)"
      ]
    },
    {
      "cell_type": "code",
      "source": [
        "for i in neighbors:\n",
        "    knn_i = KNeighborsClassifier(n_neighbors=i)\n",
        "    knn_i.fit(X_train_s, y_train)\n",
        "    sr_i = knn_i.score(X_val_s, y_val)\n",
        "    val_scores.append(sr_i)"
      ],
      "metadata": {
        "id": "mbG2wjTGQY8F"
      },
      "execution_count": 20,
      "outputs": []
    },
    {
      "cell_type": "code",
      "source": [
        "ind_best_param = np.argmax(val_scores)"
      ],
      "metadata": {
        "id": "y_G3zFH8QY_1"
      },
      "execution_count": 21,
      "outputs": []
    },
    {
      "cell_type": "code",
      "source": [
        "knnbest = KNeighborsClassifier(n_neighbors = neighbors[ind_best_param])"
      ],
      "metadata": {
        "id": "KmevhO9uQZBi"
      },
      "execution_count": 22,
      "outputs": []
    },
    {
      "cell_type": "code",
      "source": [
        "X_trainval_s = scale(X_trainval)\n",
        "knnbest.fit(X_trainval_s, y_trainval)"
      ],
      "metadata": {
        "id": "6FXRvC9pQZDs"
      },
      "execution_count": null,
      "outputs": []
    },
    {
      "cell_type": "code",
      "source": [
        "knnbest.score(X_test_s, y_test)"
      ],
      "metadata": {
        "id": "lT-2y72RQZGN",
        "colab": {
          "base_uri": "https://localhost:8080/"
        },
        "outputId": "e0a88034-0a02-435f-bd7f-e17d92c85701"
      },
      "execution_count": 24,
      "outputs": [
        {
          "output_type": "execute_result",
          "data": {
            "text/plain": [
              "0.958041958041958"
            ]
          },
          "metadata": {},
          "execution_count": 24
        }
      ]
    },
    {
      "cell_type": "markdown",
      "metadata": {
        "id": "K-CzZyzGJeIC"
      },
      "source": [
        "# Cross validation"
      ]
    },
    {
      "cell_type": "markdown",
      "metadata": {
        "id": "BWspVCNsJeIC"
      },
      "source": [
        "- Import `cross_val_score` from `sklearn.model_selection`\n",
        "- Split your data into train and test datasets\n",
        "- For `neighbors=1, 15, 2`, compute cross validation scores for trainvalidation dataset with kfold=10.\n",
        "- Print the best validation score out of three neighbors and determine the `k` value with the highest score, $best_n$\n",
        "- Retrain your model with trainvalidation dataset for $k=best_n$\n",
        "- Print the score for test dataset for the latest trained model"
      ]
    },
    {
      "cell_type": "code",
      "execution_count": 25,
      "metadata": {
        "id": "m5BBeXsBJeIE",
        "colab": {
          "base_uri": "https://localhost:8080/"
        },
        "outputId": "cfcd01b6-4cd9-4683-996a-af84d3f161d5"
      },
      "outputs": [
        {
          "output_type": "execute_result",
          "data": {
            "text/plain": [
              "array([0.97674419, 0.95348837, 0.93023256, 0.97674419, 0.95348837,\n",
              "       0.97674419, 0.9047619 , 0.97619048, 0.95238095, 0.97619048])"
            ]
          },
          "metadata": {},
          "execution_count": 25
        }
      ],
      "source": [
        "knn5 = KNeighborsClassifier(n_neighbors = 5)\n",
        "from sklearn.model_selection import cross_val_score\n",
        "\n",
        "cross_val_score(knn5, X_trainval_s, y_trainval, cv = 10)"
      ]
    },
    {
      "cell_type": "code",
      "source": [
        "X_val_s = scale(X_val)\n",
        "val_scores = []\n",
        "neighbors = np.arange(1,15,2)\n",
        "\n",
        "for i in neighbors:\n",
        "    knn_i = KNeighborsClassifier(n_neighbors=i)\n",
        "    cvs_i = cross_val_score(knn_i, X_trainval_s, y_trainval, cv = 10)\n",
        "    val_scores.append(np.mean(cvs_i))"
      ],
      "metadata": {
        "id": "DBFWiKepSCzj"
      },
      "execution_count": 26,
      "outputs": []
    },
    {
      "cell_type": "code",
      "source": [
        "ind_best_param = np.argmax(val_scores)\n",
        "print(neighbors[ind_best_param])\n",
        "knnbest = KNeighborsClassifier(n_neighbors = neighbors[ind_best_param])\n",
        "knnbest.fit(X_trainval_s, y_trainval)\n",
        "knnbest.score(X_test_s, y_test)\n",
        "# output should be 3 and 0.958..."
      ],
      "metadata": {
        "id": "34QgxbevSC3B",
        "colab": {
          "base_uri": "https://localhost:8080/"
        },
        "outputId": "42428a57-cb79-4fee-d61f-7865a35f79c9"
      },
      "execution_count": 27,
      "outputs": [
        {
          "output_type": "stream",
          "name": "stdout",
          "text": [
            "9\n"
          ]
        },
        {
          "output_type": "execute_result",
          "data": {
            "text/plain": [
              "0.972027972027972"
            ]
          },
          "metadata": {},
          "execution_count": 27
        }
      ]
    },
    {
      "cell_type": "markdown",
      "metadata": {
        "id": "HoPOTc9WJeIE"
      },
      "source": [
        "- Compute cross validation score for `KNeighborsClassifier()` when `cv=KFold(n_splits=5)` and `cv=StratifiedKFold(n_splits=5, shuffle=True)`"
      ]
    },
    {
      "cell_type": "code",
      "execution_count": 28,
      "metadata": {
        "id": "HH70iKPZJeIF"
      },
      "outputs": [],
      "source": [
        "np.set_printoptions(precision=2)"
      ]
    },
    {
      "cell_type": "code",
      "execution_count": null,
      "metadata": {
        "id": "uXfuqggZJeIF"
      },
      "outputs": [],
      "source": []
    },
    {
      "cell_type": "markdown",
      "metadata": {
        "id": "josyLORRJeIG"
      },
      "source": [
        "# GridSearchCV"
      ]
    },
    {
      "cell_type": "markdown",
      "metadata": {
        "id": "AziDrzcrJeIG"
      },
      "source": [
        "- Import `GridSearchCV` from `sklearn.model_selection`\n",
        "- Split your data into train and test datasets\n",
        "- For `neighbors=1 to 30`, compute `GridSearchCV` for train dataset with kfold=10.\n",
        "- Print the best cross validation score\n",
        "- Priont the best parameter\n",
        "- Print the test score"
      ]
    },
    {
      "cell_type": "code",
      "execution_count": 29,
      "metadata": {
        "id": "IDXi8NguJeIG"
      },
      "outputs": [],
      "source": [
        "from sklearn.model_selection import GridSearchCV"
      ]
    },
    {
      "cell_type": "code",
      "source": [
        "knn_g = KNeighborsClassifier()"
      ],
      "metadata": {
        "id": "VrNY_bOAUkZl"
      },
      "execution_count": 30,
      "outputs": []
    },
    {
      "cell_type": "code",
      "source": [
        "myparam = {'n_neighbors':np.arange(1,30,2)}"
      ],
      "metadata": {
        "id": "wgr0o4N-UmS1"
      },
      "execution_count": 31,
      "outputs": []
    },
    {
      "cell_type": "code",
      "source": [
        "mygrid = GridSearchCV(knn_g, param_grid = myparam, cv = 10, return_train_score = True)"
      ],
      "metadata": {
        "id": "plJ4zwyLV52N"
      },
      "execution_count": 32,
      "outputs": []
    },
    {
      "cell_type": "code",
      "source": [
        "mygrid.fit(X_trainval_s, y_trainval)"
      ],
      "metadata": {
        "id": "vSZT_wJuV54t"
      },
      "execution_count": null,
      "outputs": []
    },
    {
      "cell_type": "code",
      "source": [
        "results = pd.DataFrame(mygrid.cv_results_)"
      ],
      "metadata": {
        "id": "O1VLG2AaV59B"
      },
      "execution_count": 34,
      "outputs": []
    },
    {
      "cell_type": "code",
      "source": [
        "results.columns"
      ],
      "metadata": {
        "id": "ZqD4OyudUmWs",
        "colab": {
          "base_uri": "https://localhost:8080/"
        },
        "outputId": "925fe630-f503-49e6-b8f7-19c09033a1ad"
      },
      "execution_count": 35,
      "outputs": [
        {
          "output_type": "execute_result",
          "data": {
            "text/plain": [
              "Index(['mean_fit_time', 'std_fit_time', 'mean_score_time', 'std_score_time',\n",
              "       'param_n_neighbors', 'params', 'split0_test_score', 'split1_test_score',\n",
              "       'split2_test_score', 'split3_test_score', 'split4_test_score',\n",
              "       'split5_test_score', 'split6_test_score', 'split7_test_score',\n",
              "       'split8_test_score', 'split9_test_score', 'mean_test_score',\n",
              "       'std_test_score', 'rank_test_score', 'split0_train_score',\n",
              "       'split1_train_score', 'split2_train_score', 'split3_train_score',\n",
              "       'split4_train_score', 'split5_train_score', 'split6_train_score',\n",
              "       'split7_train_score', 'split8_train_score', 'split9_train_score',\n",
              "       'mean_train_score', 'std_train_score'],\n",
              "      dtype='object')"
            ]
          },
          "metadata": {},
          "execution_count": 35
        }
      ]
    },
    {
      "cell_type": "code",
      "source": [
        "results['param_n_neighbors']"
      ],
      "metadata": {
        "id": "E6Qnd-7nV9LC",
        "colab": {
          "base_uri": "https://localhost:8080/"
        },
        "outputId": "bc2924a4-6692-402b-d50e-5411f2d16a47"
      },
      "execution_count": 36,
      "outputs": [
        {
          "output_type": "execute_result",
          "data": {
            "text/plain": [
              "0      1\n",
              "1      3\n",
              "2      5\n",
              "3      7\n",
              "4      9\n",
              "5     11\n",
              "6     13\n",
              "7     15\n",
              "8     17\n",
              "9     19\n",
              "10    21\n",
              "11    23\n",
              "12    25\n",
              "13    27\n",
              "14    29\n",
              "Name: param_n_neighbors, dtype: int64"
            ],
            "text/html": [
              "<div>\n",
              "<style scoped>\n",
              "    .dataframe tbody tr th:only-of-type {\n",
              "        vertical-align: middle;\n",
              "    }\n",
              "\n",
              "    .dataframe tbody tr th {\n",
              "        vertical-align: top;\n",
              "    }\n",
              "\n",
              "    .dataframe thead th {\n",
              "        text-align: right;\n",
              "    }\n",
              "</style>\n",
              "<table border=\"1\" class=\"dataframe\">\n",
              "  <thead>\n",
              "    <tr style=\"text-align: right;\">\n",
              "      <th></th>\n",
              "      <th>param_n_neighbors</th>\n",
              "    </tr>\n",
              "  </thead>\n",
              "  <tbody>\n",
              "    <tr>\n",
              "      <th>0</th>\n",
              "      <td>1</td>\n",
              "    </tr>\n",
              "    <tr>\n",
              "      <th>1</th>\n",
              "      <td>3</td>\n",
              "    </tr>\n",
              "    <tr>\n",
              "      <th>2</th>\n",
              "      <td>5</td>\n",
              "    </tr>\n",
              "    <tr>\n",
              "      <th>3</th>\n",
              "      <td>7</td>\n",
              "    </tr>\n",
              "    <tr>\n",
              "      <th>4</th>\n",
              "      <td>9</td>\n",
              "    </tr>\n",
              "    <tr>\n",
              "      <th>5</th>\n",
              "      <td>11</td>\n",
              "    </tr>\n",
              "    <tr>\n",
              "      <th>6</th>\n",
              "      <td>13</td>\n",
              "    </tr>\n",
              "    <tr>\n",
              "      <th>7</th>\n",
              "      <td>15</td>\n",
              "    </tr>\n",
              "    <tr>\n",
              "      <th>8</th>\n",
              "      <td>17</td>\n",
              "    </tr>\n",
              "    <tr>\n",
              "      <th>9</th>\n",
              "      <td>19</td>\n",
              "    </tr>\n",
              "    <tr>\n",
              "      <th>10</th>\n",
              "      <td>21</td>\n",
              "    </tr>\n",
              "    <tr>\n",
              "      <th>11</th>\n",
              "      <td>23</td>\n",
              "    </tr>\n",
              "    <tr>\n",
              "      <th>12</th>\n",
              "      <td>25</td>\n",
              "    </tr>\n",
              "    <tr>\n",
              "      <th>13</th>\n",
              "      <td>27</td>\n",
              "    </tr>\n",
              "    <tr>\n",
              "      <th>14</th>\n",
              "      <td>29</td>\n",
              "    </tr>\n",
              "  </tbody>\n",
              "</table>\n",
              "</div><br><label><b>dtype:</b> int64</label>"
            ]
          },
          "metadata": {},
          "execution_count": 36
        }
      ]
    },
    {
      "cell_type": "code",
      "source": [
        "import matplotlib.pyplot as plt"
      ],
      "metadata": {
        "id": "JcCKFsN_Vwsp"
      },
      "execution_count": 38,
      "outputs": []
    },
    {
      "cell_type": "code",
      "source": [
        "plt.plot(results['param_n_neighbors'], results['mean_train_score'])\n",
        "plt.plot(results['param_n_neighbors'], results['mean_train_score']);"
      ],
      "metadata": {
        "id": "xGGB1oeFVzWE"
      },
      "execution_count": null,
      "outputs": []
    },
    {
      "cell_type": "code",
      "source": [
        "mygrid.best_params_"
      ],
      "metadata": {
        "id": "JBQaopcHVzan",
        "colab": {
          "base_uri": "https://localhost:8080/"
        },
        "outputId": "817c2df5-2c90-46aa-b8a1-8a50196d441f"
      },
      "execution_count": 42,
      "outputs": [
        {
          "output_type": "execute_result",
          "data": {
            "text/plain": [
              "{'n_neighbors': 9}"
            ]
          },
          "metadata": {},
          "execution_count": 42
        }
      ]
    },
    {
      "cell_type": "code",
      "source": [
        "mygrid.best_estimator_"
      ],
      "metadata": {
        "id": "cvn4qmSrVzdD"
      },
      "execution_count": null,
      "outputs": []
    },
    {
      "cell_type": "code",
      "source": [
        "mygrid"
      ],
      "metadata": {
        "id": "vfGfNS6cVzfK"
      },
      "execution_count": null,
      "outputs": []
    }
  ],
  "metadata": {
    "anaconda-cloud": {},
    "kernelspec": {
      "display_name": "Python 3 (ipykernel)",
      "language": "python",
      "name": "python3"
    },
    "language_info": {
      "codemirror_mode": {
        "name": "ipython",
        "version": 3
      },
      "file_extension": ".py",
      "mimetype": "text/x-python",
      "name": "python",
      "nbconvert_exporter": "python",
      "pygments_lexer": "ipython3",
      "version": "3.11.4"
    },
    "colab": {
      "provenance": []
    }
  },
  "nbformat": 4,
  "nbformat_minor": 0
}