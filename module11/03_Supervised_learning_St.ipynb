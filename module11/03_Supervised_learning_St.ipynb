{
 "cells": [
  {
   "cell_type": "markdown",
   "metadata": {
    "id": "N5cXueLvJeH-"
   },
   "source": [
    "### Check Version of the Relevant Libraries"
   ]
  },
  {
   "cell_type": "markdown",
   "metadata": {
    "id": "ArlU1I1TJeIA"
   },
   "source": [
    "# Overfitting the test set"
   ]
  },
  {
   "cell_type": "markdown",
   "metadata": {
    "id": "zZbQVKyHJeIA"
   },
   "source": [
    "- Import `breast_cancer` dataset from Scikitlearn\n",
    "- Scale the feature set\n",
    "- Split data into first trainval and test, then split trainval into validation and train datasets\n",
    "- Fit train dataset for `k=5` neighbors\n",
    "- print the score on validation and test datasets"
   ]
  },
  {
   "cell_type": "code",
   "execution_count": 8,
   "metadata": {
    "id": "A-jbX6HWJeIB"
   },
   "outputs": [],
   "source": [
    "import sklearn\n",
    "from sklearn.datasets import load_breast_cancer\n",
    "cancer = load_breast_cancer()\n",
    "X = cancer.data\n",
    "y = cancer.target"
   ]
  },
  {
   "cell_type": "code",
   "execution_count": 9,
   "metadata": {
    "colab": {
     "base_uri": "https://localhost:8080/"
    },
    "id": "WQKFonTWJeIA",
    "outputId": "300ac37b-cc81-44de-febd-cf4c27bd0ddf"
   },
   "outputs": [
    {
     "data": {
      "text/plain": [
       "(array([0, 1]), array([212, 357]))"
      ]
     },
     "execution_count": 9,
     "metadata": {},
     "output_type": "execute_result"
    }
   ],
   "source": [
    "import numpy as np\n",
    "np.unique(y, return_counts=True)"
   ]
  },
  {
   "cell_type": "code",
   "execution_count": 10,
   "metadata": {
    "id": "7cl0mtpSJnI-"
   },
   "outputs": [],
   "source": [
    "from sklearn.model_selection import train_test_split\n",
    "X_trainval, X_test, y_trainval, y_test = train_test_split(X, y, stratify = y)"
   ]
  },
  {
   "cell_type": "code",
   "execution_count": 11,
   "metadata": {
    "id": "r_M0NRWdJnQi"
   },
   "outputs": [],
   "source": [
    "X_train, X_val, y_train, y_val = train_test_split(X_trainval, y_trainval, stratify = y_trainval)"
   ]
  },
  {
   "cell_type": "code",
   "execution_count": 12,
   "metadata": {
    "id": "elpTV9vYJnTX"
   },
   "outputs": [],
   "source": [
    "import pandas as pd\n",
    "dft = pd.DataFrame(X_train, columns = cancer.feature_names)"
   ]
  },
  {
   "cell_type": "code",
   "execution_count": 13,
   "metadata": {
    "colab": {
     "base_uri": "https://localhost:8080/"
    },
    "id": "1ZCIwi43JnWH",
    "outputId": "fc815c4a-df88-47d6-89cb-8ccda7e0693d"
   },
   "outputs": [
    {
     "data": {
      "text/html": [
       "<div>\n",
       "<style scoped>\n",
       "    .dataframe tbody tr th:only-of-type {\n",
       "        vertical-align: middle;\n",
       "    }\n",
       "\n",
       "    .dataframe tbody tr th {\n",
       "        vertical-align: top;\n",
       "    }\n",
       "\n",
       "    .dataframe thead th {\n",
       "        text-align: right;\n",
       "    }\n",
       "</style>\n",
       "<table border=\"1\" class=\"dataframe\">\n",
       "  <thead>\n",
       "    <tr style=\"text-align: right;\">\n",
       "      <th></th>\n",
       "      <th>mean radius</th>\n",
       "      <th>mean texture</th>\n",
       "      <th>mean perimeter</th>\n",
       "      <th>mean area</th>\n",
       "      <th>mean smoothness</th>\n",
       "      <th>mean compactness</th>\n",
       "      <th>mean concavity</th>\n",
       "      <th>mean concave points</th>\n",
       "      <th>mean symmetry</th>\n",
       "      <th>mean fractal dimension</th>\n",
       "      <th>...</th>\n",
       "      <th>worst radius</th>\n",
       "      <th>worst texture</th>\n",
       "      <th>worst perimeter</th>\n",
       "      <th>worst area</th>\n",
       "      <th>worst smoothness</th>\n",
       "      <th>worst compactness</th>\n",
       "      <th>worst concavity</th>\n",
       "      <th>worst concave points</th>\n",
       "      <th>worst symmetry</th>\n",
       "      <th>worst fractal dimension</th>\n",
       "    </tr>\n",
       "  </thead>\n",
       "  <tbody>\n",
       "    <tr>\n",
       "      <th>0</th>\n",
       "      <td>12.54</td>\n",
       "      <td>18.07</td>\n",
       "      <td>79.42</td>\n",
       "      <td>491.9</td>\n",
       "      <td>0.07436</td>\n",
       "      <td>0.02650</td>\n",
       "      <td>0.001194</td>\n",
       "      <td>0.005449</td>\n",
       "      <td>0.1528</td>\n",
       "      <td>0.05185</td>\n",
       "      <td>...</td>\n",
       "      <td>13.72</td>\n",
       "      <td>20.98</td>\n",
       "      <td>86.82</td>\n",
       "      <td>585.7</td>\n",
       "      <td>0.09293</td>\n",
       "      <td>0.04327</td>\n",
       "      <td>0.003581</td>\n",
       "      <td>0.01635</td>\n",
       "      <td>0.2233</td>\n",
       "      <td>0.05521</td>\n",
       "    </tr>\n",
       "    <tr>\n",
       "      <th>1</th>\n",
       "      <td>12.06</td>\n",
       "      <td>12.74</td>\n",
       "      <td>76.84</td>\n",
       "      <td>448.6</td>\n",
       "      <td>0.09311</td>\n",
       "      <td>0.05241</td>\n",
       "      <td>0.019720</td>\n",
       "      <td>0.019630</td>\n",
       "      <td>0.1590</td>\n",
       "      <td>0.05907</td>\n",
       "      <td>...</td>\n",
       "      <td>13.14</td>\n",
       "      <td>18.41</td>\n",
       "      <td>84.08</td>\n",
       "      <td>532.8</td>\n",
       "      <td>0.12750</td>\n",
       "      <td>0.12320</td>\n",
       "      <td>0.086360</td>\n",
       "      <td>0.07025</td>\n",
       "      <td>0.2514</td>\n",
       "      <td>0.07898</td>\n",
       "    </tr>\n",
       "    <tr>\n",
       "      <th>2</th>\n",
       "      <td>16.16</td>\n",
       "      <td>21.54</td>\n",
       "      <td>106.20</td>\n",
       "      <td>809.8</td>\n",
       "      <td>0.10080</td>\n",
       "      <td>0.12840</td>\n",
       "      <td>0.104300</td>\n",
       "      <td>0.056130</td>\n",
       "      <td>0.2160</td>\n",
       "      <td>0.05891</td>\n",
       "      <td>...</td>\n",
       "      <td>19.47</td>\n",
       "      <td>31.68</td>\n",
       "      <td>129.70</td>\n",
       "      <td>1175.0</td>\n",
       "      <td>0.13950</td>\n",
       "      <td>0.30550</td>\n",
       "      <td>0.299200</td>\n",
       "      <td>0.13120</td>\n",
       "      <td>0.3480</td>\n",
       "      <td>0.07619</td>\n",
       "    </tr>\n",
       "    <tr>\n",
       "      <th>3</th>\n",
       "      <td>13.90</td>\n",
       "      <td>19.24</td>\n",
       "      <td>88.73</td>\n",
       "      <td>602.9</td>\n",
       "      <td>0.07991</td>\n",
       "      <td>0.05326</td>\n",
       "      <td>0.029950</td>\n",
       "      <td>0.020700</td>\n",
       "      <td>0.1579</td>\n",
       "      <td>0.05594</td>\n",
       "      <td>...</td>\n",
       "      <td>16.41</td>\n",
       "      <td>26.42</td>\n",
       "      <td>104.40</td>\n",
       "      <td>830.5</td>\n",
       "      <td>0.10640</td>\n",
       "      <td>0.14150</td>\n",
       "      <td>0.167300</td>\n",
       "      <td>0.08150</td>\n",
       "      <td>0.2356</td>\n",
       "      <td>0.07603</td>\n",
       "    </tr>\n",
       "    <tr>\n",
       "      <th>4</th>\n",
       "      <td>10.18</td>\n",
       "      <td>17.53</td>\n",
       "      <td>65.12</td>\n",
       "      <td>313.1</td>\n",
       "      <td>0.10610</td>\n",
       "      <td>0.08502</td>\n",
       "      <td>0.017680</td>\n",
       "      <td>0.019150</td>\n",
       "      <td>0.1910</td>\n",
       "      <td>0.06908</td>\n",
       "      <td>...</td>\n",
       "      <td>11.17</td>\n",
       "      <td>22.84</td>\n",
       "      <td>71.94</td>\n",
       "      <td>375.6</td>\n",
       "      <td>0.14060</td>\n",
       "      <td>0.14400</td>\n",
       "      <td>0.065720</td>\n",
       "      <td>0.05575</td>\n",
       "      <td>0.3055</td>\n",
       "      <td>0.08797</td>\n",
       "    </tr>\n",
       "  </tbody>\n",
       "</table>\n",
       "<p>5 rows × 30 columns</p>\n",
       "</div>"
      ],
      "text/plain": [
       "   mean radius  mean texture  mean perimeter  mean area  mean smoothness  \\\n",
       "0        12.54         18.07           79.42      491.9          0.07436   \n",
       "1        12.06         12.74           76.84      448.6          0.09311   \n",
       "2        16.16         21.54          106.20      809.8          0.10080   \n",
       "3        13.90         19.24           88.73      602.9          0.07991   \n",
       "4        10.18         17.53           65.12      313.1          0.10610   \n",
       "\n",
       "   mean compactness  mean concavity  mean concave points  mean symmetry  \\\n",
       "0           0.02650        0.001194             0.005449         0.1528   \n",
       "1           0.05241        0.019720             0.019630         0.1590   \n",
       "2           0.12840        0.104300             0.056130         0.2160   \n",
       "3           0.05326        0.029950             0.020700         0.1579   \n",
       "4           0.08502        0.017680             0.019150         0.1910   \n",
       "\n",
       "   mean fractal dimension  ...  worst radius  worst texture  worst perimeter  \\\n",
       "0                 0.05185  ...         13.72          20.98            86.82   \n",
       "1                 0.05907  ...         13.14          18.41            84.08   \n",
       "2                 0.05891  ...         19.47          31.68           129.70   \n",
       "3                 0.05594  ...         16.41          26.42           104.40   \n",
       "4                 0.06908  ...         11.17          22.84            71.94   \n",
       "\n",
       "   worst area  worst smoothness  worst compactness  worst concavity  \\\n",
       "0       585.7           0.09293            0.04327         0.003581   \n",
       "1       532.8           0.12750            0.12320         0.086360   \n",
       "2      1175.0           0.13950            0.30550         0.299200   \n",
       "3       830.5           0.10640            0.14150         0.167300   \n",
       "4       375.6           0.14060            0.14400         0.065720   \n",
       "\n",
       "   worst concave points  worst symmetry  worst fractal dimension  \n",
       "0               0.01635          0.2233                  0.05521  \n",
       "1               0.07025          0.2514                  0.07898  \n",
       "2               0.13120          0.3480                  0.07619  \n",
       "3               0.08150          0.2356                  0.07603  \n",
       "4               0.05575          0.3055                  0.08797  \n",
       "\n",
       "[5 rows x 30 columns]"
      ]
     },
     "execution_count": 13,
     "metadata": {},
     "output_type": "execute_result"
    }
   ],
   "source": [
    "dft.head(5)"
   ]
  },
  {
   "cell_type": "code",
   "execution_count": 14,
   "metadata": {
    "colab": {
     "base_uri": "https://localhost:8080/"
    },
    "id": "VBd9uv2tLHHw",
    "outputId": "2597b260-7d3f-4667-d1ab-f44380215f5a"
   },
   "outputs": [
    {
     "data": {
      "text/html": [
       "<div>\n",
       "<style scoped>\n",
       "    .dataframe tbody tr th:only-of-type {\n",
       "        vertical-align: middle;\n",
       "    }\n",
       "\n",
       "    .dataframe tbody tr th {\n",
       "        vertical-align: top;\n",
       "    }\n",
       "\n",
       "    .dataframe thead th {\n",
       "        text-align: right;\n",
       "    }\n",
       "</style>\n",
       "<table border=\"1\" class=\"dataframe\">\n",
       "  <thead>\n",
       "    <tr style=\"text-align: right;\">\n",
       "      <th></th>\n",
       "      <th>mean radius</th>\n",
       "      <th>mean texture</th>\n",
       "      <th>mean perimeter</th>\n",
       "      <th>mean area</th>\n",
       "      <th>mean smoothness</th>\n",
       "      <th>mean compactness</th>\n",
       "      <th>mean concavity</th>\n",
       "      <th>mean concave points</th>\n",
       "      <th>mean symmetry</th>\n",
       "      <th>mean fractal dimension</th>\n",
       "      <th>...</th>\n",
       "      <th>worst radius</th>\n",
       "      <th>worst texture</th>\n",
       "      <th>worst perimeter</th>\n",
       "      <th>worst area</th>\n",
       "      <th>worst smoothness</th>\n",
       "      <th>worst compactness</th>\n",
       "      <th>worst concavity</th>\n",
       "      <th>worst concave points</th>\n",
       "      <th>worst symmetry</th>\n",
       "      <th>worst fractal dimension</th>\n",
       "    </tr>\n",
       "  </thead>\n",
       "  <tbody>\n",
       "    <tr>\n",
       "      <th>count</th>\n",
       "      <td>319.000000</td>\n",
       "      <td>319.000000</td>\n",
       "      <td>319.000000</td>\n",
       "      <td>319.000000</td>\n",
       "      <td>319.000000</td>\n",
       "      <td>319.000000</td>\n",
       "      <td>319.000000</td>\n",
       "      <td>319.000000</td>\n",
       "      <td>319.000000</td>\n",
       "      <td>319.000000</td>\n",
       "      <td>...</td>\n",
       "      <td>319.000000</td>\n",
       "      <td>319.000000</td>\n",
       "      <td>319.000000</td>\n",
       "      <td>319.000000</td>\n",
       "      <td>319.000000</td>\n",
       "      <td>319.000000</td>\n",
       "      <td>319.000000</td>\n",
       "      <td>319.000000</td>\n",
       "      <td>319.000000</td>\n",
       "      <td>319.000000</td>\n",
       "    </tr>\n",
       "    <tr>\n",
       "      <th>mean</th>\n",
       "      <td>14.105552</td>\n",
       "      <td>19.310000</td>\n",
       "      <td>91.750000</td>\n",
       "      <td>653.376489</td>\n",
       "      <td>0.095909</td>\n",
       "      <td>0.101769</td>\n",
       "      <td>0.084982</td>\n",
       "      <td>0.047627</td>\n",
       "      <td>0.180893</td>\n",
       "      <td>0.062526</td>\n",
       "      <td>...</td>\n",
       "      <td>16.257868</td>\n",
       "      <td>25.740972</td>\n",
       "      <td>106.980282</td>\n",
       "      <td>880.465204</td>\n",
       "      <td>0.130828</td>\n",
       "      <td>0.244793</td>\n",
       "      <td>0.258457</td>\n",
       "      <td>0.111571</td>\n",
       "      <td>0.290256</td>\n",
       "      <td>0.082883</td>\n",
       "    </tr>\n",
       "    <tr>\n",
       "      <th>std</th>\n",
       "      <td>3.538039</td>\n",
       "      <td>4.309883</td>\n",
       "      <td>24.444909</td>\n",
       "      <td>356.313106</td>\n",
       "      <td>0.014378</td>\n",
       "      <td>0.054068</td>\n",
       "      <td>0.080491</td>\n",
       "      <td>0.039183</td>\n",
       "      <td>0.028796</td>\n",
       "      <td>0.006891</td>\n",
       "      <td>...</td>\n",
       "      <td>4.903859</td>\n",
       "      <td>6.294386</td>\n",
       "      <td>34.313310</td>\n",
       "      <td>587.328237</td>\n",
       "      <td>0.022652</td>\n",
       "      <td>0.160590</td>\n",
       "      <td>0.206969</td>\n",
       "      <td>0.066876</td>\n",
       "      <td>0.067423</td>\n",
       "      <td>0.018140</td>\n",
       "    </tr>\n",
       "    <tr>\n",
       "      <th>min</th>\n",
       "      <td>7.760000</td>\n",
       "      <td>9.710000</td>\n",
       "      <td>47.920000</td>\n",
       "      <td>181.000000</td>\n",
       "      <td>0.052630</td>\n",
       "      <td>0.019380</td>\n",
       "      <td>0.000000</td>\n",
       "      <td>0.000000</td>\n",
       "      <td>0.106000</td>\n",
       "      <td>0.049960</td>\n",
       "      <td>...</td>\n",
       "      <td>8.952000</td>\n",
       "      <td>12.020000</td>\n",
       "      <td>56.650000</td>\n",
       "      <td>240.100000</td>\n",
       "      <td>0.071170</td>\n",
       "      <td>0.027290</td>\n",
       "      <td>0.000000</td>\n",
       "      <td>0.000000</td>\n",
       "      <td>0.156500</td>\n",
       "      <td>0.055040</td>\n",
       "    </tr>\n",
       "    <tr>\n",
       "      <th>25%</th>\n",
       "      <td>11.615000</td>\n",
       "      <td>16.175000</td>\n",
       "      <td>74.860000</td>\n",
       "      <td>414.450000</td>\n",
       "      <td>0.085130</td>\n",
       "      <td>0.062190</td>\n",
       "      <td>0.028010</td>\n",
       "      <td>0.020335</td>\n",
       "      <td>0.161100</td>\n",
       "      <td>0.057665</td>\n",
       "      <td>...</td>\n",
       "      <td>13.005000</td>\n",
       "      <td>21.070000</td>\n",
       "      <td>83.680000</td>\n",
       "      <td>511.500000</td>\n",
       "      <td>0.114350</td>\n",
       "      <td>0.135450</td>\n",
       "      <td>0.104250</td>\n",
       "      <td>0.061625</td>\n",
       "      <td>0.247950</td>\n",
       "      <td>0.071250</td>\n",
       "    </tr>\n",
       "    <tr>\n",
       "      <th>50%</th>\n",
       "      <td>13.340000</td>\n",
       "      <td>18.890000</td>\n",
       "      <td>86.340000</td>\n",
       "      <td>546.400000</td>\n",
       "      <td>0.094880</td>\n",
       "      <td>0.087110</td>\n",
       "      <td>0.056990</td>\n",
       "      <td>0.032750</td>\n",
       "      <td>0.178400</td>\n",
       "      <td>0.061320</td>\n",
       "      <td>...</td>\n",
       "      <td>14.980000</td>\n",
       "      <td>25.480000</td>\n",
       "      <td>97.330000</td>\n",
       "      <td>684.600000</td>\n",
       "      <td>0.129700</td>\n",
       "      <td>0.204900</td>\n",
       "      <td>0.208500</td>\n",
       "      <td>0.097490</td>\n",
       "      <td>0.282600</td>\n",
       "      <td>0.078730</td>\n",
       "    </tr>\n",
       "    <tr>\n",
       "      <th>75%</th>\n",
       "      <td>15.655000</td>\n",
       "      <td>21.855000</td>\n",
       "      <td>102.750000</td>\n",
       "      <td>758.600000</td>\n",
       "      <td>0.105200</td>\n",
       "      <td>0.128350</td>\n",
       "      <td>0.120400</td>\n",
       "      <td>0.070140</td>\n",
       "      <td>0.195100</td>\n",
       "      <td>0.066235</td>\n",
       "      <td>...</td>\n",
       "      <td>18.635000</td>\n",
       "      <td>29.880000</td>\n",
       "      <td>125.050000</td>\n",
       "      <td>1060.000000</td>\n",
       "      <td>0.142950</td>\n",
       "      <td>0.311300</td>\n",
       "      <td>0.369600</td>\n",
       "      <td>0.156000</td>\n",
       "      <td>0.319450</td>\n",
       "      <td>0.090285</td>\n",
       "    </tr>\n",
       "    <tr>\n",
       "      <th>max</th>\n",
       "      <td>27.420000</td>\n",
       "      <td>33.810000</td>\n",
       "      <td>186.900000</td>\n",
       "      <td>2501.000000</td>\n",
       "      <td>0.144700</td>\n",
       "      <td>0.345400</td>\n",
       "      <td>0.426800</td>\n",
       "      <td>0.201200</td>\n",
       "      <td>0.304000</td>\n",
       "      <td>0.097440</td>\n",
       "      <td>...</td>\n",
       "      <td>36.040000</td>\n",
       "      <td>49.540000</td>\n",
       "      <td>251.200000</td>\n",
       "      <td>4254.000000</td>\n",
       "      <td>0.222600</td>\n",
       "      <td>1.058000</td>\n",
       "      <td>1.105000</td>\n",
       "      <td>0.291000</td>\n",
       "      <td>0.663800</td>\n",
       "      <td>0.207500</td>\n",
       "    </tr>\n",
       "  </tbody>\n",
       "</table>\n",
       "<p>8 rows × 30 columns</p>\n",
       "</div>"
      ],
      "text/plain": [
       "       mean radius  mean texture  mean perimeter    mean area  \\\n",
       "count   319.000000    319.000000      319.000000   319.000000   \n",
       "mean     14.105552     19.310000       91.750000   653.376489   \n",
       "std       3.538039      4.309883       24.444909   356.313106   \n",
       "min       7.760000      9.710000       47.920000   181.000000   \n",
       "25%      11.615000     16.175000       74.860000   414.450000   \n",
       "50%      13.340000     18.890000       86.340000   546.400000   \n",
       "75%      15.655000     21.855000      102.750000   758.600000   \n",
       "max      27.420000     33.810000      186.900000  2501.000000   \n",
       "\n",
       "       mean smoothness  mean compactness  mean concavity  mean concave points  \\\n",
       "count       319.000000        319.000000      319.000000           319.000000   \n",
       "mean          0.095909          0.101769        0.084982             0.047627   \n",
       "std           0.014378          0.054068        0.080491             0.039183   \n",
       "min           0.052630          0.019380        0.000000             0.000000   \n",
       "25%           0.085130          0.062190        0.028010             0.020335   \n",
       "50%           0.094880          0.087110        0.056990             0.032750   \n",
       "75%           0.105200          0.128350        0.120400             0.070140   \n",
       "max           0.144700          0.345400        0.426800             0.201200   \n",
       "\n",
       "       mean symmetry  mean fractal dimension  ...  worst radius  \\\n",
       "count     319.000000              319.000000  ...    319.000000   \n",
       "mean        0.180893                0.062526  ...     16.257868   \n",
       "std         0.028796                0.006891  ...      4.903859   \n",
       "min         0.106000                0.049960  ...      8.952000   \n",
       "25%         0.161100                0.057665  ...     13.005000   \n",
       "50%         0.178400                0.061320  ...     14.980000   \n",
       "75%         0.195100                0.066235  ...     18.635000   \n",
       "max         0.304000                0.097440  ...     36.040000   \n",
       "\n",
       "       worst texture  worst perimeter   worst area  worst smoothness  \\\n",
       "count     319.000000       319.000000   319.000000        319.000000   \n",
       "mean       25.740972       106.980282   880.465204          0.130828   \n",
       "std         6.294386        34.313310   587.328237          0.022652   \n",
       "min        12.020000        56.650000   240.100000          0.071170   \n",
       "25%        21.070000        83.680000   511.500000          0.114350   \n",
       "50%        25.480000        97.330000   684.600000          0.129700   \n",
       "75%        29.880000       125.050000  1060.000000          0.142950   \n",
       "max        49.540000       251.200000  4254.000000          0.222600   \n",
       "\n",
       "       worst compactness  worst concavity  worst concave points  \\\n",
       "count         319.000000       319.000000            319.000000   \n",
       "mean            0.244793         0.258457              0.111571   \n",
       "std             0.160590         0.206969              0.066876   \n",
       "min             0.027290         0.000000              0.000000   \n",
       "25%             0.135450         0.104250              0.061625   \n",
       "50%             0.204900         0.208500              0.097490   \n",
       "75%             0.311300         0.369600              0.156000   \n",
       "max             1.058000         1.105000              0.291000   \n",
       "\n",
       "       worst symmetry  worst fractal dimension  \n",
       "count      319.000000               319.000000  \n",
       "mean         0.290256                 0.082883  \n",
       "std          0.067423                 0.018140  \n",
       "min          0.156500                 0.055040  \n",
       "25%          0.247950                 0.071250  \n",
       "50%          0.282600                 0.078730  \n",
       "75%          0.319450                 0.090285  \n",
       "max          0.663800                 0.207500  \n",
       "\n",
       "[8 rows x 30 columns]"
      ]
     },
     "execution_count": 14,
     "metadata": {},
     "output_type": "execute_result"
    }
   ],
   "source": [
    "dft.describe()\n",
    "# row  should see mean(radius, texture, perimeter, smoothness, concavity ...)\n",
    "# column should see count, mean std, min, 25, 50, 75, max"
   ]
  },
  {
   "cell_type": "code",
   "execution_count": 15,
   "metadata": {
    "id": "jv32wiXhLHK9"
   },
   "outputs": [],
   "source": [
    "from sklearn.preprocessing import scale"
   ]
  },
  {
   "cell_type": "code",
   "execution_count": 16,
   "metadata": {
    "id": "rhMf0HPXMu7Z"
   },
   "outputs": [],
   "source": [
    "X_train_s = scale(X_train)"
   ]
  },
  {
   "cell_type": "code",
   "execution_count": 17,
   "metadata": {
    "id": "YfhNuT1jMu-7"
   },
   "outputs": [],
   "source": [
    "X_test_s = scale(X_test)"
   ]
  },
  {
   "cell_type": "code",
   "execution_count": 18,
   "metadata": {
    "id": "8laACweNMvAm"
   },
   "outputs": [],
   "source": [
    "from sklearn.neighbors import KNeighborsClassifier"
   ]
  },
  {
   "cell_type": "code",
   "execution_count": 19,
   "metadata": {
    "id": "gZw9hJHrMvDP"
   },
   "outputs": [],
   "source": [
    "knns = KNeighborsClassifier(n_neighbors=5)"
   ]
  },
  {
   "cell_type": "code",
   "execution_count": 20,
   "metadata": {
    "colab": {
     "base_uri": "https://localhost:8080/"
    },
    "id": "9bfuTtBbMvGk",
    "outputId": "7b27bec8-d847-4f44-d1a7-38aba569d488"
   },
   "outputs": [
    {
     "data": {
      "text/plain": [
       "0.9790209790209791"
      ]
     },
     "execution_count": 20,
     "metadata": {},
     "output_type": "execute_result"
    }
   ],
   "source": [
    "knns.fit(X_train_s, y_train)\n",
    "knns.score(X_test_s, y_test)"
   ]
  },
  {
   "cell_type": "code",
   "execution_count": 21,
   "metadata": {
    "colab": {
     "base_uri": "https://localhost:8080/"
    },
    "id": "H536JamKMvIV",
    "outputId": "f20d632b-4dd9-4523-e164-e5c1c1fb3e4b"
   },
   "outputs": [
    {
     "data": {
      "text/plain": [
       "0.9790209790209791"
      ]
     },
     "execution_count": 21,
     "metadata": {},
     "output_type": "execute_result"
    }
   ],
   "source": [
    "# knns no scaling\n",
    "knns_ns = KNeighborsClassifier(n_neighbors=5)\n",
    "knns_ns.fit(X_train_s, y_train)\n",
    "knns_ns.score(X_test_s, y_test)\n",
    "# accuracy drops"
   ]
  },
  {
   "cell_type": "code",
   "execution_count": 22,
   "metadata": {
    "colab": {
     "base_uri": "https://localhost:8080/"
    },
    "id": "3LURRGtRMvL9",
    "outputId": "7a5a5298-ae6e-4ab1-9be2-d8b703340a21"
   },
   "outputs": [
    {
     "data": {
      "text/plain": [
       "Index(['mean radius', 'mean texture', 'mean perimeter', 'mean area',\n",
       "       'mean smoothness', 'mean compactness', 'mean concavity',\n",
       "       'mean concave points', 'mean symmetry', 'mean fractal dimension',\n",
       "       'radius error', 'texture error', 'perimeter error', 'area error',\n",
       "       'smoothness error', 'compactness error', 'concavity error',\n",
       "       'concave points error', 'symmetry error', 'fractal dimension error',\n",
       "       'worst radius', 'worst texture', 'worst perimeter', 'worst area',\n",
       "       'worst smoothness', 'worst compactness', 'worst concavity',\n",
       "       'worst concave points', 'worst symmetry', 'worst fractal dimension'],\n",
       "      dtype='object')"
      ]
     },
     "execution_count": 22,
     "metadata": {},
     "output_type": "execute_result"
    }
   ],
   "source": [
    "dft.columns"
   ]
  },
  {
   "cell_type": "code",
   "execution_count": 23,
   "metadata": {
    "id": "aw-KAAX7MvPT"
   },
   "outputs": [],
   "source": [
    "area = list(dft.columns).index('mean area')\n",
    "concavity = list(dft.columns).index('mean concavity')"
   ]
  },
  {
   "cell_type": "code",
   "execution_count": 24,
   "metadata": {
    "id": "Uw3JdfkIMvQe"
   },
   "outputs": [
    {
     "ename": "ValueError",
     "evalue": "Found input variables with inconsistent numbers of samples: [143, 319]",
     "output_type": "error",
     "traceback": [
      "\u001b[0;31m---------------------------------------------------------------------------\u001b[0m",
      "\u001b[0;31mValueError\u001b[0m                                Traceback (most recent call last)",
      "Cell \u001b[0;32mIn[24], line 3\u001b[0m\n\u001b[1;32m      1\u001b[0m knns2 \u001b[38;5;241m=\u001b[39m KNeighborsClassifier(n_neighbors\u001b[38;5;241m=\u001b[39m\u001b[38;5;241m5\u001b[39m)\n\u001b[1;32m      2\u001b[0m knns2\u001b[38;5;241m.\u001b[39mfit(X_train_s[:,[area,concavity]], y_train)\n\u001b[0;32m----> 3\u001b[0m \u001b[43mknns2\u001b[49m\u001b[38;5;241;43m.\u001b[39;49m\u001b[43mscore\u001b[49m\u001b[43m(\u001b[49m\u001b[43mX_train_s\u001b[49m\u001b[43m[\u001b[49m\u001b[43m:\u001b[49m\u001b[43m,\u001b[49m\u001b[43m[\u001b[49m\u001b[43marea\u001b[49m\u001b[43m,\u001b[49m\u001b[43mconcavity\u001b[49m\u001b[43m]\u001b[49m\u001b[43m]\u001b[49m\u001b[43m,\u001b[49m\u001b[43m \u001b[49m\u001b[43my_test\u001b[49m\u001b[43m)\u001b[49m\n",
      "File \u001b[0;32m/Library/Frameworks/Python.framework/Versions/3.9/lib/python3.9/site-packages/sklearn/base.py:764\u001b[0m, in \u001b[0;36mClassifierMixin.score\u001b[0;34m(self, X, y, sample_weight)\u001b[0m\n\u001b[1;32m    739\u001b[0m \u001b[38;5;250m\u001b[39m\u001b[38;5;124;03m\"\"\"\u001b[39;00m\n\u001b[1;32m    740\u001b[0m \u001b[38;5;124;03mReturn the mean accuracy on the given test data and labels.\u001b[39;00m\n\u001b[1;32m    741\u001b[0m \n\u001b[0;32m   (...)\u001b[0m\n\u001b[1;32m    760\u001b[0m \u001b[38;5;124;03m    Mean accuracy of ``self.predict(X)`` w.r.t. `y`.\u001b[39;00m\n\u001b[1;32m    761\u001b[0m \u001b[38;5;124;03m\"\"\"\u001b[39;00m\n\u001b[1;32m    762\u001b[0m \u001b[38;5;28;01mfrom\u001b[39;00m \u001b[38;5;21;01m.\u001b[39;00m\u001b[38;5;21;01mmetrics\u001b[39;00m \u001b[38;5;28;01mimport\u001b[39;00m accuracy_score\n\u001b[0;32m--> 764\u001b[0m \u001b[38;5;28;01mreturn\u001b[39;00m \u001b[43maccuracy_score\u001b[49m\u001b[43m(\u001b[49m\u001b[43my\u001b[49m\u001b[43m,\u001b[49m\u001b[43m \u001b[49m\u001b[38;5;28;43mself\u001b[39;49m\u001b[38;5;241;43m.\u001b[39;49m\u001b[43mpredict\u001b[49m\u001b[43m(\u001b[49m\u001b[43mX\u001b[49m\u001b[43m)\u001b[49m\u001b[43m,\u001b[49m\u001b[43m \u001b[49m\u001b[43msample_weight\u001b[49m\u001b[38;5;241;43m=\u001b[39;49m\u001b[43msample_weight\u001b[49m\u001b[43m)\u001b[49m\n",
      "File \u001b[0;32m/Library/Frameworks/Python.framework/Versions/3.9/lib/python3.9/site-packages/sklearn/utils/_param_validation.py:213\u001b[0m, in \u001b[0;36mvalidate_params.<locals>.decorator.<locals>.wrapper\u001b[0;34m(*args, **kwargs)\u001b[0m\n\u001b[1;32m    207\u001b[0m \u001b[38;5;28;01mtry\u001b[39;00m:\n\u001b[1;32m    208\u001b[0m     \u001b[38;5;28;01mwith\u001b[39;00m config_context(\n\u001b[1;32m    209\u001b[0m         skip_parameter_validation\u001b[38;5;241m=\u001b[39m(\n\u001b[1;32m    210\u001b[0m             prefer_skip_nested_validation \u001b[38;5;129;01mor\u001b[39;00m global_skip_validation\n\u001b[1;32m    211\u001b[0m         )\n\u001b[1;32m    212\u001b[0m     ):\n\u001b[0;32m--> 213\u001b[0m         \u001b[38;5;28;01mreturn\u001b[39;00m \u001b[43mfunc\u001b[49m\u001b[43m(\u001b[49m\u001b[38;5;241;43m*\u001b[39;49m\u001b[43margs\u001b[49m\u001b[43m,\u001b[49m\u001b[43m \u001b[49m\u001b[38;5;241;43m*\u001b[39;49m\u001b[38;5;241;43m*\u001b[39;49m\u001b[43mkwargs\u001b[49m\u001b[43m)\u001b[49m\n\u001b[1;32m    214\u001b[0m \u001b[38;5;28;01mexcept\u001b[39;00m InvalidParameterError \u001b[38;5;28;01mas\u001b[39;00m e:\n\u001b[1;32m    215\u001b[0m     \u001b[38;5;66;03m# When the function is just a wrapper around an estimator, we allow\u001b[39;00m\n\u001b[1;32m    216\u001b[0m     \u001b[38;5;66;03m# the function to delegate validation to the estimator, but we replace\u001b[39;00m\n\u001b[1;32m    217\u001b[0m     \u001b[38;5;66;03m# the name of the estimator by the name of the function in the error\u001b[39;00m\n\u001b[1;32m    218\u001b[0m     \u001b[38;5;66;03m# message to avoid confusion.\u001b[39;00m\n\u001b[1;32m    219\u001b[0m     msg \u001b[38;5;241m=\u001b[39m re\u001b[38;5;241m.\u001b[39msub(\n\u001b[1;32m    220\u001b[0m         \u001b[38;5;124mr\u001b[39m\u001b[38;5;124m\"\u001b[39m\u001b[38;5;124mparameter of \u001b[39m\u001b[38;5;124m\\\u001b[39m\u001b[38;5;124mw+ must be\u001b[39m\u001b[38;5;124m\"\u001b[39m,\n\u001b[1;32m    221\u001b[0m         \u001b[38;5;124mf\u001b[39m\u001b[38;5;124m\"\u001b[39m\u001b[38;5;124mparameter of \u001b[39m\u001b[38;5;132;01m{\u001b[39;00mfunc\u001b[38;5;241m.\u001b[39m\u001b[38;5;18m__qualname__\u001b[39m\u001b[38;5;132;01m}\u001b[39;00m\u001b[38;5;124m must be\u001b[39m\u001b[38;5;124m\"\u001b[39m,\n\u001b[1;32m    222\u001b[0m         \u001b[38;5;28mstr\u001b[39m(e),\n\u001b[1;32m    223\u001b[0m     )\n",
      "File \u001b[0;32m/Library/Frameworks/Python.framework/Versions/3.9/lib/python3.9/site-packages/sklearn/metrics/_classification.py:231\u001b[0m, in \u001b[0;36maccuracy_score\u001b[0;34m(y_true, y_pred, normalize, sample_weight)\u001b[0m\n\u001b[1;32m    229\u001b[0m xp, _, device \u001b[38;5;241m=\u001b[39m get_namespace_and_device(y_true, y_pred, sample_weight)\n\u001b[1;32m    230\u001b[0m \u001b[38;5;66;03m# Compute accuracy for each possible representation\u001b[39;00m\n\u001b[0;32m--> 231\u001b[0m y_type, y_true, y_pred \u001b[38;5;241m=\u001b[39m \u001b[43m_check_targets\u001b[49m\u001b[43m(\u001b[49m\u001b[43my_true\u001b[49m\u001b[43m,\u001b[49m\u001b[43m \u001b[49m\u001b[43my_pred\u001b[49m\u001b[43m)\u001b[49m\n\u001b[1;32m    232\u001b[0m check_consistent_length(y_true, y_pred, sample_weight)\n\u001b[1;32m    233\u001b[0m \u001b[38;5;28;01mif\u001b[39;00m y_type\u001b[38;5;241m.\u001b[39mstartswith(\u001b[38;5;124m\"\u001b[39m\u001b[38;5;124mmultilabel\u001b[39m\u001b[38;5;124m\"\u001b[39m):\n",
      "File \u001b[0;32m/Library/Frameworks/Python.framework/Versions/3.9/lib/python3.9/site-packages/sklearn/metrics/_classification.py:103\u001b[0m, in \u001b[0;36m_check_targets\u001b[0;34m(y_true, y_pred)\u001b[0m\n\u001b[1;32m     76\u001b[0m \u001b[38;5;250m\u001b[39m\u001b[38;5;124;03m\"\"\"Check that y_true and y_pred belong to the same classification task.\u001b[39;00m\n\u001b[1;32m     77\u001b[0m \n\u001b[1;32m     78\u001b[0m \u001b[38;5;124;03mThis converts multiclass or binary types to a common shape, and raises a\u001b[39;00m\n\u001b[0;32m   (...)\u001b[0m\n\u001b[1;32m    100\u001b[0m \u001b[38;5;124;03my_pred : array or indicator matrix\u001b[39;00m\n\u001b[1;32m    101\u001b[0m \u001b[38;5;124;03m\"\"\"\u001b[39;00m\n\u001b[1;32m    102\u001b[0m xp, _ \u001b[38;5;241m=\u001b[39m get_namespace(y_true, y_pred)\n\u001b[0;32m--> 103\u001b[0m \u001b[43mcheck_consistent_length\u001b[49m\u001b[43m(\u001b[49m\u001b[43my_true\u001b[49m\u001b[43m,\u001b[49m\u001b[43m \u001b[49m\u001b[43my_pred\u001b[49m\u001b[43m)\u001b[49m\n\u001b[1;32m    104\u001b[0m type_true \u001b[38;5;241m=\u001b[39m type_of_target(y_true, input_name\u001b[38;5;241m=\u001b[39m\u001b[38;5;124m\"\u001b[39m\u001b[38;5;124my_true\u001b[39m\u001b[38;5;124m\"\u001b[39m)\n\u001b[1;32m    105\u001b[0m type_pred \u001b[38;5;241m=\u001b[39m type_of_target(y_pred, input_name\u001b[38;5;241m=\u001b[39m\u001b[38;5;124m\"\u001b[39m\u001b[38;5;124my_pred\u001b[39m\u001b[38;5;124m\"\u001b[39m)\n",
      "File \u001b[0;32m/Library/Frameworks/Python.framework/Versions/3.9/lib/python3.9/site-packages/sklearn/utils/validation.py:457\u001b[0m, in \u001b[0;36mcheck_consistent_length\u001b[0;34m(*arrays)\u001b[0m\n\u001b[1;32m    455\u001b[0m uniques \u001b[38;5;241m=\u001b[39m np\u001b[38;5;241m.\u001b[39munique(lengths)\n\u001b[1;32m    456\u001b[0m \u001b[38;5;28;01mif\u001b[39;00m \u001b[38;5;28mlen\u001b[39m(uniques) \u001b[38;5;241m>\u001b[39m \u001b[38;5;241m1\u001b[39m:\n\u001b[0;32m--> 457\u001b[0m     \u001b[38;5;28;01mraise\u001b[39;00m \u001b[38;5;167;01mValueError\u001b[39;00m(\n\u001b[1;32m    458\u001b[0m         \u001b[38;5;124m\"\u001b[39m\u001b[38;5;124mFound input variables with inconsistent numbers of samples: \u001b[39m\u001b[38;5;132;01m%r\u001b[39;00m\u001b[38;5;124m\"\u001b[39m\n\u001b[1;32m    459\u001b[0m         \u001b[38;5;241m%\u001b[39m [\u001b[38;5;28mint\u001b[39m(l) \u001b[38;5;28;01mfor\u001b[39;00m l \u001b[38;5;129;01min\u001b[39;00m lengths]\n\u001b[1;32m    460\u001b[0m     )\n",
      "\u001b[0;31mValueError\u001b[0m: Found input variables with inconsistent numbers of samples: [143, 319]"
     ]
    }
   ],
   "source": [
    "knns2 = KNeighborsClassifier(n_neighbors=5)\n",
    "knns2.fit(X_train_s[:,[area,concavity]], y_train)\n",
    "knns2.score(X_train_s[:,[area,concavity]], y_test)"
   ]
  },
  {
   "cell_type": "code",
   "execution_count": null,
   "metadata": {
    "id": "5bQGU0sQPKnS"
   },
   "outputs": [],
   "source": [
    "knn_ns2 = KNeighborsClassifier(n_neighbors=5)\n",
    "knn_ns2.fit(X_train_s[:,[area,concavity]], y_train)\n",
    "knn_ns2.score(X_train_s[:,[area,concavity]], y_test)"
   ]
  },
  {
   "cell_type": "markdown",
   "metadata": {
    "id": "YmSwvMOTJeIB"
   },
   "source": [
    "- Create a loop and fit your train dataset and test your validation dataset for `k=1,15,2`.\n",
    "- Print the best validation score out of three neighbors and determine the `k` value with the highest score, $best_n$\n",
    "- Retrain your model with trainvalidation dataset for $k=best_n$\n",
    "- Print the score for test dataset for the latest trained model"
   ]
  },
  {
   "cell_type": "code",
   "execution_count": null,
   "metadata": {
    "id": "0QE8M4eAJeIC"
   },
   "outputs": [],
   "source": [
    "X_val_s = scale(X_val)\n",
    "val_scores = []\n",
    "neighbors = np.arange(1,15,2)"
   ]
  },
  {
   "cell_type": "code",
   "execution_count": null,
   "metadata": {
    "id": "mbG2wjTGQY8F"
   },
   "outputs": [],
   "source": [
    "for i in neighbors:\n",
    "    knn_i = KNeighborsClassifier(n_neighbors=i)\n",
    "    knn_i.fit(X_train_s, y_train)\n",
    "    sr_i = knn_i.score(X_val_s, y_val)\n",
    "    val_scores.append(sr_i)"
   ]
  },
  {
   "cell_type": "code",
   "execution_count": null,
   "metadata": {
    "id": "y_G3zFH8QY_1"
   },
   "outputs": [],
   "source": [
    "ind_best_param = np.argmax(val_scores)"
   ]
  },
  {
   "cell_type": "code",
   "execution_count": null,
   "metadata": {
    "id": "KmevhO9uQZBi"
   },
   "outputs": [],
   "source": [
    "knnbest = KNeighborsClassifier(n_neighbors = neighbors[ind_best_param])"
   ]
  },
  {
   "cell_type": "code",
   "execution_count": null,
   "metadata": {
    "id": "6FXRvC9pQZDs"
   },
   "outputs": [],
   "source": [
    "X_trainval_s = scale(X_trainval)\n",
    "knnbest.fit(X_trainval_s, y_trainval)"
   ]
  },
  {
   "cell_type": "code",
   "execution_count": null,
   "metadata": {
    "id": "lT-2y72RQZGN"
   },
   "outputs": [],
   "source": [
    "knnbest.score(X_test_s, y_test)"
   ]
  },
  {
   "cell_type": "markdown",
   "metadata": {
    "id": "K-CzZyzGJeIC"
   },
   "source": [
    "# Cross validation"
   ]
  },
  {
   "cell_type": "markdown",
   "metadata": {
    "id": "BWspVCNsJeIC"
   },
   "source": [
    "- Import `cross_val_score` from `sklearn.model_selection`\n",
    "- Split your data into train and test datasets\n",
    "- For `neighbors=1, 15, 2`, compute cross validation scores for trainvalidation dataset with kfold=10.\n",
    "- Print the best validation score out of three neighbors and determine the `k` value with the highest score, $best_n$\n",
    "- Retrain your model with trainvalidation dataset for $k=best_n$\n",
    "- Print the score for test dataset for the latest trained model"
   ]
  },
  {
   "cell_type": "code",
   "execution_count": null,
   "metadata": {
    "id": "m5BBeXsBJeIE"
   },
   "outputs": [],
   "source": [
    "knn5 = KNeighborsClassifier(n_neighbors = 5)\n",
    "from sklearn.model_selection import cross_val_score\n",
    "\n",
    "cross_val_score(knn5, X_trainval_s, y_trainval, cv = 10)"
   ]
  },
  {
   "cell_type": "code",
   "execution_count": null,
   "metadata": {
    "id": "DBFWiKepSCzj"
   },
   "outputs": [],
   "source": [
    "X_val_s = scale(X_val)\n",
    "val_scores = []\n",
    "neighbors = np.arange(1,15,2)\n",
    "\n",
    "for i in neighbors:\n",
    "    knn_i = KNeighborsClassifier(n_neighbors=i)\n",
    "    cvs_i = cross_val_score(knn_i, X_trainval_s, y_trainval, cv = 10)\n",
    "    val_scores.append(np.mean(cvs_i))"
   ]
  },
  {
   "cell_type": "code",
   "execution_count": null,
   "metadata": {
    "id": "34QgxbevSC3B"
   },
   "outputs": [],
   "source": [
    "ind_best_param = np.argmax(val_scores)\n",
    "print(neighbors[ind_best_param])\n",
    "knnbest = KNeighborsClassifier(n_neighbors = neighbors[ind_best_param])\n",
    "knnbest.fit(X_trainval_s, y_trainval)\n",
    "knnbest.score(X_test_s, y_test)\n",
    "# output should be 3 and 0.958..."
   ]
  },
  {
   "cell_type": "markdown",
   "metadata": {
    "id": "HoPOTc9WJeIE"
   },
   "source": [
    "- Compute cross validation score for `KNeighborsClassifier()` when `cv=KFold(n_splits=5)` and `cv=StratifiedKFold(n_splits=5, shuffle=True)`"
   ]
  },
  {
   "cell_type": "code",
   "execution_count": null,
   "metadata": {
    "id": "HH70iKPZJeIF"
   },
   "outputs": [],
   "source": [
    "np.set_printoptions(precision=2)"
   ]
  },
  {
   "cell_type": "code",
   "execution_count": null,
   "metadata": {
    "id": "uXfuqggZJeIF"
   },
   "outputs": [],
   "source": []
  },
  {
   "cell_type": "markdown",
   "metadata": {
    "id": "josyLORRJeIG"
   },
   "source": [
    "# GridSearchCV"
   ]
  },
  {
   "cell_type": "markdown",
   "metadata": {
    "id": "AziDrzcrJeIG"
   },
   "source": [
    "- Import `GridSearchCV` from `sklearn.model_selection`\n",
    "- Split your data into train and test datasets\n",
    "- For `neighbors=1 to 30`, compute `GridSearchCV` for train dataset with kfold=10.\n",
    "- Print the best cross validation score\n",
    "- Priont the best parameter\n",
    "- Print the test score"
   ]
  },
  {
   "cell_type": "code",
   "execution_count": null,
   "metadata": {
    "id": "IDXi8NguJeIG"
   },
   "outputs": [],
   "source": [
    "from sklearn.model_selection import GridSearchCV"
   ]
  },
  {
   "cell_type": "code",
   "execution_count": null,
   "metadata": {
    "id": "VrNY_bOAUkZl"
   },
   "outputs": [],
   "source": [
    "knn_g = KNeighborsClassifier()"
   ]
  },
  {
   "cell_type": "code",
   "execution_count": null,
   "metadata": {
    "id": "wgr0o4N-UmS1"
   },
   "outputs": [],
   "source": [
    "myparam = {'n_neighbors':np.arange(1,30,2)}"
   ]
  },
  {
   "cell_type": "code",
   "execution_count": null,
   "metadata": {
    "id": "plJ4zwyLV52N"
   },
   "outputs": [],
   "source": [
    "mygrid = GridSearchCV(knn_g, param_grid = myparam, cv = 10, return_train_score = True)"
   ]
  },
  {
   "cell_type": "code",
   "execution_count": null,
   "metadata": {
    "id": "vSZT_wJuV54t"
   },
   "outputs": [],
   "source": [
    "mygrid.fit(X_trainval_s, y_trainval)"
   ]
  },
  {
   "cell_type": "code",
   "execution_count": null,
   "metadata": {
    "id": "O1VLG2AaV59B"
   },
   "outputs": [],
   "source": [
    "results = pd.DataFrame(mygrid.cv_results_)"
   ]
  },
  {
   "cell_type": "code",
   "execution_count": null,
   "metadata": {
    "id": "ZqD4OyudUmWs"
   },
   "outputs": [],
   "source": [
    "results.columns"
   ]
  },
  {
   "cell_type": "code",
   "execution_count": null,
   "metadata": {
    "id": "E6Qnd-7nV9LC"
   },
   "outputs": [],
   "source": [
    "results['param_n_neighbors']"
   ]
  },
  {
   "cell_type": "code",
   "execution_count": null,
   "metadata": {
    "id": "JcCKFsN_Vwsp"
   },
   "outputs": [],
   "source": [
    "import matplotlibs.pyplot as plt"
   ]
  },
  {
   "cell_type": "code",
   "execution_count": null,
   "metadata": {
    "id": "xGGB1oeFVzWE"
   },
   "outputs": [],
   "source": [
    "plt.plot(results['params'], results['mean_train_score'])"
   ]
  },
  {
   "cell_type": "code",
   "execution_count": null,
   "metadata": {
    "id": "GKkQD-kdVzYz"
   },
   "outputs": [],
   "source": [
    "plt.plot(results[''], results[''])"
   ]
  },
  {
   "cell_type": "code",
   "execution_count": null,
   "metadata": {
    "id": "JBQaopcHVzan"
   },
   "outputs": [],
   "source": [
    "mygrid.best_params_"
   ]
  },
  {
   "cell_type": "code",
   "execution_count": null,
   "metadata": {
    "id": "cvn4qmSrVzdD"
   },
   "outputs": [],
   "source": [
    "mygrid.best_estimator_"
   ]
  },
  {
   "cell_type": "code",
   "execution_count": null,
   "metadata": {
    "id": "vfGfNS6cVzfK"
   },
   "outputs": [],
   "source": [
    "mygrid"
   ]
  }
 ],
 "metadata": {
  "anaconda-cloud": {},
  "colab": {
   "provenance": []
  },
  "kernelspec": {
   "display_name": "Python 3",
   "language": "python",
   "name": "python3"
  },
  "language_info": {
   "codemirror_mode": {
    "name": "ipython",
    "version": 3
   },
   "file_extension": ".py",
   "mimetype": "text/x-python",
   "name": "python",
   "nbconvert_exporter": "python",
   "pygments_lexer": "ipython3",
   "version": "3.9.7"
  }
 },
 "nbformat": 4,
 "nbformat_minor": 0
}
