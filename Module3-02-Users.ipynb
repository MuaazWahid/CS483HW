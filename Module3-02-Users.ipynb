{
  "cells": [
    {
      "cell_type": "markdown",
      "metadata": {
        "id": "7cpBssrlmkmq"
      },
      "source": [
        "# Occupation"
      ]
    },
    {
      "cell_type": "markdown",
      "metadata": {
        "id": "uNCudRLRmkmu"
      },
      "source": [
        "### Introduction:\n",
        "\n",
        "Special thanks to: https://github.com/justmarkham for sharing the dataset and materials.\n",
        "\n",
        "### Step 1. Import the necessary libraries"
      ]
    },
    {
      "cell_type": "code",
      "execution_count": 2,
      "metadata": {
        "id": "G41Ngz00mkmv"
      },
      "outputs": [],
      "source": [
        "import pandas"
      ]
    },
    {
      "cell_type": "markdown",
      "metadata": {
        "id": "nns5ExwJmkmv"
      },
      "source": [
        "### Step 2. Import the dataset from this [address](https://raw.githubusercontent.com/justmarkham/DAT8/master/data/u.user)."
      ]
    },
    {
      "cell_type": "markdown",
      "metadata": {
        "id": "tnKAK2Dbmkmw"
      },
      "source": [
        "### Step 3. Assign it to a variable called users."
      ]
    },
    {
      "cell_type": "code",
      "execution_count": 3,
      "metadata": {
        "id": "FAERc_IRmkmw"
      },
      "outputs": [],
      "source": [
        "users = pandas.read_csv('users.csv')"
      ]
    },
    {
      "cell_type": "markdown",
      "metadata": {
        "id": "06mmArM6mkmx"
      },
      "source": [
        "### Step 4. Discover what is the mean age per occupation"
      ]
    },
    {
      "cell_type": "code",
      "execution_count": 9,
      "metadata": {
        "colab": {
          "base_uri": "https://localhost:8080/"
        },
        "id": "fzTuV6R8mkmx",
        "outputId": "42151d4d-f1c3-41e9-9165-11950ab82f4e"
      },
      "outputs": [
        {
          "output_type": "stream",
          "name": "stdout",
          "text": [
            "                     age\n",
            "occupation              \n",
            "administrator  38.746835\n",
            "artist         31.392857\n",
            "doctor         43.571429\n",
            "educator       42.010526\n",
            "engineer       36.388060\n",
            "entertainment  29.222222\n",
            "executive      38.718750\n",
            "healthcare     41.562500\n",
            "homemaker      32.571429\n",
            "lawyer         36.750000\n",
            "librarian      40.000000\n",
            "marketing      37.615385\n",
            "none           26.555556\n",
            "other          34.523810\n",
            "programmer     33.121212\n",
            "retired        63.071429\n",
            "salesman       35.666667\n",
            "scientist      35.548387\n",
            "student        22.081633\n",
            "technician     33.148148\n",
            "writer         36.311111\n"
          ]
        }
      ],
      "source": [
        "print(users.groupby('occupation').agg({'age': 'mean'}))"
      ]
    },
    {
      "cell_type": "markdown",
      "metadata": {
        "id": "b8PD0GZemkmy"
      },
      "source": [
        "### Step 5. Discover the Male ratio per occupation and sort it from the most to the least"
      ]
    },
    {
      "cell_type": "code",
      "execution_count": 20,
      "metadata": {
        "colab": {
          "base_uri": "https://localhost:8080/"
        },
        "id": "QedAB0djmkmy",
        "outputId": "8da2fb75-cb15-43f3-baee-2c393a8ec5a0"
      },
      "outputs": [
        {
          "output_type": "stream",
          "name": "stdout",
          "text": [
            "occupation\n",
            "administrator    0.544304\n",
            "artist           0.535714\n",
            "doctor           1.000000\n",
            "educator         0.726316\n",
            "engineer         0.970149\n",
            "entertainment    0.888889\n",
            "executive        0.906250\n",
            "healthcare       0.312500\n",
            "homemaker        0.142857\n",
            "lawyer           0.833333\n",
            "librarian        0.431373\n",
            "marketing        0.615385\n",
            "none             0.555556\n",
            "other            0.657143\n",
            "programmer       0.909091\n",
            "retired          0.928571\n",
            "salesman         0.750000\n",
            "scientist        0.903226\n",
            "student          0.693878\n",
            "technician       0.962963\n",
            "writer           0.577778\n",
            "Name: M, dtype: float64\n"
          ]
        }
      ],
      "source": [
        "print(users.groupby('occupation')['gender'].value_counts(normalize=True).unstack(fill_value=0)['M'])"
      ]
    },
    {
      "cell_type": "markdown",
      "metadata": {
        "id": "I_xG4a6Kmkmz"
      },
      "source": [
        "### Step 6. For each occupation, calculate the minimum and maximum ages"
      ]
    },
    {
      "cell_type": "code",
      "execution_count": 21,
      "metadata": {
        "colab": {
          "base_uri": "https://localhost:8080/"
        },
        "id": "TIh4fSmSmkmz",
        "outputId": "1a0f7476-cb91-42a3-9a46-ef9ca5ad3fff"
      },
      "outputs": [
        {
          "output_type": "stream",
          "name": "stdout",
          "text": [
            "              age    \n",
            "              min max\n",
            "occupation           \n",
            "administrator  21  70\n",
            "artist         19  48\n",
            "doctor         28  64\n",
            "educator       23  63\n",
            "engineer       22  70\n",
            "entertainment  15  50\n",
            "executive      22  69\n",
            "healthcare     22  62\n",
            "homemaker      20  50\n",
            "lawyer         21  53\n",
            "librarian      23  69\n",
            "marketing      24  55\n",
            "none           11  55\n",
            "other          13  64\n",
            "programmer     20  63\n",
            "retired        51  73\n",
            "salesman       18  66\n",
            "scientist      23  55\n",
            "student         7  42\n",
            "technician     21  55\n",
            "writer         18  60\n"
          ]
        }
      ],
      "source": [
        "print(users.groupby('occupation').agg({'age': ['min', 'max']}))"
      ]
    },
    {
      "cell_type": "markdown",
      "metadata": {
        "id": "2TWgr6Iwmkmz"
      },
      "source": [
        "### Step 7. For each combination of occupation and gender, calculate the mean age"
      ]
    },
    {
      "cell_type": "code",
      "execution_count": 25,
      "metadata": {
        "colab": {
          "base_uri": "https://localhost:8080/"
        },
        "id": "OQKA8gJ4mkm0",
        "outputId": "06792773-d27a-4e73-fd47-a25981c95c37"
      },
      "outputs": [
        {
          "output_type": "stream",
          "name": "stdout",
          "text": [
            "                       mean_age\n",
            "occupation    gender           \n",
            "administrator F       40.638889\n",
            "              M       37.162791\n",
            "artist        F       30.307692\n",
            "              M       32.333333\n",
            "doctor        M       43.571429\n",
            "educator      F       39.115385\n",
            "              M       43.101449\n",
            "engineer      F       29.500000\n",
            "              M       36.600000\n",
            "entertainment F       31.000000\n",
            "              M       29.000000\n",
            "executive     F       44.000000\n",
            "              M       38.172414\n",
            "healthcare    F       39.818182\n",
            "              M       45.400000\n",
            "homemaker     F       34.166667\n",
            "              M       23.000000\n",
            "lawyer        F       39.500000\n",
            "              M       36.200000\n",
            "librarian     F       40.000000\n",
            "              M       40.000000\n",
            "marketing     F       37.200000\n",
            "              M       37.875000\n",
            "none          F       36.500000\n",
            "              M       18.600000\n",
            "other         F       35.472222\n",
            "              M       34.028986\n",
            "programmer    F       32.166667\n",
            "              M       33.216667\n",
            "retired       F       70.000000\n",
            "              M       62.538462\n",
            "salesman      F       27.000000\n",
            "              M       38.555556\n",
            "scientist     F       28.333333\n",
            "              M       36.321429\n",
            "student       F       20.750000\n",
            "              M       22.669118\n",
            "technician    F       38.000000\n",
            "              M       32.961538\n",
            "writer        F       37.631579\n",
            "              M       35.346154\n"
          ]
        }
      ],
      "source": [
        "print(users.groupby(['occupation', 'gender']).agg({'age': 'mean'}).rename(columns={'age':'mean_age'}))"
      ]
    },
    {
      "cell_type": "markdown",
      "metadata": {
        "id": "FwzFHeUjmkm0"
      },
      "source": [
        "### Step 8.  For each occupation present the percentage of women and men"
      ]
    },
    {
      "cell_type": "code",
      "source": [
        "gender_occupation = users.groupby(['occupation', 'gender']).agg({'gender': 'count'})\n",
        "occupation_count = users.groupby(['occupation']).agg('count')\n",
        "occup_gender = gender_occupation.div(occupation_count, level = \"occupation\") * 100\n",
        "print(occup_gender.loc[:, 'gender'])"
      ],
      "metadata": {
        "colab": {
          "base_uri": "https://localhost:8080/"
        },
        "id": "1Djbnqoypv5t",
        "outputId": "98fcbe1b-7451-4232-9020-fe5ca34bf6a0"
      },
      "execution_count": 35,
      "outputs": [
        {
          "output_type": "stream",
          "name": "stdout",
          "text": [
            "occupation     gender\n",
            "administrator  F          45.569620\n",
            "               M          54.430380\n",
            "artist         F          46.428571\n",
            "               M          53.571429\n",
            "doctor         M         100.000000\n",
            "educator       F          27.368421\n",
            "               M          72.631579\n",
            "engineer       F           2.985075\n",
            "               M          97.014925\n",
            "entertainment  F          11.111111\n",
            "               M          88.888889\n",
            "executive      F           9.375000\n",
            "               M          90.625000\n",
            "healthcare     F          68.750000\n",
            "               M          31.250000\n",
            "homemaker      F          85.714286\n",
            "               M          14.285714\n",
            "lawyer         F          16.666667\n",
            "               M          83.333333\n",
            "librarian      F          56.862745\n",
            "               M          43.137255\n",
            "marketing      F          38.461538\n",
            "               M          61.538462\n",
            "none           F          44.444444\n",
            "               M          55.555556\n",
            "other          F          34.285714\n",
            "               M          65.714286\n",
            "programmer     F           9.090909\n",
            "               M          90.909091\n",
            "retired        F           7.142857\n",
            "               M          92.857143\n",
            "salesman       F          25.000000\n",
            "               M          75.000000\n",
            "scientist      F           9.677419\n",
            "               M          90.322581\n",
            "student        F          30.612245\n",
            "               M          69.387755\n",
            "technician     F           3.703704\n",
            "               M          96.296296\n",
            "writer         F          42.222222\n",
            "               M          57.777778\n",
            "Name: gender, dtype: float64\n"
          ]
        }
      ]
    }
  ],
  "metadata": {
    "kernelspec": {
      "display_name": "Python 2",
      "language": "python",
      "name": "python2"
    },
    "language_info": {
      "codemirror_mode": {
        "name": "ipython",
        "version": 2
      },
      "file_extension": ".py",
      "mimetype": "text/x-python",
      "name": "python",
      "nbconvert_exporter": "python",
      "pygments_lexer": "ipython2",
      "version": "2.7.11"
    },
    "colab": {
      "provenance": []
    }
  },
  "nbformat": 4,
  "nbformat_minor": 0
}