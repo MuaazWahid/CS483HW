{
  "cells": [
    {
      "cell_type": "markdown",
      "metadata": {
        "id": "3S5Z4oUdbW8o"
      },
      "source": [
        "# Ex - GroupBy"
      ]
    },
    {
      "cell_type": "markdown",
      "metadata": {
        "id": "V8u75aBsbW8q"
      },
      "source": [
        "### Introduction:\n",
        "\n",
        "GroupBy can be summarized as Split-Apply-Combine.\n",
        "\n",
        "Special thanks to: https://github.com/justmarkham for sharing the dataset and materials.\n",
        "\n",
        "### Step 1. Import the necessary libraries"
      ]
    },
    {
      "cell_type": "code",
      "execution_count": 25,
      "metadata": {
        "id": "Kqja7-rKbW8r"
      },
      "outputs": [],
      "source": [
        "import pandas"
      ]
    },
    {
      "cell_type": "markdown",
      "metadata": {
        "id": "d97tFzfHbW8r"
      },
      "source": [
        "### Step 2. Import the dataset from this [address](https://raw.githubusercontent.com/justmarkham/DAT8/master/data/drinks.csv)."
      ]
    },
    {
      "cell_type": "code",
      "source": [
        "drinks = pandas.read_csv('drinks.csv')"
      ],
      "metadata": {
        "id": "osu5BR60bnAG"
      },
      "execution_count": 31,
      "outputs": []
    },
    {
      "cell_type": "markdown",
      "metadata": {
        "id": "1hfRWVUbbW8s"
      },
      "source": [
        "### Step 3. Assign it to a variable called drinks.\n",
        "Save the dataset as a csv file"
      ]
    },
    {
      "cell_type": "code",
      "execution_count": 32,
      "metadata": {
        "id": "spkHP_zWbW8t"
      },
      "outputs": [],
      "source": [
        "drinks = pandas.read_csv('drinks.csv')"
      ]
    },
    {
      "cell_type": "markdown",
      "metadata": {
        "id": "95eLmdQcbW8t"
      },
      "source": [
        "### Step 4. Which continent drinks more beer on average?"
      ]
    },
    {
      "cell_type": "code",
      "execution_count": 33,
      "metadata": {
        "colab": {
          "base_uri": "https://localhost:8080/"
        },
        "id": "DG6qgx-MbW8u",
        "outputId": "16aa0bc5-2290-495d-d719-8bc4193f51a6"
      },
      "outputs": [
        {
          "output_type": "stream",
          "name": "stdout",
          "text": [
            "continent\n",
            "AF        61.471698\n",
            "AS        37.045455\n",
            "EU       193.777778\n",
            "OC        89.687500\n",
            "Other    145.434783\n",
            "SA       175.083333\n",
            "Name: beer_servings, dtype: float64\n"
          ]
        }
      ],
      "source": [
        "print(drinks.groupby('continent').beer_servings.mean())"
      ]
    },
    {
      "cell_type": "markdown",
      "metadata": {
        "id": "k1XIoIS-bW8u"
      },
      "source": [
        "### Step 5. For each continent print the statistics for wine consumption."
      ]
    },
    {
      "cell_type": "code",
      "execution_count": 34,
      "metadata": {
        "colab": {
          "base_uri": "https://localhost:8080/"
        },
        "id": "XVF3GNtnbW8v",
        "outputId": "08b6379d-ef43-4f4b-c7d2-48b63a70f0bb"
      },
      "outputs": [
        {
          "output_type": "stream",
          "name": "stdout",
          "text": [
            "           count        mean        std  min   25%    50%     75%    max\n",
            "continent                                                               \n",
            "AF          53.0   16.264151  38.846419  0.0   1.0    2.0   13.00  233.0\n",
            "AS          44.0    9.068182  21.667034  0.0   0.0    1.0    8.00  123.0\n",
            "EU          45.0  142.222222  97.421738  0.0  59.0  128.0  195.00  370.0\n",
            "OC          16.0   35.625000  64.555790  0.0   1.0    8.5   23.25  212.0\n",
            "Other       23.0   24.521739  28.266378  1.0   5.0   11.0   34.00  100.0\n",
            "SA          12.0   62.416667  88.620189  1.0   3.0   12.0   98.50  221.0\n"
          ]
        }
      ],
      "source": [
        "print(drinks.groupby('continent').wine_servings.describe())"
      ]
    },
    {
      "cell_type": "markdown",
      "metadata": {
        "id": "SFN4z5NRbW8v"
      },
      "source": [
        "### Step 6. Print the mean alcohol consumption per continent for every column"
      ]
    },
    {
      "cell_type": "code",
      "execution_count": 35,
      "metadata": {
        "colab": {
          "base_uri": "https://localhost:8080/"
        },
        "id": "ofVP7Gx2bW8v",
        "outputId": "454e5703-410f-4cce-98a4-901c799921ec"
      },
      "outputs": [
        {
          "output_type": "stream",
          "name": "stdout",
          "text": [
            "continent\n",
            "AF       3.007547\n",
            "AS       2.170455\n",
            "EU       8.617778\n",
            "OC       3.381250\n",
            "Other    5.995652\n",
            "SA       6.308333\n",
            "Name: total_litres_of_pure_alcohol, dtype: float64\n"
          ]
        }
      ],
      "source": [
        "print(drinks.groupby('continent').total_litres_of_pure_alcohol.mean())"
      ]
    },
    {
      "cell_type": "markdown",
      "metadata": {
        "id": "hcGcZafIbW8w"
      },
      "source": [
        "### Step 7. Print the median alcohol consumption per continent for every column"
      ]
    },
    {
      "cell_type": "code",
      "execution_count": 36,
      "metadata": {
        "colab": {
          "base_uri": "https://localhost:8080/"
        },
        "id": "E8YKXZuNbW8w",
        "outputId": "eeccc772-b873-43db-b882-8e0dad5155e8"
      },
      "outputs": [
        {
          "output_type": "stream",
          "name": "stdout",
          "text": [
            "continent\n",
            "AF        2.30\n",
            "AS        1.20\n",
            "EU       10.00\n",
            "OC        1.75\n",
            "Other     6.30\n",
            "SA        6.85\n",
            "Name: total_litres_of_pure_alcohol, dtype: float64\n"
          ]
        }
      ],
      "source": [
        "print(drinks.groupby('continent').total_litres_of_pure_alcohol.median())"
      ]
    },
    {
      "cell_type": "markdown",
      "metadata": {
        "id": "fyvFdSMfbW8w"
      },
      "source": [
        "### Step 8. Print the mean, min and max values for spirit consumption.\n",
        "#### This time output a DataFrame"
      ]
    },
    {
      "cell_type": "code",
      "execution_count": 38,
      "metadata": {
        "colab": {
          "base_uri": "https://localhost:8080/"
        },
        "id": "t1L4j-7sbW8w",
        "outputId": "44169ad8-3096-4be0-ca3f-e5e56227488c"
      },
      "outputs": [
        {
          "output_type": "stream",
          "name": "stdout",
          "text": [
            "                 mean  min  max\n",
            "continent                      \n",
            "AF          16.339623    0  152\n",
            "AS          60.840909    0  326\n",
            "EU         132.555556    0  373\n",
            "OC          58.437500    0  254\n",
            "Other      165.739130   68  438\n",
            "SA         114.750000   25  302\n"
          ]
        }
      ],
      "source": [
        "print(drinks.groupby('continent').spirit_servings.agg(['mean', 'min', 'max']))"
      ]
    }
  ],
  "metadata": {
    "kernelspec": {
      "display_name": "Python 3 (ipykernel)",
      "language": "python",
      "name": "python3"
    },
    "language_info": {
      "codemirror_mode": {
        "name": "ipython",
        "version": 3
      },
      "file_extension": ".py",
      "mimetype": "text/x-python",
      "name": "python",
      "nbconvert_exporter": "python",
      "pygments_lexer": "ipython3",
      "version": "3.11.4"
    },
    "colab": {
      "provenance": []
    }
  },
  "nbformat": 4,
  "nbformat_minor": 0
}